{
 "cells": [
  {
   "cell_type": "code",
   "execution_count": 1,
   "metadata": {},
   "outputs": [
    {
     "name": "stdout",
     "output_type": "stream",
     "text": [
      "Day 12 input already downloaded\n",
      "140\n"
     ]
    },
    {
     "data": {
      "text/plain": [
       "['OOOBBBBXXXXXXXOOOOOOOAAAAAAAAAOOOOUUUUUUUUUUUUUUUUJJIFFFIIIIRRRRRRRRRRRRRRRRRRRRRNNNVVVVVVVVVVVPPPPPPPPPPPPPDDDDRRDDDDVVVVVVVVVVVGGVVGVVVVVV',\n",
       " 'OOBBBBBXXXXXXOOOOOOOOOAAAAAAOOOOOOUUUUUUUUUUUUUUUUJJIFIIIIIIIRRRRAAARRRRRRRRRRRRRRVVVVVVVVVVVVVVPNNNNPPGPPPPDDDDDDDDDVVVVVVVVVVVVGGGVGGVVVVV',\n",
       " 'OBBBBBBXXBXXOOOOOOOOOOAAAAAAOOOOOOUUUUUUUUUUUUUUUUJJIIIIIIIIRRRRAAAARRRRRRRRRRRRRRVVVVVVVVVVVVVFNNNNNPPGGPDDDDDDDDDDPPPVVPVVVVVVGGGGGGVVVVVV',\n",
       " 'BBBBBBBBBBOOOOOOOOOOOOAAAAAAOOOOOOOOUUUUUUUUUUUUUUUIIIIIIIIRRRAAAAAAARRRRRRRGRRRRRRRVVVVVVVVVVVFNNNNNNPGGGGDBBDDDDDDDPPPPPPVVVGGGGGGGGGVVVVV',\n",
       " 'ZZBBBBBBBBOOOOOOOOOOOOAAAAAAAOOOOOOOUUUUUUUUUUUUUIIIIIIIIIIIAAAAAAAAAARRARRRRRRBRRRVVVVVVVVVVVVVNNNNNNNNGGGBBBDDDDDDDPPPPPPPVVGGGGGGGGGGGVVV',\n",
       " 'ZZBBBBBBBOOOOOODOOOOOOAAAAIIIROROOOOUUUUUUUUUUUUUUXIIIIIIIIIAAAAAAAAAAAAAAARRRRRRRRRVVVVVVVVVVVVNNNNNGGGGGGGBBWWWDDDDPPPPPPPGGGGGGGGGGGGGGVV',\n",
       " 'ZZBBZBBBZOOOOOOOOOOOOOAAAAAIIRROOOOUUUPUUUUUUUUUUUIIIIIIIIIIAAAAAAAAAAADDAARRRRRRRRRRSVVVVVVVVNNNNNNNGGGGGGGGGWWDDDDDPYPPPPPGGGGGGGGGGSGJXXV']"
      ]
     },
     "execution_count": 1,
     "metadata": {},
     "output_type": "execute_result"
    }
   ],
   "source": [
    "from AOC_utils import get_day\n",
    "import numpy as np\n",
    "\n",
    "day = 12\n",
    "input_data = get_day(day)\n",
    "\n",
    "# print out first few lines to get a feel for the data\n",
    "print(len(input_data))\n",
    "input_data[:7]"
   ]
  },
  {
   "cell_type": "code",
   "execution_count": 36,
   "metadata": {},
   "outputs": [],
   "source": [
    "# part 1\n",
    "example = '''\n",
    "AAAA\n",
    "BBCD\n",
    "BBCC\n",
    "EEEC\n",
    "'''.split('\\n')[1:-1]"
   ]
  },
  {
   "cell_type": "code",
   "execution_count": 34,
   "metadata": {},
   "outputs": [],
   "source": [
    "# part 1\n",
    "example = '''\n",
    "OOOOO\n",
    "OXOXO\n",
    "OOOOO\n",
    "OXOXO\n",
    "OOOOO\n",
    "'''.split('\\n')[1:-1]"
   ]
  },
  {
   "cell_type": "code",
   "execution_count": 43,
   "metadata": {},
   "outputs": [],
   "source": [
    "# part 1\n",
    "example = '''\n",
    "RRRRIICCFF\n",
    "RRRRIICCCF\n",
    "VVRRRCCFFF\n",
    "VVRCCCJFFF\n",
    "VVVVCJJCFE\n",
    "VVIVCCJJEE\n",
    "VVIIICJJEE\n",
    "MIIIIIJJEE\n",
    "MIIISIJEEE\n",
    "MMMISSJEEE\n",
    "'''.split('\\n')[1:-1]"
   ]
  },
  {
   "cell_type": "code",
   "execution_count": 103,
   "metadata": {},
   "outputs": [
    {
     "name": "stdout",
     "output_type": "stream",
     "text": [
      "part 1: 1930\n",
      "part 2: 1206\n"
     ]
    }
   ],
   "source": [
    "def solve_day(data):\n",
    "    part1 = 0\n",
    "    part2 = 0\n",
    "\n",
    "    data = np.array([[y for y in x] for x in data]) # 2d array\n",
    "    # pad with *\n",
    "    data = np.pad(data, 1, mode='constant', constant_values='*')\n",
    "    # print(data)\n",
    "\n",
    "    plot_kinds = np.unique(data)\n",
    "    # remove star\n",
    "    plot_kinds = plot_kinds[plot_kinds != '*']\n",
    "    # print(plot_kinds)\n",
    "\n",
    "    directions = np.array([[0, 1], [1, 0], [0, -1], [-1, 0]])\n",
    "\n",
    "    all_regions = []\n",
    "    region_types = []\n",
    "    for kind in plot_kinds:\n",
    "        where_data = np.zeros_like(data)\n",
    "        where_data[data == kind] = 1\n",
    "\n",
    "        where_kind = np.argwhere(data == kind)\n",
    "\n",
    "        regions = []\n",
    "        for plot in where_kind:\n",
    "            if not regions:\n",
    "                regions.append([plot])\n",
    "            else:\n",
    "                found_region = False\n",
    "                for i in range(len(regions)):\n",
    "                    for p in plot + directions:\n",
    "                        if np.all(p == regions[i], axis=-1).any():\n",
    "                            # print(kind, p, regions[i])\n",
    "                            regions[i].append(plot)\n",
    "                            found_region = True\n",
    "                            break\n",
    "                    if found_region:\n",
    "                        break\n",
    "                if not found_region:\n",
    "                    # print(kind, \"new region\", plot)\n",
    "                    regions.append([plot])\n",
    "\n",
    "        # some regions may be connected, so we need to merge them\n",
    "        for _ in range(4):\n",
    "            merged_regions = []\n",
    "            for region in regions:\n",
    "                if not merged_regions:\n",
    "                    merged_regions.append(region)\n",
    "                else:\n",
    "                    found_match = False\n",
    "                    for i in range(len(merged_regions)):\n",
    "                        for plot in region:\n",
    "                            for p in plot + directions:\n",
    "                                if np.all(p == merged_regions[i], axis=-1).any():\n",
    "                                    merged_regions[i].extend(region)\n",
    "                                    found_match = True\n",
    "                                    break\n",
    "                            if found_match:\n",
    "                                break\n",
    "                        if found_match:\n",
    "                            break\n",
    "                    if not found_match:\n",
    "                        merged_regions.append(region)\n",
    "\n",
    "            regions = merged_regions\n",
    "\n",
    "        all_regions.extend(regions)\n",
    "        region_types.extend([kind] * len(regions))\n",
    "        # print(regions)\n",
    "\n",
    "    areas = np.array([len(region) for region in all_regions])\n",
    "\n",
    "    all_regions = [np.array(region) for region in all_regions]\n",
    "\n",
    "    perimeters = []\n",
    "    for region in all_regions:\n",
    "        perimeter = 0\n",
    "        for plot in region:\n",
    "            for direction in directions:\n",
    "                neighbor = plot + direction\n",
    "                if data[neighbor[0], neighbor[1]] != data[plot[0], plot[1]]:\n",
    "                    perimeter += 1\n",
    "        perimeters.append(perimeter)\n",
    "    perimeters = np.array(perimeters)\n",
    "\n",
    "    sides = []\n",
    "    for region in all_regions:\n",
    "        side = 0\n",
    "        new_data = np.zeros(data.shape)\n",
    "        \n",
    "        new_data[region[:,0], region[:,1]] = 1\n",
    "        # new_data = new_data[~np.all(np.equal(new_data, 0), axis=1)]\n",
    "        # new_data = new_data[:,~np.all(np.equal(new_data, 0), axis=0)]\n",
    "\n",
    "        # pad with 0s\n",
    "        new_data = np.pad(new_data, 1, mode='constant', constant_values=0)\n",
    "\n",
    "        for i in range(1, len(new_data)-1):\n",
    "            topinside = False\n",
    "            botinside = False\n",
    "            leftinside = False\n",
    "            rightinside = False\n",
    "            for j in range(1, len(new_data[i])-1):\n",
    "                if new_data[i, j] == 1 and new_data[i-1, j] == 0:\n",
    "                    if not topinside:\n",
    "                        topinside = True\n",
    "                else:\n",
    "                    if topinside:\n",
    "                        side += 1\n",
    "                        topinside = False\n",
    "\n",
    "                if new_data[i, j] == 1 and new_data[i+1, j] == 0:\n",
    "                    if not botinside:\n",
    "                        botinside = True\n",
    "                else:\n",
    "                    if botinside:\n",
    "                        side += 1\n",
    "                        botinside = False\n",
    "\n",
    "                if new_data[j, i] == 1 and new_data[j, i-1] == 0:\n",
    "                    if not leftinside:\n",
    "                        leftinside = True\n",
    "                else:\n",
    "                    if leftinside:\n",
    "                        side += 1\n",
    "                        leftinside = False\n",
    "\n",
    "                if new_data[j, i] == 1 and new_data[j, i+1] == 0:\n",
    "                    if not rightinside:\n",
    "                        rightinside = True\n",
    "                else:\n",
    "                    if rightinside:\n",
    "                        side += 1\n",
    "                        rightinside = False\n",
    "\n",
    "        sides.append(side)\n",
    "\n",
    "    # print(region_types)\n",
    "    # print(areas)\n",
    "    # print(perimeters)\n",
    "    # print(sides)\n",
    "\n",
    "    part1 = np.sum(areas * perimeters)\n",
    "    part2 = np.sum(areas * sides)\n",
    "\n",
    "    print(\"part 1:\", part1)\n",
    "    print(\"part 2:\", part2)\n",
    "\n",
    "solve_day(example)"
   ]
  },
  {
   "cell_type": "code",
   "execution_count": 104,
   "metadata": {},
   "outputs": [
    {
     "name": "stdout",
     "output_type": "stream",
     "text": [
      "part 1: 1473620\n",
      "part 2: 902620\n"
     ]
    }
   ],
   "source": [
    "solve_day(input_data)"
   ]
  }
 ],
 "metadata": {
  "kernelspec": {
   "display_name": "Python 3",
   "language": "python",
   "name": "python3"
  },
  "language_info": {
   "codemirror_mode": {
    "name": "ipython",
    "version": 3
   },
   "file_extension": ".py",
   "mimetype": "text/x-python",
   "name": "python",
   "nbconvert_exporter": "python",
   "pygments_lexer": "ipython3",
   "version": "3.10.11"
  }
 },
 "nbformat": 4,
 "nbformat_minor": 2
}
