{
 "cells": [
  {
   "cell_type": "code",
   "execution_count": 1,
   "metadata": {},
   "outputs": [
    {
     "name": "stdout",
     "output_type": "stream",
     "text": [
      "Downloaded day 4 input\n",
      "140\n"
     ]
    },
    {
     "data": {
      "text/plain": [
       "['SSSMMSAMXSSSSSSMSSSSMAMSMMSMSMXSASMMMMAMXAXMAXXSSMSSSMSMMSXMAXXMAXSAMXMXMAXXMAAMMMMMAASXMSAMXMASMMSMSMSXXMSMSXAXMSMMSXASXSMMSMMXMMMMXMXAMMSX',\n",
       " 'XAAAASMSAAAASAAASAAXSAAAMMXAAAASAMXAMMSSSSSMXSAXSAAAASMAAXASMSMAMXAMASXMMSMSMMXSMAASAMXAXXXMAMXSXMSMSASMXAAAMMMAMXAASMXSAAMASASAMSAMAMXMSAMS',\n",
       " 'MSMMMSAMMMMMMSMMMMMMSMSMSAASMXMMAMSXSAAAXAAAAMAMMMMSMMXMMSXMAAAAXMXSAAAMAXXAAAASXSMXMASMMMSSSMAXAXSAMAMAMSMSMAMSMMMMMAXMMMMXSAMAMSASMSAAMXMA',\n",
       " 'XAAMXMAMXXAAMASXXXXAXMXXAAMXSAXMAMAAMMMXMSMMMMMMXMXMASXMMXMMSMSMSMAXMAMMASMSMMXSAMMSMAAXAAAAAMSSSMMAMMMAMXAMMXMAAAAAXSMMSXMMMXMXMSAMAMMMMAXM',\n",
       " 'MXMAXMAMMMSXSASMMAMMSMSAMMMASXMSXMMSMAMSXAXXAAAAASXAXAAAASAAXXXAXMASXSXAXXAAXXAMASAAMSMSXMMSXMAMASMMMAMAMMSMMXSSMMXMXMAXSASAAAMAMMSMMMSASXSX',\n",
       " 'AAMASMSSMAMMMAMMMASAAAMAXXMAMSASAMMMMMSAMXMSSSSSSSMMMSSMMAMXMMMMMSXSAMASMMSMMMXSAMMSMXMAXXMMMMASAMXMSXSASXMAMXXAXSASMSSMXASAMASXSAAXAASAXAAX',\n",
       " 'SASAXXMAMAXAMXMXSASMSMSXMXMAMAXSAMMSSMAXXMMAAMAMXMAMMAMXMMMMSMAMAXSMAMAXXAXAXXMMASXMXMAMMMMAXSASAXXMAASAMMSAMXMMMMAXASMAMMMMSXMAMXMSMXSASAMM']"
      ]
     },
     "execution_count": 1,
     "metadata": {},
     "output_type": "execute_result"
    }
   ],
   "source": [
    "from AOC_utils import get_day\n",
    "import numpy as np\n",
    "\n",
    "day = 4\n",
    "input_data = get_day(day)\n",
    "\n",
    "# print out first few lines to get a feel for the data\n",
    "print(len(input_data))\n",
    "input_data[:7]"
   ]
  },
  {
   "cell_type": "code",
   "execution_count": 59,
   "metadata": {},
   "outputs": [],
   "source": [
    "# part 1\n",
    "example = '''\n",
    "MMMSXXMASM\n",
    "MSAMXMSMSA\n",
    "AMXSXMAAMM\n",
    "MSAMASMSMX\n",
    "XMASAMXAMM\n",
    "XXAMMXXAMA\n",
    "SMSMSASXSS\n",
    "SAXAMASAAA\n",
    "MAMMMXMMMM\n",
    "MXMXAXMASX\n",
    "'''.split('\\n')[1:-1]"
   ]
  },
  {
   "cell_type": "code",
   "execution_count": 62,
   "metadata": {},
   "outputs": [
    {
     "name": "stdout",
     "output_type": "stream",
     "text": [
      "part 1: 18\n",
      "part 2: 9\n"
     ]
    }
   ],
   "source": [
    "def solve_day(data):\n",
    "    part1 = 0\n",
    "    part2 = 0\n",
    "\n",
    "    horizontal = data\n",
    "    vertical = [''.join([line[i] for line in data]) for i in range(len(data))]\n",
    "    np_data = np.array([list(line) for line in data])\n",
    "\n",
    "    def search_for_XMAS(line):\n",
    "        # count the number of XMAS in the line\n",
    "        return line.count('XMAS') + line.count('SAMX')\n",
    "    \n",
    "    for line in horizontal:\n",
    "        part1 += search_for_XMAS(line)\n",
    "\n",
    "    for line in vertical:\n",
    "        part1 += search_for_XMAS(line)\n",
    "\n",
    "    diagonals = [''.join(np.diagonal(np_data, i)) for i in range(-len(data)+1, len(data))]\n",
    "    diagonals2 = [''.join(np.diagonal(np_data[::-1].T, i)) for i in range(-len(data)+1, len(data))]\n",
    "\n",
    "    for line in diagonals:\n",
    "        part1 += search_for_XMAS(line)\n",
    "\n",
    "    for line in diagonals2:\n",
    "        part1 += search_for_XMAS(line)\n",
    "\n",
    "    cross = np.array(['M', '*', 'S', '*', 'A', '*',  'M', '*', 'S']).reshape(3, 3)\n",
    "    crosses = [cross]\n",
    "    for i in range(3):\n",
    "        cross = np.rot90(cross)\n",
    "        crosses.append(cross)\n",
    "    crosses = [cross.flatten()[::2] for cross in crosses]\n",
    "\n",
    "    for i in range(len(np_data)):\n",
    "        for j in range(len(np_data[0])):\n",
    "            if i < 1 or j < 1 or i == len(np_data) or j == len(np_data[0]):\n",
    "                continue\n",
    "\n",
    "            conv = np_data[i-1:i+2, j-1:j+2].flatten()[::2]\n",
    "\n",
    "            for cross in crosses:\n",
    "                if np.array_equal(conv, cross):\n",
    "                    part2 += 1\n",
    "\n",
    "    print(\"part 1:\", part1)\n",
    "    print(\"part 2:\", part2)\n",
    "\n",
    "solve_day(example)"
   ]
  },
  {
   "cell_type": "code",
   "execution_count": 63,
   "metadata": {},
   "outputs": [
    {
     "name": "stdout",
     "output_type": "stream",
     "text": [
      "part 1: 2427\n",
      "part 2: 1900\n"
     ]
    }
   ],
   "source": [
    "solve_day(input_data)"
   ]
  }
 ],
 "metadata": {
  "kernelspec": {
   "display_name": "Python 3",
   "language": "python",
   "name": "python3"
  },
  "language_info": {
   "codemirror_mode": {
    "name": "ipython",
    "version": 3
   },
   "file_extension": ".py",
   "mimetype": "text/x-python",
   "name": "python",
   "nbconvert_exporter": "python",
   "pygments_lexer": "ipython3",
   "version": "3.10.11"
  }
 },
 "nbformat": 4,
 "nbformat_minor": 2
}
