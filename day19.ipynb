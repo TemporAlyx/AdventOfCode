{
 "cells": [
  {
   "cell_type": "code",
   "execution_count": 1,
   "metadata": {},
   "outputs": [
    {
     "name": "stdout",
     "output_type": "stream",
     "text": [
      "Downloaded day 19 input\n"
     ]
    },
    {
     "data": {
      "text/plain": [
       "['xkv{a>2504:A,x<1530:R,A}',\n",
       " 'qz{a<1970:A,x>3109:A,a>2070:A,A}',\n",
       " 'mxz{s>699:R,s>378:R,A}',\n",
       " 'lhf{m<1064:drs,A}',\n",
       " 'cnm{a>3392:hml,x<3423:nd,x<3797:vjg,nfn}',\n",
       " 'tqg{a<247:A,x>3063:A,A}',\n",
       " 'vsk{m<3711:R,x<3262:A,m<3859:A,A}']"
      ]
     },
     "execution_count": 1,
     "metadata": {},
     "output_type": "execute_result"
    }
   ],
   "source": [
    "from AOC_utils import get_day\n",
    "import numpy as np\n",
    "\n",
    "day = 19\n",
    "input_data = get_day(day)\n",
    "\n",
    "# print out first few lines to get a feel for the data\n",
    "input_data[:7]"
   ]
  },
  {
   "cell_type": "code",
   "execution_count": 3,
   "metadata": {},
   "outputs": [],
   "source": [
    "example = '''\n",
    "px{a<2006:qkq,m>2090:A,rfg}\n",
    "pv{a>1716:R,A}\n",
    "lnx{m>1548:A,A}\n",
    "rfg{s<537:gd,x>2440:R,A}\n",
    "qs{s>3448:A,lnx}\n",
    "qkq{x<1416:A,crn}\n",
    "crn{x>2662:A,R}\n",
    "in{s<1351:px,qqz}\n",
    "qqz{s>2770:qs,m<1801:hdj,R}\n",
    "gd{a>3333:R,R}\n",
    "hdj{m>838:A,pv}\n",
    "\n",
    "{x=787,m=2655,a=1222,s=2876}\n",
    "{x=1679,m=44,a=2067,s=496}\n",
    "{x=2036,m=264,a=79,s=2244}\n",
    "{x=2461,m=1339,a=466,s=291}\n",
    "{x=2127,m=1623,a=2188,s=1013}\n",
    "'''.split('\\n')[1:-1]"
   ]
  },
  {
   "cell_type": "code",
   "execution_count": 2,
   "metadata": {},
   "outputs": [
    {
     "data": {
      "text/plain": [
       "708"
      ]
     },
     "execution_count": 2,
     "metadata": {},
     "output_type": "execute_result"
    }
   ],
   "source": [
    "len(input_data)"
   ]
  },
  {
   "cell_type": "code",
   "execution_count": 152,
   "metadata": {},
   "outputs": [],
   "source": [
    "def parse_data(data):\n",
    "\n",
    "    workflows = []\n",
    "    parts = []\n",
    "    line_break = False\n",
    "    for line in data:\n",
    "        if line == '':\n",
    "            line_break = True\n",
    "        elif line_break:\n",
    "            parts.append(line)\n",
    "        else:\n",
    "            workflows.append(line)\n",
    "\n",
    "    def parse_workflow(workflow):\n",
    "        name, workflow = workflow.split('{')\n",
    "        workflow = workflow.replace('}', '')\n",
    "        conditions = workflow.split(',')\n",
    "        else_condition = conditions[-1]\n",
    "        conditions = conditions[:-1]\n",
    "        conditions = [condition.split(':') for condition in conditions]\n",
    "        parsed_conditions = []\n",
    "        for condition in conditions:\n",
    "            var = condition[0][0]\n",
    "            operator = condition[0][1]\n",
    "            value = int(condition[0][2:])\n",
    "            parsed_conditions.append((var, operator, value, condition[1]))\n",
    "        parsed_conditions.append(('x', '>', -9999, else_condition))\n",
    "        return name, parsed_conditions\n",
    "    \n",
    "    workflow_dict = {}\n",
    "    for workflow in workflows:\n",
    "        name, conditions = parse_workflow(workflow)\n",
    "        workflow_dict[name] = conditions\n",
    "\n",
    "    def parse_part(part):\n",
    "        new_part = {}\n",
    "        part = part.replace('{', '').replace('}', '')\n",
    "        part = part.split(',')\n",
    "        for line in part:\n",
    "            line = line.split('=')\n",
    "            new_part[line[0]] = int(line[1])\n",
    "        return new_part\n",
    "    \n",
    "    parts = [parse_part(part) for part in parts]\n",
    "\n",
    "    # print(workflow_dict)\n",
    "    # print(parts)\n",
    "\n",
    "    total = 0\n",
    "    for part in parts:\n",
    "        output = 'in'\n",
    "        while output != 'R' and output != 'A':\n",
    "            for condition in workflow_dict[output]:\n",
    "                var, operator, value, resp = condition\n",
    "                if operator == '>':\n",
    "                    if part[var] > value:\n",
    "                        output = resp\n",
    "                        break\n",
    "                elif operator == '<':\n",
    "                    if part[var] < value:\n",
    "                        output = resp\n",
    "                        break\n",
    "        if output == 'A':\n",
    "            total += sum(part.values())\n",
    "\n",
    "\n",
    "\n",
    "    def part2_recursion(part_combo, workflow, wkf_idx):\n",
    "        var, operator, value, resp = workflow[wkf_idx]\n",
    "        var_keys = [key for key in part_combo.keys() if var in key.split('_')[1]]\n",
    "        if wkf_idx == len(workflow) - 1:\n",
    "            if resp == 'R':\n",
    "                return []\n",
    "            elif resp == 'A':\n",
    "                return [part_combo]\n",
    "            else:\n",
    "                return part2_recursion(part_combo, workflow_dict[resp], 0)\n",
    "        else:\n",
    "            min_var = part_combo[var_keys[0]]\n",
    "            max_var = part_combo[var_keys[1]]\n",
    "            if operator == '>':\n",
    "                if min_var > value:\n",
    "                    if resp == 'R':\n",
    "                        return []\n",
    "                    elif resp == 'A':\n",
    "                        return [part_combo]\n",
    "                    else:\n",
    "                        return part2_recursion(part_combo, workflow_dict[resp], 0)\n",
    "                elif max_var > value:\n",
    "                    new_part_combo = part_combo.copy()\n",
    "                    new_part_combo[var_keys[0]] = value + 1\n",
    "                    if resp == 'R':\n",
    "                        high_side = []\n",
    "                    elif resp == 'A':\n",
    "                        high_side = [new_part_combo]\n",
    "                    else:\n",
    "                        high_side = part2_recursion(new_part_combo, workflow_dict[resp], 0)\n",
    "                    new_part_combo2 = part_combo.copy()\n",
    "                    new_part_combo2[var_keys[1]] = value\n",
    "                    low_side = part2_recursion(new_part_combo2, workflow, wkf_idx+1)\n",
    "                    return high_side + low_side\n",
    "                else:\n",
    "                    return part2_recursion(part_combo, workflow, wkf_idx+1)\n",
    "            else: # operator == '<'\n",
    "                if max_var < value:\n",
    "                    if resp == 'R':\n",
    "                        return []\n",
    "                    elif resp == 'A':\n",
    "                        return [part_combo]\n",
    "                    else:\n",
    "                        return part2_recursion(part_combo, workflow_dict[resp], 0)\n",
    "                elif min_var < value:\n",
    "                    new_part_combo = part_combo.copy()\n",
    "                    new_part_combo[var_keys[1]] = value - 1\n",
    "                    if resp == 'R':\n",
    "                        low_side = []\n",
    "                    elif resp == 'A':\n",
    "                        low_side = [new_part_combo]\n",
    "                    else:\n",
    "                        low_side = part2_recursion(new_part_combo, workflow_dict[resp], 0)\n",
    "                    new_part_combo2 = part_combo.copy()\n",
    "                    new_part_combo2[var_keys[0]] = value\n",
    "                    high_side = part2_recursion(new_part_combo2, workflow, wkf_idx+1)\n",
    "                    return high_side + low_side\n",
    "                else:\n",
    "                    return part2_recursion(part_combo, workflow, wkf_idx+1)\n",
    "\n",
    "    part_combinations = part2_recursion({'min_x': 1, 'max_x': 4000, \n",
    "                                         'min_m': 1, 'max_m': 4000, \n",
    "                                         'min_a': 1, 'max_a': 4000, \n",
    "                                         'min_s': 1, 'max_s': 4000},\n",
    "                                        workflow_dict['in'], 0)\n",
    "\n",
    "    total2 = 0\n",
    "    for part_combo in part_combinations:\n",
    "        values = np.array(list(part_combo.values())).reshape(-1, 2)\n",
    "        values = np.abs(values[:, 0] - values[:, 1]).astype(np.int64) + 1\n",
    "        total2 += np.prod(values)\n",
    "\n",
    "    print(\"part 1:\", total)\n",
    "    print(\"part 2:\", total2)"
   ]
  },
  {
   "cell_type": "code",
   "execution_count": 154,
   "metadata": {},
   "outputs": [
    {
     "name": "stdout",
     "output_type": "stream",
     "text": [
      "part 1: 434147\n",
      "part 2: 136146366355609\n"
     ]
    }
   ],
   "source": [
    "parse_data(input_data)"
   ]
  },
  {
   "cell_type": "code",
   "execution_count": 153,
   "metadata": {},
   "outputs": [
    {
     "name": "stdout",
     "output_type": "stream",
     "text": [
      "part 1: 19114\n",
      "part 2: 167409079868000\n"
     ]
    }
   ],
   "source": [
    "parse_data(example)"
   ]
  }
 ],
 "metadata": {
  "kernelspec": {
   "display_name": "Python 3",
   "language": "python",
   "name": "python3"
  },
  "language_info": {
   "codemirror_mode": {
    "name": "ipython",
    "version": 3
   },
   "file_extension": ".py",
   "mimetype": "text/x-python",
   "name": "python",
   "nbconvert_exporter": "python",
   "pygments_lexer": "ipython3",
   "version": "3.10.11"
  }
 },
 "nbformat": 4,
 "nbformat_minor": 2
}
