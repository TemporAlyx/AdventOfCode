{
 "cells": [
  {
   "cell_type": "code",
   "execution_count": 1,
   "metadata": {},
   "outputs": [
    {
     "name": "stdout",
     "output_type": "stream",
     "text": [
      "Day 19 input already downloaded\n",
      "402\n"
     ]
    },
    {
     "data": {
      "text/plain": [
       "['ggbwrgwu, bbbgru, wwbg, gbuuruwu, bwww, r, guw, gwgg, ggbuwwr, wwb, wrwggwr, wwrbuwu, bgrr, urugr, bww, g, wurb, gwug, ruwg, gubw, bgbbwr, gurubr, www, uwww, brug, bwgr, bbgu, gbguuww, bgu, bgrbbrg, bbu, bwuwg, bbg, bgr, rgu, rwbbb, bwrw, gwg, buuwg, bbbwuu, bbwgb, ggwwr, wrww, wgr, bwb, ugr, gbwgwgbu, wggug, wuu, rbuw, rggww, gwrguu, gru, gubu, wbgbw, uwru, gggrr, gwwuw, wbbwrr, rgg, wbwgubrr, ruwuug, bbuw, gwbwgwgr, gguwrugr, urrbgg, ubwr, wwu, gbw, ggwbu, rug, bgb, ruur, bwg, wbgrrbu, wrrguww, rrbw, brb, gbg, rrrugrb, rrr, rwr, rbg, grwurw, wurr, gguu, ubuug, bgguuwwr, bwu, wwr, ggr, brgg, bugbrgu, ggu, w, bbubrw, ug, uwrru, wbwgrbu, wb, wgw, ruwbrg, bw, burgrurb, bwgb, wgg, bwrbbrww, rbu, wgb, ubu, brwgggbb, wbgbg, brrgb, rwb, bbbggwb, uwgggw, rr, brubr, wur, ubgrwww, rgwwb, gug, rgwbw, br, gwgbu, wurbwb, ubuggw, gwbw, ugbr, bbb, gubuu, bgbb, gwubrrb, bwwubwgg, bgg, urww, gwrw, ggubug, wgu, gur, bbug, bgbbw, gurgbu, rgubbwr, urb, uurwgwb, urrwww, uuu, rbrgw, wugug, wbugr, rgruurug, b, wrrrrg, bggr, wgbu, wwgu, wwwgbb, guwbr, uuwrwbb, rbw, rrwr, wggu, gguru, bwbb, uwbbu, uuug, rbb, ugwwggb, rbr, bguu, ggrgr, bbwb, rwg, ugb, ubugwbb, wbbgbg, ruu, ubrrg, ru, ggb, ubwbwru, uuww, brggwb, gb, uggw, grw, ubbrww, bbuwgbu, buurwu, wrurg, uug, uuw, rbwrg, wuwgw, wbgrgbu, rwuwug, rbbbbug, wruru, wuw, wuugr, rg, bbr, ggg, rrrwbrgg, grgbg, uubbr, wwbu, bbrw, wwg, ururrb, wrg, brurwu, gbr, wugww, wrrw, wru, rbwr, bbrbggwg, rwbgb, rgwuwu, ggwu, uru, gbu, rgwu, guur, rgw, gugwu, brrw, wuwg, wgbg, ububu, uwuuu, urg, rur, uubbww, urr, gw, rruru, bu, rwwr, ugg, gubuw, uuuu, brbwubg, bugu, ubuu, rbbbuu, rb, wbb, bru, bgruw, wggw, rrbrb, uwu, urw, wrb, gbubwb, rugb, wrwu, bbbgrg, bbgrgw, wwur, urwg, ubwb, buwrur, rbwbrb, gub, uuwrbu, rwrgu, wrwbub, uwubu, ubb, rgrugub, bwbwu, wu, ubgwb, wrub, bggwuu, rru, gwbrg, rwrbb, bbuugr, uwr, bwur, ubgu, gwb, uuwgb, bbww, wwrubwu, gwur, gbrrgww, brgwb, guug, gwwwrr, grbgrgrb, brgu, rwww, rbgr, ugubugu, rwbuw, wrbgbww, brrurg, rgrb, rgb, wguurb, rwbu, brw, uwrgu, bug, rbguw, guu, rrgu, gwbbgg, burg, rguw, wwwruubu, ugu, grg, ugw, gbrg, urbub, gwr, wgww, wbg, ww, rburwgg, wg, gbwu, gwbr, bwgub, bub, rub, uurbbwr, rwu, rbrbbu, bbwwuww, brg, ur, bbbw, uwg, bbwgwbbw, guwb, rbbwubb, rwbwg, rwbg, wbr, bwr, wbu, rbgwb, rrg, rgwub, rbwuuu, uw, guub, wrw, gubbrgr, gbb, ggw, ubugw, rgwg, uggb, wgwr, bbw, buu, ubw, uwwuru, gbrubur, uwguu, grrbbru, gbwbugg, bwrwgu, ggbuuug, gwbwwu, ggbbr, rrb, grrru, ubbwg, bg, ub, rww, ubg, gww, gwru, uugubb, wwrugubr, rwwru, wwbw, ubrwg, wwuwww, wgwwwrwg, rw, rwrwru, wrwbb, guruw, buw, ggwwug, gwbbg, rgurgw, bwuww, gwu, grb, grbgu, urwru, bwru, bgw, bwrurbw, rwuu, uur, bwgubrb, ruw, rbwb, brwruw, gr, rbwg, uwub, gbbub, ubgwbuur, urgbgb, ubgr, grgbrw, wgbug, wug, bubg, gg, rrwggg, bubu, bb, rbug, bburbu, brr, ubr, grwgu, bur, wr, grr, rgwbrb, wbw, bgbr, bgbrb, rrw, bgwwgb, ggrwr, wbggbr, gubbrbw, bbwg, uwb',\n",
       " '',\n",
       " 'uububurrububbrwruubububugbgwugrbrrrbbbwwbgwrbwgb',\n",
       " 'guubrggrburwrgbwurwubrugburwrubbgugbbguwgrbgubu',\n",
       " 'gbrbwgbguwbuwwrgburgggrbrbbubbbrwuwwbububurgruwu',\n",
       " 'ggruwgruwbrrwuurwwurbrbubbgrwrrguuwbgruwwbruuu',\n",
       " 'wbuwbwuwgwrwbgrwubbgrwgbugbubgbwwwrwgwuuuwgwwwu']"
      ]
     },
     "execution_count": 1,
     "metadata": {},
     "output_type": "execute_result"
    }
   ],
   "source": [
    "from AOC_utils import get_day\n",
    "import numpy as np\n",
    "\n",
    "day = 19\n",
    "input_data = get_day(day)\n",
    "\n",
    "# print out first few lines to get a feel for the data\n",
    "print(len(input_data))\n",
    "input_data[:7]"
   ]
  },
  {
   "cell_type": "code",
   "execution_count": 2,
   "metadata": {},
   "outputs": [],
   "source": [
    "example = '''\n",
    "r, wr, b, g, bwu, rb, gb, br\n",
    "\n",
    "brwrr\n",
    "bggr\n",
    "gbbr\n",
    "rrbgbr\n",
    "ubwu\n",
    "bwurrg\n",
    "brgr\n",
    "bbrgwb\n",
    "'''.split('\\n')[1:-1]"
   ]
  },
  {
   "cell_type": "code",
   "execution_count": 3,
   "metadata": {},
   "outputs": [
    {
     "name": "stdout",
     "output_type": "stream",
     "text": [
      "part 1: 6\n",
      "part 2: 16\n"
     ]
    }
   ],
   "source": [
    "def solve_day(data):\n",
    "    part1 = 0\n",
    "    part2 = 0\n",
    "\n",
    "    patterns = np.array(data[0].split(', '))\n",
    "    designs = np.array(data[2:])\n",
    "    \n",
    "    for d in range(len(designs)):\n",
    "        design = designs[d]\n",
    "        pattern_counts = np.array([design.count(p) for p in patterns])\n",
    "        matching_patterns = patterns[pattern_counts > 0]\n",
    "        # print(design, '\\t', sum(pattern_counts), '\\t', d/len(designs))\n",
    "\n",
    "        indices = np.zeros(len(design)+1, dtype=int)\n",
    "\n",
    "        idx = 0\n",
    "        for p in matching_patterns:\n",
    "            if design.startswith(p):\n",
    "                indices[len(p)] += 1\n",
    "\n",
    "        while idx < len(design):\n",
    "            if indices[idx] == 0:\n",
    "                idx += 1\n",
    "                continue\n",
    "            for p in matching_patterns:\n",
    "                if design[idx:idx+len(p)] == p:\n",
    "                    indices[idx+len(p)] += indices[idx]\n",
    "            idx += 1\n",
    "            \n",
    "        if indices[-1] > 0:\n",
    "            part1 += 1\n",
    "        part2 += indices[-1]\n",
    "        \n",
    "    print(\"part 1:\", part1)\n",
    "    print(\"part 2:\", part2)\n",
    "\n",
    "solve_day(example)"
   ]
  },
  {
   "cell_type": "code",
   "execution_count": 4,
   "metadata": {},
   "outputs": [
    {
     "name": "stdout",
     "output_type": "stream",
     "text": [
      "part 1: 333\n",
      "part 2: 678536865274732\n"
     ]
    }
   ],
   "source": [
    "solve_day(input_data)"
   ]
  }
 ],
 "metadata": {
  "kernelspec": {
   "display_name": "Python 3",
   "language": "python",
   "name": "python3"
  },
  "language_info": {
   "codemirror_mode": {
    "name": "ipython",
    "version": 3
   },
   "file_extension": ".py",
   "mimetype": "text/x-python",
   "name": "python",
   "nbconvert_exporter": "python",
   "pygments_lexer": "ipython3",
   "version": "3.13.0"
  }
 },
 "nbformat": 4,
 "nbformat_minor": 2
}
