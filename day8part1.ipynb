{
 "cells": [
  {
   "cell_type": "code",
   "execution_count": 2,
   "metadata": {},
   "outputs": [
    {
     "name": "stdout",
     "output_type": "stream",
     "text": [
      "Day 8 input already downloaded\n",
      "50\n"
     ]
    },
    {
     "data": {
      "text/plain": [
       "['.A...........5........................pL..........',\n",
       " '.................................p......L.........',\n",
       " '......................................L...........',\n",
       " '.......................................C..........',\n",
       " '........v...................7...............C.....',\n",
       " '..................................p........L......',\n",
       " '.................vA......3........................']"
      ]
     },
     "execution_count": 2,
     "metadata": {},
     "output_type": "execute_result"
    }
   ],
   "source": [
    "from AOC_utils import get_day\n",
    "import numpy as np\n",
    "\n",
    "day = 8\n",
    "input_data = get_day(day)\n",
    "\n",
    "# print out first few lines to get a feel for the data\n",
    "print(len(input_data))\n",
    "input_data[:7]"
   ]
  },
  {
   "cell_type": "code",
   "execution_count": 3,
   "metadata": {},
   "outputs": [],
   "source": [
    "# part 1\n",
    "example = '''\n",
    "............\n",
    "........0...\n",
    ".....0......\n",
    ".......0....\n",
    "....0.......\n",
    "......A.....\n",
    "............\n",
    "............\n",
    "........A...\n",
    ".........A..\n",
    "............\n",
    "............\n",
    "'''.split('\\n')[1:-1]"
   ]
  },
  {
   "cell_type": "code",
   "execution_count": 4,
   "metadata": {},
   "outputs": [
    {
     "name": "stdout",
     "output_type": "stream",
     "text": [
      "part 1: 14\n"
     ]
    }
   ],
   "source": [
    "def solve_day(data):\n",
    "    part1 = 0\n",
    "\n",
    "    data = np.array([[y for y in x] for x in data]) # 2d array\n",
    "    new_data = data.copy()\n",
    "\n",
    "    unique_antennas = np.unique(data[data != '.'])\n",
    "    \n",
    "    for antenna in unique_antennas:\n",
    "        all_antennas = np.argwhere(data == antenna)\n",
    "        antinodes = all_antennas[:,None] - all_antennas[None,:]\n",
    "\n",
    "        antinodes = antinodes[~np.all(antinodes.reshape(-1,2) == [0,0], axis=-1).reshape(antinodes.shape[:-1])].reshape(len(all_antennas), -1, 2)\n",
    "        all_antinodes = all_antennas[...,None] + antinodes.swapaxes(1,2)\n",
    "        all_antinodes = all_antinodes.swapaxes(1,2).reshape(-1, 2)\n",
    "\n",
    "        # remove antinodes that fall outside the grid\n",
    "        all_antinodes = all_antinodes[all_antinodes[:,0] >= 0]\n",
    "        all_antinodes = all_antinodes[all_antinodes[:,1] >= 0]\n",
    "        all_antinodes = all_antinodes[all_antinodes[:,0] < data.shape[0]]\n",
    "        all_antinodes = all_antinodes[all_antinodes[:,1] < data.shape[1]]\n",
    "\n",
    "        new_data[all_antinodes[:,0], all_antinodes[:,1]] = '#'\n",
    "\n",
    "    part1 += new_data[new_data == '#'].shape[0]\n",
    "    print(\"part 1:\", part1)\n",
    "\n",
    "solve_day(example)"
   ]
  },
  {
   "cell_type": "code",
   "execution_count": 5,
   "metadata": {},
   "outputs": [
    {
     "name": "stdout",
     "output_type": "stream",
     "text": [
      "part 1: 364\n"
     ]
    }
   ],
   "source": [
    "solve_day(input_data)"
   ]
  }
 ],
 "metadata": {
  "kernelspec": {
   "display_name": "Python 3",
   "language": "python",
   "name": "python3"
  },
  "language_info": {
   "codemirror_mode": {
    "name": "ipython",
    "version": 3
   },
   "file_extension": ".py",
   "mimetype": "text/x-python",
   "name": "python",
   "nbconvert_exporter": "python",
   "pygments_lexer": "ipython3",
   "version": "3.13.0"
  }
 },
 "nbformat": 4,
 "nbformat_minor": 2
}
