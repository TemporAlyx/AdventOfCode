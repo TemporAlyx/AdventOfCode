{
 "cells": [
  {
   "cell_type": "code",
   "execution_count": 1,
   "metadata": {},
   "outputs": [],
   "source": [
    "with open('day1input.txt') as f:\n",
    "    input_data = f.readlines()"
   ]
  },
  {
   "cell_type": "code",
   "execution_count": 2,
   "metadata": {},
   "outputs": [],
   "source": [
    "def parse_data(data):\n",
    "    outputs = []\n",
    "    for line in data:\n",
    "        new_num = ''\n",
    "        for char in line: # iterate through each char in each line to find the digits\n",
    "            if char.isdigit():\n",
    "                new_num += char # add digits to a new string\n",
    "        new_num = int(new_num[0] + new_num[-1]) # grab first and last digits and convert to int\n",
    "        outputs.append(new_num)\n",
    "    return sum(outputs)"
   ]
  },
  {
   "cell_type": "code",
   "execution_count": 3,
   "metadata": {},
   "outputs": [
    {
     "name": "stdout",
     "output_type": "stream",
     "text": [
      "part 1: 54634\n"
     ]
    }
   ],
   "source": [
    "print('part 1:', parse_data(input_data))"
   ]
  },
  {
   "cell_type": "code",
   "execution_count": 4,
   "metadata": {},
   "outputs": [],
   "source": [
    "def fix_data(data):\n",
    "    new_data = []\n",
    "    for line in data:\n",
    "        line = line.strip()\n",
    "\n",
    "        # need to replace words with numbers\n",
    "        # if words start or end with overlapping letters, would break (took me a bit to figure out why)\n",
    "        # so we just replace the word with extra words on either side of numbers, hacky, but it works\n",
    "        line = line.replace('one', 'one1one')\n",
    "        line = line.replace('two', 'two2two')\n",
    "        line = line.replace('three', 'three3three')\n",
    "        line = line.replace('four', 'four4four')\n",
    "        line = line.replace('five', 'five5five')\n",
    "        line = line.replace('six', 'six6six')\n",
    "        line = line.replace('seven', 'seven7seven')\n",
    "        line = line.replace('eight', 'eight8eight')\n",
    "        line = line.replace('nine', 'nine9nine')\n",
    "        # line = line.replace('zero', 'zero0zero')\n",
    "        \n",
    "        new_data.append(line)\n",
    "        \n",
    "    return new_data"
   ]
  },
  {
   "cell_type": "code",
   "execution_count": 5,
   "metadata": {},
   "outputs": [
    {
     "name": "stdout",
     "output_type": "stream",
     "text": [
      "part 2: 53855\n"
     ]
    }
   ],
   "source": [
    "print('part 2:', parse_data(fix_data(input_data)))"
   ]
  },
  {
   "cell_type": "code",
   "execution_count": 6,
   "metadata": {},
   "outputs": [],
   "source": [
    "example = '''\n",
    "1abc2\n",
    "pqr3stu8vwx\n",
    "a1b2c3d4e5f\n",
    "treb7uchet\n",
    "'''\n",
    "example = example.split('\\n')\n",
    "example = example[1:-1]"
   ]
  },
  {
   "cell_type": "code",
   "execution_count": 7,
   "metadata": {},
   "outputs": [
    {
     "name": "stdout",
     "output_type": "stream",
     "text": [
      "142\n"
     ]
    }
   ],
   "source": [
    "print(parse_data(example))"
   ]
  },
  {
   "cell_type": "code",
   "execution_count": 8,
   "metadata": {},
   "outputs": [],
   "source": [
    "example = '''\n",
    "two1nine\n",
    "eightwothree\n",
    "abcone2threexyz\n",
    "xtwone3four\n",
    "4nineeightseven2\n",
    "zoneight234\n",
    "7pqrstsixteen\n",
    "'''\n",
    "example = example.split('\\n')\n",
    "example = example[1:-1]"
   ]
  },
  {
   "cell_type": "code",
   "execution_count": 9,
   "metadata": {},
   "outputs": [
    {
     "name": "stdout",
     "output_type": "stream",
     "text": [
      "281\n"
     ]
    }
   ],
   "source": [
    "print(parse_data(fix_data(example)))"
   ]
  }
 ],
 "metadata": {
  "kernelspec": {
   "display_name": "Python 3",
   "language": "python",
   "name": "python3"
  },
  "language_info": {
   "codemirror_mode": {
    "name": "ipython",
    "version": 3
   },
   "file_extension": ".py",
   "mimetype": "text/x-python",
   "name": "python",
   "nbconvert_exporter": "python",
   "pygments_lexer": "ipython3",
   "version": "3.10.11"
  }
 },
 "nbformat": 4,
 "nbformat_minor": 2
}
