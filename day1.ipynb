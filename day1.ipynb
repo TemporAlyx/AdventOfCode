{
 "cells": [
  {
   "cell_type": "code",
   "execution_count": null,
   "metadata": {},
   "outputs": [
    {
     "name": "stdout",
     "output_type": "stream",
     "text": [
      "Downloaded day 1 input\n"
     ]
    },
    {
     "data": {
      "text/plain": [
       "['82728   61150',\n",
       " '39850   94024',\n",
       " '24609   43406',\n",
       " '24964   98661',\n",
       " '16230   17299',\n",
       " '29827   43603',\n",
       " '52378   90132']"
      ]
     },
     "execution_count": 34,
     "metadata": {},
     "output_type": "execute_result"
    }
   ],
   "source": [
    "from AOC_utils import get_day\n",
    "import numpy as np\n",
    "\n",
    "day = 1\n",
    "input_data = get_day(day, year=2024)\n",
    "\n",
    "# print out first few lines to get a feel for the data\n",
    "input_data[:7]\n",
    "print(len(input_data))"
   ]
  },
  {
   "cell_type": "code",
   "execution_count": 5,
   "metadata": {},
   "outputs": [],
   "source": [
    "example = '''\n",
    "3   4\n",
    "4   3\n",
    "2   5\n",
    "1   3\n",
    "3   9\n",
    "3   3\n",
    "'''.split('\\n')[1:-1]"
   ]
  },
  {
   "cell_type": "code",
   "execution_count": 30,
   "metadata": {},
   "outputs": [],
   "source": [
    "def parse_data(data):\n",
    "\n",
    "    data = [[int(x) for x in line.split()] for line in data]\n",
    "    data = np.array(data)\n",
    "\n",
    "    rank0 = np.sort(data[:, 0])\n",
    "    rank1 = np.sort(data[:, 1])\n",
    "\n",
    "    dist = np.abs(rank0 - rank1)\n",
    "    \n",
    "    total = sum(dist)\n",
    "    total2 = 0\n",
    "\n",
    "    unique0 = np.unique(rank0)\n",
    "\n",
    "    for u in unique0:\n",
    "        total2 += u * np.sum(rank1 == u)\n",
    "\n",
    "    print(\"part 1:\", total)\n",
    "    print(\"part 2:\", total2)"
   ]
  },
  {
   "cell_type": "code",
   "execution_count": 31,
   "metadata": {},
   "outputs": [
    {
     "name": "stdout",
     "output_type": "stream",
     "text": [
      "part 1: 2066446\n",
      "part 2: 24931009\n"
     ]
    }
   ],
   "source": [
    "parse_data(input_data)"
   ]
  },
  {
   "cell_type": "code",
   "execution_count": 32,
   "metadata": {},
   "outputs": [
    {
     "name": "stdout",
     "output_type": "stream",
     "text": [
      "part 1: 11\n",
      "part 2: 13\n"
     ]
    }
   ],
   "source": [
    "parse_data(example)"
   ]
  }
 ],
 "metadata": {
  "kernelspec": {
   "display_name": "Python 3",
   "language": "python",
   "name": "python3"
  },
  "language_info": {
   "codemirror_mode": {
    "name": "ipython",
    "version": 3
   },
   "file_extension": ".py",
   "mimetype": "text/x-python",
   "name": "python",
   "nbconvert_exporter": "python",
   "pygments_lexer": "ipython3",
   "version": "3.13.0"
  }
 },
 "nbformat": 4,
 "nbformat_minor": 2
}
