{
 "cells": [
  {
   "cell_type": "code",
   "execution_count": 2,
   "metadata": {},
   "outputs": [
    {
     "name": "stdout",
     "output_type": "stream",
     "text": [
      "Day 18 input already downloaded\n",
      "3450\n"
     ]
    },
    {
     "data": {
      "text/plain": [
       "['40,65', '17,1', '34,45', '31,51', '29,43', '25,9', '14,27']"
      ]
     },
     "execution_count": 2,
     "metadata": {},
     "output_type": "execute_result"
    }
   ],
   "source": [
    "from AOC_utils import get_day\n",
    "import numpy as np\n",
    "\n",
    "day = 18\n",
    "input_data = get_day(day)\n",
    "\n",
    "# print out first few lines to get a feel for the data\n",
    "print(len(input_data))\n",
    "input_data[:7]"
   ]
  },
  {
   "cell_type": "code",
   "execution_count": 3,
   "metadata": {},
   "outputs": [],
   "source": [
    "# part 1\n",
    "example = '''\n",
    "5,4\n",
    "4,2\n",
    "4,5\n",
    "3,0\n",
    "2,1\n",
    "6,3\n",
    "2,4\n",
    "1,5\n",
    "0,6\n",
    "3,3\n",
    "2,6\n",
    "5,1\n",
    "1,2\n",
    "5,5\n",
    "2,5\n",
    "6,5\n",
    "1,4\n",
    "0,4\n",
    "6,4\n",
    "1,1\n",
    "6,1\n",
    "1,0\n",
    "0,5\n",
    "1,6\n",
    "2,0\n",
    "'''.split('\\n')[1:-1]"
   ]
  },
  {
   "cell_type": "code",
   "execution_count": 29,
   "metadata": {},
   "outputs": [
    {
     "name": "stdout",
     "output_type": "stream",
     "text": [
      "part 1: 22\n",
      "part 2: 6,1\n"
     ]
    }
   ],
   "source": [
    "def solve_day(data, sim=1024, grid_size=70):\n",
    "    part1 = 0\n",
    "    part2 = 0\n",
    "\n",
    "    bits = np.array([line.split(',') for line in data], dtype=int)\n",
    "    # print(bits)\n",
    "\n",
    "    def get_shortest_path(n_bytes=sim):\n",
    "        grid = np.zeros((grid_size+1, grid_size+1), dtype=int)\n",
    "        grid[bits[:n_bytes, 1], bits[:n_bytes, 0]] = 1\n",
    "        # for line in grid:\n",
    "        #     print(''.join(['#' if x else '.' for x in line]))\n",
    "\n",
    "        start = [0, 0]\n",
    "        end = np.array([grid_size, grid_size])\n",
    "\n",
    "        directions = np.array([[0,1], [0,-1], [1,0], [-1,0]])\n",
    "        \n",
    "        np_paths = np.array([start])\n",
    "        visited = np.full((grid_size+1, grid_size+1), fill_value=np.inf)\n",
    "        visited[tuple(start)] = 0\n",
    "\n",
    "        np_directions = np.array(directions).transpose(1,0)[None,...]\n",
    "\n",
    "        bs = 32\n",
    "\n",
    "        while len(np_paths) > 0:\n",
    "            if visited[tuple(end)] != np.inf:\n",
    "                break\n",
    "            \n",
    "            np_paths = np_paths[np.argsort(np.sum(np_paths - end, axis=-1))[::-1]]\n",
    "\n",
    "            lengths = visited[np_paths[:bs,0], np_paths[:bs,1]]\n",
    "            new_paths = np_paths[:bs][...,None] + np_directions\n",
    "            new_paths = new_paths.transpose(0,2,1).reshape((-1,2))\n",
    "            lengths = np.repeat(lengths,4)\n",
    "            boo = ~np.bitwise_or(np.any(new_paths < 0, axis=-1), \n",
    "                                    np.any(new_paths > grid_size, axis=-1))\n",
    "            new_paths = new_paths[boo]; lengths = lengths[boo]\n",
    "            boo = grid[new_paths[:,0], new_paths[:,1]] == 0\n",
    "            new_paths = new_paths[boo]; lengths = lengths[boo]\n",
    "            boo = lengths+1 < visited[new_paths[:,0], new_paths[:,1]]\n",
    "            new_paths = new_paths[boo]\n",
    "            lengths = lengths[boo] + 1\n",
    "\n",
    "            visited[new_paths[:,0], new_paths[:,1]] = lengths\n",
    "\n",
    "            np_paths = np.concatenate([np_paths[bs:], new_paths], axis=0)\n",
    "\n",
    "        return visited[tuple(end)]\n",
    "\n",
    "    part1 = int(get_shortest_path(sim))\n",
    "    print(\"part 1:\", part1)\n",
    "\n",
    "\n",
    "    for i in range(sim, len(bits)):\n",
    "        if get_shortest_path(i) == np.inf:\n",
    "            part2 = str(bits[i-1][0]) + ',' + str(bits[i-1][1])\n",
    "            break\n",
    "        # if i % 100 == 0:\n",
    "        #     print(i/len(bits))\n",
    "\n",
    "    print(\"part 2:\", part2)\n",
    "\n",
    "solve_day(example, sim=12, grid_size=6)"
   ]
  },
  {
   "cell_type": "code",
   "execution_count": 30,
   "metadata": {},
   "outputs": [
    {
     "name": "stdout",
     "output_type": "stream",
     "text": [
      "part 1: 344\n",
      "part 2: 46,18\n"
     ]
    }
   ],
   "source": [
    "solve_day(input_data)"
   ]
  }
 ],
 "metadata": {
  "kernelspec": {
   "display_name": "Python 3",
   "language": "python",
   "name": "python3"
  },
  "language_info": {
   "codemirror_mode": {
    "name": "ipython",
    "version": 3
   },
   "file_extension": ".py",
   "mimetype": "text/x-python",
   "name": "python",
   "nbconvert_exporter": "python",
   "pygments_lexer": "ipython3",
   "version": "3.13.0"
  }
 },
 "nbformat": 4,
 "nbformat_minor": 2
}
