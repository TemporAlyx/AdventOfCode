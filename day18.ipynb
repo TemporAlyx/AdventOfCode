{
 "cells": [
  {
   "cell_type": "code",
   "execution_count": 1,
   "metadata": {},
   "outputs": [
    {
     "name": "stdout",
     "output_type": "stream",
     "text": [
      "Day 18 input already downloaded\n"
     ]
    },
    {
     "data": {
      "text/plain": [
       "['L 7 (#50a670)',\n",
       " 'U 3 (#1fa0d3)',\n",
       " 'R 7 (#50a672)',\n",
       " 'U 3 (#541033)',\n",
       " 'R 3 (#0578c0)',\n",
       " 'U 2 (#5c7e73)',\n",
       " 'R 5 (#5a82b2)']"
      ]
     },
     "execution_count": 1,
     "metadata": {},
     "output_type": "execute_result"
    }
   ],
   "source": [
    "from AOC_utils import get_day\n",
    "import numpy as np\n",
    "\n",
    "day = 18\n",
    "input_data = get_day(day)\n",
    "\n",
    "# print out first few lines to get a feel for the data\n",
    "input_data[:7]"
   ]
  },
  {
   "cell_type": "code",
   "execution_count": 2,
   "metadata": {},
   "outputs": [],
   "source": [
    "example = '''\n",
    "R 6 (#70c710)\n",
    "D 5 (#0dc571)\n",
    "L 2 (#5713f0)\n",
    "D 2 (#d2c081)\n",
    "R 2 (#59c680)\n",
    "D 2 (#411b91)\n",
    "L 5 (#8ceee2)\n",
    "U 2 (#caa173)\n",
    "L 1 (#1b58a2)\n",
    "U 2 (#caa171)\n",
    "R 2 (#7807d2)\n",
    "U 3 (#a77fa3)\n",
    "L 2 (#015232)\n",
    "U 2 (#7a21e3)\n",
    "'''.split('\\n')[1:-1]"
   ]
  },
  {
   "cell_type": "code",
   "execution_count": 23,
   "metadata": {},
   "outputs": [],
   "source": [
    "import shapely\n",
    "\n",
    "def parse_data(data):\n",
    "    data = [line.split(' ') for line in data]\n",
    "\n",
    "    start = (0,0)\n",
    "\n",
    "    vertices_part1 = [start]\n",
    "    vertices = [start]\n",
    "\n",
    "    int_to_direction = {0: 'R', 1: 'D', 2: 'L', 3: 'U'}\n",
    "    \n",
    "    for line in data:\n",
    "        distance = int(line[1])\n",
    "        direction = line[0]\n",
    "\n",
    "        end = start\n",
    "        if direction == 'R': end = (start[0] + distance, start[1])\n",
    "        elif direction == 'L': end = (start[0] - distance, start[1])\n",
    "        elif direction == 'U': end = (start[0], start[1] + distance)\n",
    "        elif direction == 'D': end = (start[0], start[1] - distance)\n",
    "        vertices_part1.append(end)\n",
    "        start = end\n",
    "\n",
    "    for line in data:\n",
    "        hex_code = line[2][2:-1]\n",
    "        distance = int(hex_code[:-1], 16)\n",
    "        direction = int_to_direction[int(hex_code[-1], 16)]\n",
    "\n",
    "        end = start\n",
    "        if direction == 'R': end = (start[0] + distance, start[1])\n",
    "        elif direction == 'L': end = (start[0] - distance, start[1])\n",
    "        elif direction == 'U': end = (start[0], start[1] + distance)\n",
    "        elif direction == 'D': end = (start[0], start[1] - distance)\n",
    "        \n",
    "        vertices.append(end)\n",
    "        start = end\n",
    "\n",
    "    shape_part1 = shapely.geometry.Polygon(vertices_part1)\n",
    "    shape = shapely.geometry.Polygon(vertices)\n",
    "\n",
    "    total = int((shape_part1.area - (shape_part1.length / 2) + 1) + shape_part1.length)\n",
    "    total2 = int((shape.area - (shape.length / 2) + 1) + shape.length)\n",
    "\n",
    "    print(\"part 1:\", total)\n",
    "    print(\"part 2:\", total2)"
   ]
  },
  {
   "cell_type": "code",
   "execution_count": 25,
   "metadata": {},
   "outputs": [
    {
     "name": "stdout",
     "output_type": "stream",
     "text": [
      "part 1: 35401\n",
      "part 2: 48020869073824\n"
     ]
    }
   ],
   "source": [
    "parse_data(input_data)"
   ]
  },
  {
   "cell_type": "code",
   "execution_count": 24,
   "metadata": {},
   "outputs": [
    {
     "name": "stdout",
     "output_type": "stream",
     "text": [
      "part 1: 62\n",
      "part 2: 952408144115\n"
     ]
    }
   ],
   "source": [
    "parse_data(example)"
   ]
  }
 ],
 "metadata": {
  "kernelspec": {
   "display_name": "Python 3",
   "language": "python",
   "name": "python3"
  },
  "language_info": {
   "codemirror_mode": {
    "name": "ipython",
    "version": 3
   },
   "file_extension": ".py",
   "mimetype": "text/x-python",
   "name": "python",
   "nbconvert_exporter": "python",
   "pygments_lexer": "ipython3",
   "version": "3.10.11"
  }
 },
 "nbformat": 4,
 "nbformat_minor": 2
}
