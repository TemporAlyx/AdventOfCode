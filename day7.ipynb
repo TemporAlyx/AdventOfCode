{
 "cells": [
  {
   "cell_type": "code",
   "execution_count": 2,
   "metadata": {},
   "outputs": [
    {
     "name": "stdout",
     "output_type": "stream",
     "text": [
      "Day 7 input already downloaded\n",
      "850\n"
     ]
    },
    {
     "data": {
      "text/plain": [
       "['2382106471: 2 8 175 1 17 3 5 9 4 51 5',\n",
       " '864708004: 278 22 259 2 12 3',\n",
       " '1659517050: 33 8 9 673 51 967',\n",
       " '5331437: 5 3 305 89 849',\n",
       " '97828: 8 6 6 3 5 70 4 696 5 91 3',\n",
       " '793977: 7 93 977',\n",
       " '21316689: 8 8 3 833 67 22 19 19']"
      ]
     },
     "execution_count": 2,
     "metadata": {},
     "output_type": "execute_result"
    }
   ],
   "source": [
    "from AOC_utils import get_day\n",
    "import numpy as np\n",
    "\n",
    "day = 7\n",
    "input_data = get_day(day)\n",
    "\n",
    "# print out first few lines to get a feel for the data\n",
    "print(len(input_data))\n",
    "input_data[:7]"
   ]
  },
  {
   "cell_type": "code",
   "execution_count": 3,
   "metadata": {},
   "outputs": [],
   "source": [
    "# part 1\n",
    "example = '''\n",
    "190: 10 19\n",
    "3267: 81 40 27\n",
    "83: 17 5\n",
    "156: 15 6\n",
    "7290: 6 8 6 15\n",
    "161011: 16 10 13\n",
    "192: 17 8 14\n",
    "21037: 9 7 18 13\n",
    "292: 11 6 16 20\n",
    "'''.split('\\n')[1:-1]"
   ]
  },
  {
   "cell_type": "code",
   "execution_count": 43,
   "metadata": {},
   "outputs": [
    {
     "name": "stdout",
     "output_type": "stream",
     "text": [
      "part 1: 3749\n",
      "part 2: 11387\n"
     ]
    }
   ],
   "source": [
    "def solve_day(data, part2=False):\n",
    "    output = 0\n",
    "\n",
    "    mapping = []\n",
    "\n",
    "    for line in data:\n",
    "        line = line.split(': ')\n",
    "        mapping.append((int(line[0]), [int(x) for x in line[1].split(' ')]))\n",
    "\n",
    "    for key, values in mapping:\n",
    "        sub_values = []\n",
    "        sub_values.append(values[0])\n",
    "        for i in range(1, len(values)):\n",
    "            current_size = len(sub_values)\n",
    "            for j in range(current_size):\n",
    "                s = sub_values[j]\n",
    "                mult = s * values[i]\n",
    "                if mult <= key:\n",
    "                    sub_values.append(s * values[i])\n",
    "                add = s + values[i]\n",
    "                if add <= key:\n",
    "                    sub_values.append(s + values[i])\n",
    "                if part2:\n",
    "                    sub_values.append(int(str(s) + str(values[i])))\n",
    "            sub_values = sub_values[current_size:]\n",
    "        if key in sub_values:\n",
    "            output += key\n",
    "\n",
    "    if part2:\n",
    "        return output\n",
    "    else:\n",
    "        print(\"part 1:\", output)\n",
    "        print(\"part 2:\", solve_day(data, part2=True))\n",
    "\n",
    "solve_day(example)"
   ]
  },
  {
   "cell_type": "code",
   "execution_count": 44,
   "metadata": {},
   "outputs": [
    {
     "name": "stdout",
     "output_type": "stream",
     "text": [
      "part 1: 267566105056\n",
      "part 2: 116094961956019\n"
     ]
    }
   ],
   "source": [
    "solve_day(input_data)"
   ]
  }
 ],
 "metadata": {
  "kernelspec": {
   "display_name": "Python 3",
   "language": "python",
   "name": "python3"
  },
  "language_info": {
   "codemirror_mode": {
    "name": "ipython",
    "version": 3
   },
   "file_extension": ".py",
   "mimetype": "text/x-python",
   "name": "python",
   "nbconvert_exporter": "python",
   "pygments_lexer": "ipython3",
   "version": "3.13.0"
  }
 },
 "nbformat": 4,
 "nbformat_minor": 2
}
