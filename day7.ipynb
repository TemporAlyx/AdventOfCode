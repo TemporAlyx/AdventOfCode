{
 "cells": [
  {
   "cell_type": "code",
   "execution_count": 1,
   "metadata": {},
   "outputs": [
    {
     "name": "stdout",
     "output_type": "stream",
     "text": [
      "Downloaded day 7 input\n"
     ]
    },
    {
     "data": {
      "text/plain": [
       "['J2566 131',\n",
       " 'K7KK7 272',\n",
       " '2K222 74',\n",
       " '44T55 467',\n",
       " '33433 226',\n",
       " 'T9999 92',\n",
       " '77979 209']"
      ]
     },
     "execution_count": 1,
     "metadata": {},
     "output_type": "execute_result"
    }
   ],
   "source": [
    "from AOC_utils import get_day\n",
    "import numpy as np\n",
    "\n",
    "day = 7\n",
    "input_data = get_day(day)\n",
    "\n",
    "# print out first few lines to get a feel for the data\n",
    "input_data[:7]"
   ]
  },
  {
   "cell_type": "code",
   "execution_count": 2,
   "metadata": {},
   "outputs": [],
   "source": [
    "example = '''\n",
    "32T3K 765\n",
    "T55J5 684\n",
    "KK677 28\n",
    "KTJJT 220\n",
    "QQQJA 483\n",
    "'''.split('\\n')[1:-1]"
   ]
  },
  {
   "cell_type": "code",
   "execution_count": 251,
   "metadata": {},
   "outputs": [],
   "source": [
    "def parse_data(data):\n",
    "    total = 0\n",
    "\n",
    "    data = np.array([line.split(\" \") for line in data])\n",
    "\n",
    "\n",
    "    def get_hand_value(hand):\n",
    "        cards = list(hand)\n",
    "\n",
    "        # replace letters with numbers\n",
    "        new_cards = []\n",
    "        for card in cards:\n",
    "            if card == 'A': new_cards.append(14)\n",
    "            elif card == 'K': new_cards.append(13)\n",
    "            elif card == 'Q': new_cards.append(12)\n",
    "            elif card == 'J': new_cards.append(1) # part 2 swap 1 and 11\n",
    "            elif card == 'T': new_cards.append(10)\n",
    "            else: new_cards.append(int(card))\n",
    "        cards = new_cards\n",
    "\n",
    "        # find the most matching cards\n",
    "        most_matching_cards = 0\n",
    "        most_matched_card = 0\n",
    "        for card in cards:\n",
    "            if cards.count(card) > most_matching_cards and card != 1: # part 2 remove and card != 1\n",
    "                most_matching_cards = cards.count(card)\n",
    "                most_matched_card = card\n",
    "\n",
    "        most_matching_cards += cards.count(1) # part 2 add 1s to most_matching_cards\n",
    "\n",
    "        # find the second most matching cards (for full house and 2 pair)\n",
    "        next_matching_cards = 0\n",
    "        for card in cards:\n",
    "            if cards.count(card) > next_matching_cards and card != most_matched_card and card != 1: # part 2 remove and card != 1\n",
    "                next_matching_cards = cards.count(card)\n",
    "\n",
    "        # start with the base value of the hand, using extra digits to store the cards such that sorting the values will sort the hands\n",
    "        relative_value = (cards[0] * 1e8) + (cards[1] * 1e6) + (cards[2] * 1e4) + (cards[3] * 1e2) + (cards[4])\n",
    "\n",
    "        # check for 5 of a kind\n",
    "        if most_matching_cards == 5:\n",
    "            relative_value += (50*1e10)\n",
    "        # check for 4 of a kind\n",
    "        elif most_matching_cards == 4:\n",
    "            relative_value += (40*1e10)\n",
    "        # check for full house and 3 of a kind\n",
    "        elif most_matching_cards == 3: \n",
    "            if next_matching_cards == 2: relative_value += (35*1e10)\n",
    "            else: relative_value += (30*1e10)\n",
    "        # check for 2 pair and 1 pair\n",
    "        elif most_matching_cards == 2:\n",
    "            if next_matching_cards == 2: relative_value += (25*1e10)\n",
    "            else: relative_value += (20*1e10)\n",
    "\n",
    "        return relative_value\n",
    "\n",
    "    # get all the hand values\n",
    "    hand_values = []\n",
    "    for hand, bid in data:\n",
    "        hand_values.append(get_hand_value(hand))\n",
    "\n",
    "    hand_values = np.array(hand_values)\n",
    "    sort_order = hand_values.argsort()\n",
    "\n",
    "    # sort the bets by the hands\n",
    "    sorted_bets = np.array([int(x) for x in data[:,1]])[sort_order]\n",
    "\n",
    "    # multiply the bets by their rankings and sum them\n",
    "    total = (sorted_bets * np.arange(1, len(sorted_bets)+1)).sum().astype(np.int64)\n",
    "\n",
    "    # print(\"part 1:\", total)\n",
    "    print(\"part 2:\", total)"
   ]
  },
  {
   "cell_type": "code",
   "execution_count": 252,
   "metadata": {},
   "outputs": [
    {
     "name": "stdout",
     "output_type": "stream",
     "text": [
      "part 2: 251037509\n"
     ]
    }
   ],
   "source": [
    "parse_data(input_data)"
   ]
  },
  {
   "cell_type": "code",
   "execution_count": 253,
   "metadata": {},
   "outputs": [
    {
     "name": "stdout",
     "output_type": "stream",
     "text": [
      "part 2: 5905\n"
     ]
    }
   ],
   "source": [
    "parse_data(example)"
   ]
  }
 ],
 "metadata": {
  "kernelspec": {
   "display_name": "Python 3",
   "language": "python",
   "name": "python3"
  },
  "language_info": {
   "codemirror_mode": {
    "name": "ipython",
    "version": 3
   },
   "file_extension": ".py",
   "mimetype": "text/x-python",
   "name": "python",
   "nbconvert_exporter": "python",
   "pygments_lexer": "ipython3",
   "version": "3.10.11"
  }
 },
 "nbformat": 4,
 "nbformat_minor": 2
}
