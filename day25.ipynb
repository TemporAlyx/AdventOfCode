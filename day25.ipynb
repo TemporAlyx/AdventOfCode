{
 "cells": [
  {
   "cell_type": "code",
   "execution_count": 1,
   "metadata": {},
   "outputs": [
    {
     "name": "stdout",
     "output_type": "stream",
     "text": [
      "Downloaded day 25 input\n",
      "3999\n"
     ]
    },
    {
     "data": {
      "text/plain": [
       "['#####', '##.##', '#..#.', '.....', '.....', '.....', '.....']"
      ]
     },
     "execution_count": 1,
     "metadata": {},
     "output_type": "execute_result"
    }
   ],
   "source": [
    "from AOC_utils import get_day\n",
    "import numpy as np\n",
    "\n",
    "day = 25\n",
    "input_data = get_day(day)\n",
    "\n",
    "# print out first few lines to get a feel for the data\n",
    "print(len(input_data))\n",
    "input_data[:7]"
   ]
  },
  {
   "cell_type": "code",
   "execution_count": 2,
   "metadata": {},
   "outputs": [],
   "source": [
    "example = '''\n",
    "#####\n",
    ".####\n",
    ".####\n",
    ".####\n",
    ".#.#.\n",
    ".#...\n",
    ".....\n",
    "\n",
    "#####\n",
    "##.##\n",
    ".#.##\n",
    "...##\n",
    "...#.\n",
    "...#.\n",
    ".....\n",
    "\n",
    ".....\n",
    "#....\n",
    "#....\n",
    "#...#\n",
    "#.#.#\n",
    "#.###\n",
    "#####\n",
    "\n",
    ".....\n",
    ".....\n",
    "#.#..\n",
    "###..\n",
    "###.#\n",
    "###.#\n",
    "#####\n",
    "\n",
    ".....\n",
    ".....\n",
    ".....\n",
    "#....\n",
    "#.#..\n",
    "#.#.#\n",
    "#####\n",
    "'''.split('\\n')[1:-1]"
   ]
  },
  {
   "cell_type": "code",
   "execution_count": 14,
   "metadata": {},
   "outputs": [
    {
     "name": "stdout",
     "output_type": "stream",
     "text": [
      "(3, 2)\n",
      "[[False False]\n",
      " [False  True]\n",
      " [ True  True]]\n",
      "part 1: 3\n",
      "part 2: 0\n"
     ]
    }
   ],
   "source": [
    "def solve_day(data):\n",
    "    part1 = 0\n",
    "    part2 = 0\n",
    "\n",
    "    locks = []\n",
    "    keys = []\n",
    "    in_key = False\n",
    "    in_lock = False\n",
    "    new_key = []\n",
    "    new_lock = []\n",
    "\n",
    "    data.append('')\n",
    "    for line in data:\n",
    "        if line == '':\n",
    "            in_key = False\n",
    "            in_lock = False\n",
    "            if new_key:\n",
    "                keys.append(new_key)\n",
    "                new_key = []\n",
    "            if new_lock:\n",
    "                locks.append(new_lock)\n",
    "                new_lock = []\n",
    "        elif not in_key and not in_lock:\n",
    "            if line[0] == '#':\n",
    "                in_lock = True\n",
    "                new_lock.append(list(line))\n",
    "            else:\n",
    "                in_key = True\n",
    "                new_key.append(list(line))\n",
    "        elif in_key:\n",
    "            new_key.append(list(line))\n",
    "        elif in_lock:\n",
    "            new_lock.append(list(line))\n",
    "\n",
    "    keys = np.array(keys)\n",
    "    locks = np.array(locks)\n",
    "\n",
    "    keys = (keys == '#').astype(int)\n",
    "    locks = (locks == '#').astype(int)\n",
    "\n",
    "    # print(keys, keys.shape)\n",
    "    # print(locks, locks.shape)\n",
    "\n",
    "\n",
    "    locks_by_keys = keys[..., None] + locks[None, ...].transpose(0, 2, 3, 1)\n",
    "    locks_by_keys = np.all(locks_by_keys != 2, axis=(1, 2))\n",
    "\n",
    "    print(locks_by_keys.shape)\n",
    "\n",
    "    print(locks_by_keys)\n",
    "\n",
    "    part1 = locks_by_keys.sum()\n",
    "\n",
    "    \n",
    "\n",
    "    print(\"part 1:\", part1)\n",
    "    print(\"part 2:\", part2)\n",
    "\n",
    "solve_day(example)"
   ]
  },
  {
   "cell_type": "code",
   "execution_count": 15,
   "metadata": {},
   "outputs": [
    {
     "name": "stdout",
     "output_type": "stream",
     "text": [
      "(250, 250)\n",
      "[[ True  True  True ...  True False False]\n",
      " [False False False ... False False False]\n",
      " [False False False ... False False  True]\n",
      " ...\n",
      " [False False False ... False False False]\n",
      " [False False False ... False False False]\n",
      " [ True  True  True ...  True  True False]]\n",
      "part 1: 3090\n",
      "part 2: 0\n"
     ]
    }
   ],
   "source": [
    "solve_day(input_data)"
   ]
  },
  {
   "cell_type": "code",
   "execution_count": null,
   "metadata": {},
   "outputs": [],
   "source": []
  }
 ],
 "metadata": {
  "kernelspec": {
   "display_name": "Python 3",
   "language": "python",
   "name": "python3"
  },
  "language_info": {
   "codemirror_mode": {
    "name": "ipython",
    "version": 3
   },
   "file_extension": ".py",
   "mimetype": "text/x-python",
   "name": "python",
   "nbconvert_exporter": "python",
   "pygments_lexer": "ipython3",
   "version": "3.10.11"
  }
 },
 "nbformat": 4,
 "nbformat_minor": 2
}
