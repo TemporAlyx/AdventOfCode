{
 "cells": [
  {
   "cell_type": "code",
   "execution_count": 1,
   "metadata": {},
   "outputs": [
    {
     "name": "stdout",
     "output_type": "stream",
     "text": [
      "Day 23 input already downloaded\n"
     ]
    },
    {
     "data": {
      "text/plain": [
       "['#.###########################################################################################################################################',\n",
       " '#.#...#...#...#######...#####.......#...###...#...........###...#...#.......#...#...#...#...#.......#...#####...###...#...###...............#',\n",
       " '#.#.#.#.#.#.#.#######.#.#####.#####.#.#.###.#.#.#########.###.#.#.#.#.#####.#.#.#.#.#.#.#.#.#.#####.#.#.#####.#.###.#.#.#.###.#############.#',\n",
       " '#.#.#.#.#.#.#.....###.#...#...#.....#.#.#...#.#.........#...#.#.#.#.#.#.....#.#.#.#.#.#.#.#...#.....#.#.###...#...#.#...#.....#...#.........#',\n",
       " '#.#.#.#.#.#.#####.###.###.#.###.#####.#.#.###.#########.###.#.#.#.#.#.#.#####.#.#.#.#.#.#.#####.#####.#.###.#####.#.###########.#.#.#########',\n",
       " '#.#.#.#.#...#...#...#...#.#.#...#...#.#...#...#...#...#...#.#.#.#.#.#.#.#...#.#.#.#.#.#.#...#...#...#.#.#...#.....#...........#.#...#...#...#',\n",
       " '#.#.#.#.#####.#.###.###.#.#.#.###.#.#.#####.###.#.#.#.###.#.#.#.#.#.#.#.#.#.#.#.#.#.#.#.###.#.###.#.#.#.#.###.###############.#.#####.#.#.#.#']"
      ]
     },
     "execution_count": 1,
     "metadata": {},
     "output_type": "execute_result"
    }
   ],
   "source": [
    "from AOC_utils import get_day\n",
    "import numpy as np\n",
    "\n",
    "day = 23\n",
    "input_data = get_day(day)\n",
    "\n",
    "# print out first few lines to get a feel for the data\n",
    "input_data[:7]"
   ]
  },
  {
   "cell_type": "code",
   "execution_count": 2,
   "metadata": {},
   "outputs": [],
   "source": [
    "example = '''\n",
    "#.#####################\n",
    "#.......#########...###\n",
    "#######.#########.#.###\n",
    "###.....#.>.>.###.#.###\n",
    "###v#####.#v#.###.#.###\n",
    "###.>...#.#.#.....#...#\n",
    "###v###.#.#.#########.#\n",
    "###...#.#.#.......#...#\n",
    "#####.#.#.#######.#.###\n",
    "#.....#.#.#.......#...#\n",
    "#.#####.#.#.#########v#\n",
    "#.#...#...#...###...>.#\n",
    "#.#.#v#######v###.###v#\n",
    "#...#.>.#...>.>.#.###.#\n",
    "#####v#.#.###v#.#.###.#\n",
    "#.....#...#...#.#.#...#\n",
    "#.#########.###.#.#.###\n",
    "#...###...#...#...#.###\n",
    "###.###.#.###v#####v###\n",
    "#...#...#.#.>.>.#.>.###\n",
    "#.###.###.#.###.#.#v###\n",
    "#.....###...###...#...#\n",
    "#####################.#\n",
    "'''.split('\\n')[1:-1]"
   ]
  },
  {
   "cell_type": "code",
   "execution_count": 3,
   "metadata": {},
   "outputs": [
    {
     "data": {
      "text/plain": [
       "141"
      ]
     },
     "execution_count": 3,
     "metadata": {},
     "output_type": "execute_result"
    }
   ],
   "source": [
    "len(input_data)"
   ]
  },
  {
   "cell_type": "code",
   "execution_count": 7,
   "metadata": {},
   "outputs": [],
   "source": [
    "def parse_data(data):\n",
    "\n",
    "    grid = np.array([list(line) for line in data])\n",
    "\n",
    "    # print(np.any(grid == 'v'))\n",
    "    # print(np.any(grid == '>'))\n",
    "    # print(np.any(grid == '^'))\n",
    "    # print(np.any(grid == '<'))\n",
    "\n",
    "    is_rock = grid == '#'\n",
    "    is_downhill_down = grid == 'v' \n",
    "    is_downhill_right = grid == '>'\n",
    "\n",
    "    start = (0, 1)\n",
    "    end = (len(grid)-1, len(grid)-2)\n",
    "\n",
    "    history_grid = np.zeros_like(grid, dtype=bool)\n",
    "    history_grid[start] = True\n",
    "    paths_at = [(0, start, history_grid)]\n",
    "    longest_path_to_end = 0\n",
    "\n",
    "    while paths_at:\n",
    "        # new_paths = paths_at[:,:,None] + directions\n",
    "        path = paths_at.pop()\n",
    "        length, current_pos, history = path\n",
    "        for direction in [(0,1), (1,0), (0,-1), (-1,0)]:\n",
    "            new_pos = (current_pos[0] + direction[0], current_pos[1] + direction[1])\n",
    "            new_length = length + 1\n",
    "            new_history = history.copy()\n",
    "            if is_rock[new_pos] or new_history[new_pos]:\n",
    "                continue\n",
    "\n",
    "            for downhill, shift in zip([is_downhill_down, is_downhill_right], [(1,0), (0,1)]):\n",
    "                if downhill[new_pos]:\n",
    "                    new_history[new_pos] = True\n",
    "                    new_pos = (new_pos[0] + shift[0], new_pos[1] + shift[1])\n",
    "                    new_length += 1\n",
    "            if is_rock[new_pos] or new_history[new_pos]:\n",
    "                continue\n",
    "\n",
    "            new_history[new_pos] = True\n",
    "\n",
    "            if new_pos == end:\n",
    "                if new_length > longest_path_to_end:\n",
    "                    longest_path_to_end = new_length\n",
    "                    # print(longest_path_to_end)\n",
    "                # final_paths.append((new_length, new_history))\n",
    "                continue\n",
    "\n",
    "            paths_at.append((new_length, new_pos, new_history))\n",
    "\n",
    "    # print(final_paths)\n",
    "    # for path in final_paths:\n",
    "    #     new_grid = grid.copy()\n",
    "    #     for pos in path[1]:\n",
    "    #         new_grid[pos] = 'O'\n",
    "    #     for line in new_grid:\n",
    "    #         print(''.join(line))\n",
    "    #     print(len(path[1]))\n",
    "            \n",
    "    total = longest_path_to_end\n",
    "    print(\"part 1:\", total)"
   ]
  },
  {
   "cell_type": "code",
   "execution_count": 9,
   "metadata": {},
   "outputs": [
    {
     "name": "stdout",
     "output_type": "stream",
     "text": [
      "part 1: 2238\n"
     ]
    }
   ],
   "source": [
    "parse_data(input_data)"
   ]
  },
  {
   "cell_type": "code",
   "execution_count": 8,
   "metadata": {},
   "outputs": [
    {
     "name": "stdout",
     "output_type": "stream",
     "text": [
      "part 1: 94\n"
     ]
    }
   ],
   "source": [
    "parse_data(example)"
   ]
  }
 ],
 "metadata": {
  "kernelspec": {
   "display_name": "Python 3",
   "language": "python",
   "name": "python3"
  },
  "language_info": {
   "codemirror_mode": {
    "name": "ipython",
    "version": 3
   },
   "file_extension": ".py",
   "mimetype": "text/x-python",
   "name": "python",
   "nbconvert_exporter": "python",
   "pygments_lexer": "ipython3",
   "version": "3.10.11"
  }
 },
 "nbformat": 4,
 "nbformat_minor": 2
}
