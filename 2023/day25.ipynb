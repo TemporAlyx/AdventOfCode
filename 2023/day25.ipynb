{
 "cells": [
  {
   "cell_type": "code",
   "execution_count": 1,
   "metadata": {},
   "outputs": [
    {
     "name": "stdout",
     "output_type": "stream",
     "text": [
      "Downloaded day 25 input\n"
     ]
    },
    {
     "data": {
      "text/plain": [
       "['fmj: cgz bbd jmx xdz',\n",
       " 'qfn: vmq ljd rjg vdn',\n",
       " 'mxs: sll rhj vnk klq',\n",
       " 'xvp: qnc vxq',\n",
       " 'kmq: qvz fcr sdx',\n",
       " 'nns: dzx gxz mgd fmh',\n",
       " 'xfg: hks nxj trg pmc']"
      ]
     },
     "execution_count": 1,
     "metadata": {},
     "output_type": "execute_result"
    }
   ],
   "source": [
    "from AOC_utils import get_day\n",
    "import numpy as np\n",
    "\n",
    "day = 25\n",
    "input_data = get_day(day)\n",
    "\n",
    "# print out first few lines to get a feel for the data\n",
    "input_data[:7]"
   ]
  },
  {
   "cell_type": "code",
   "execution_count": 2,
   "metadata": {},
   "outputs": [],
   "source": [
    "example = '''\n",
    "jqt: rhn xhk nvd\n",
    "rsh: frs pzl lsr\n",
    "xhk: hfx\n",
    "cmg: qnr nvd lhk bvb\n",
    "rhn: xhk bvb hfx\n",
    "bvb: xhk hfx\n",
    "pzl: lsr hfx nvd\n",
    "qnr: nvd\n",
    "ntq: jqt hfx bvb xhk\n",
    "nvd: lhk\n",
    "lsr: lhk\n",
    "rzs: qnr cmg lsr rsh\n",
    "frs: qnr lhk lsr\n",
    "'''.split('\\n')[1:-1]"
   ]
  },
  {
   "cell_type": "code",
   "execution_count": 3,
   "metadata": {},
   "outputs": [
    {
     "data": {
      "text/plain": [
       "1249"
      ]
     },
     "execution_count": 3,
     "metadata": {},
     "output_type": "execute_result"
    }
   ],
   "source": [
    "len(input_data)"
   ]
  },
  {
   "cell_type": "code",
   "execution_count": 4,
   "metadata": {},
   "outputs": [
    {
     "data": {
      "text/plain": [
       "1948441249"
      ]
     },
     "execution_count": 4,
     "metadata": {},
     "output_type": "execute_result"
    }
   ],
   "source": [
    "1249 ** 3"
   ]
  },
  {
   "cell_type": "code",
   "execution_count": 122,
   "metadata": {},
   "outputs": [],
   "source": [
    "def parse_data(data):\n",
    "\n",
    "    components = []\n",
    "    for line in data:\n",
    "        components.append(line.split(': '))\n",
    "    components = {x[0]:x[1].split(' ') for x in components}\n",
    "    \n",
    "    all_comp = set()\n",
    "    for x in components.values():\n",
    "        all_comp.update(x)\n",
    "    for x in components.keys():\n",
    "        all_comp.add(x)\n",
    "\n",
    "    nodes = {x:[] for x in all_comp}\n",
    "    for key, value in components.items():\n",
    "        for v in value:\n",
    "            nodes[key].append(v)\n",
    "            nodes[v].append(key)\n",
    "\n",
    "    links = []\n",
    "    for key, value in components.items():\n",
    "        for v in value:\n",
    "            links.append((key, v))\n",
    "\n",
    "    # for each link, we create two groups from either side, and then count how many times the groups intersect\n",
    "    def linkage_importance(link):\n",
    "        group1 = set([link[0]])\n",
    "        group2 = set([link[1]])\n",
    "        intersections = 0\n",
    "\n",
    "        while group1.union(group2) != all_comp:\n",
    "            # get all the node connections for each group\n",
    "            new_nodes1 = [nodes[x] for x in group1]\n",
    "            new_nodes2 = [nodes[x] for x in group2]\n",
    "\n",
    "            # remove any nodes already in the groups\n",
    "            new_nodes1 = set([item for sublist in new_nodes1 for item in sublist if item not in group1 and item not in group2])\n",
    "            new_nodes2 = set([item for sublist in new_nodes2 for item in sublist if item not in group1 and item not in group2])\n",
    "\n",
    "            # print(new_nodes1, new_nodes2)\n",
    "\n",
    "            # count how many of the new nodes intersection with the other new nodes\n",
    "            new_node_overlap = [x for x in new_nodes1 if x in new_nodes2]\n",
    "            intersections += len(new_node_overlap)\n",
    "            # print(intersections)\n",
    "\n",
    "            # add the new nodes to the groups\n",
    "            group1 = group1.union(new_nodes1)\n",
    "            group2 = group2.union(new_nodes2)\n",
    "\n",
    "        return intersections\n",
    "\n",
    "\n",
    "    importances = []\n",
    "    for link in links:\n",
    "        importance = linkage_importance(link)\n",
    "        importances.append(importance)\n",
    "            \n",
    "    sortidx = np.argsort(importances)\n",
    "\n",
    "    print(np.array(links)[sortidx][:8])\n",
    "    print(np.array(importances)[sortidx][:8])\n",
    "\n",
    "    lowest_3 = np.array(links)[sortidx][:3]\n",
    "    # get unique combinations of three links from the possible answers\n",
    "\n",
    "    # remove links from nodes\n",
    "    for link in lowest_3[:-1]:\n",
    "        nodes[link[0]].remove(link[1])\n",
    "        nodes[link[1]].remove(link[0])\n",
    "\n",
    "    # with the remaining link, we can get the size of the two groups, by running basically the same function as above\n",
    "    def linkage_group_sizes(link):\n",
    "        group1 = set([link[0]])\n",
    "        group2 = set([link[1]])\n",
    "        intersections = 0\n",
    "        while group1.union(group2) != all_comp:\n",
    "            new_nodes1 = [nodes[x] for x in group1]\n",
    "            new_nodes2 = [nodes[x] for x in group2]\n",
    "            new_nodes1 = set([item for sublist in new_nodes1 for item in sublist if item not in group1 and item not in group2])\n",
    "            new_nodes2 = set([item for sublist in new_nodes2 for item in sublist if item not in group1 and item not in group2])\n",
    "            new_node_overlap = [x for x in new_nodes1 if x in new_nodes2]\n",
    "            intersections += len(new_node_overlap)\n",
    "            group1 = group1.union(new_nodes1)\n",
    "            group2 = group2.union(new_nodes2)\n",
    "        return len(group1), len(group2)\n",
    "\n",
    "    size1, size2 = linkage_group_sizes(lowest_3[-1])\n",
    "    total = size1 * size2\n",
    "    \n",
    "    print(\"part 1:\", total)"
   ]
  },
  {
   "cell_type": "code",
   "execution_count": 123,
   "metadata": {},
   "outputs": [
    {
     "name": "stdout",
     "output_type": "stream",
     "text": [
      "[['vps' 'htp']\n",
      " ['ttj' 'rpd']\n",
      " ['fqn' 'dgc']\n",
      " ['ttt' 'bds']\n",
      " ['jzp' 'hgm']\n",
      " ['tnl' 'pmv']\n",
      " ['mqk' 'kmk']\n",
      " ['flt' 'sll']]\n",
      "[  1   3   4 168 174 176 177 177]\n",
      "part 1: 600225\n"
     ]
    }
   ],
   "source": [
    "# even though the code is just a good heuristic, for the input data it gives the correct answer\n",
    "parse_data(input_data)"
   ]
  },
  {
   "cell_type": "code",
   "execution_count": 120,
   "metadata": {},
   "outputs": [
    {
     "name": "stdout",
     "output_type": "stream",
     "text": [
      "[['frs' 'qnr']\n",
      " ['jqt' 'nvd']\n",
      " ['cmg' 'bvb']\n",
      " ['pzl' 'hfx']\n",
      " ['pzl' 'lsr']\n",
      " ['rzs' 'cmg']\n",
      " ['qnr' 'nvd']\n",
      " ['cmg' 'lhk']\n",
      " ['nvd' 'lhk']\n",
      " ['rsh' 'pzl']\n",
      " ['frs' 'lhk']\n",
      " ['rsh' 'frs']\n",
      " ['lsr' 'lhk']\n",
      " ['rzs' 'lsr']\n",
      " ['ntq' 'bvb']\n",
      " ['ntq' 'jqt']\n",
      " ['pzl' 'nvd']\n",
      " ['jqt' 'rhn']\n",
      " ['rhn' 'bvb']\n",
      " ['cmg' 'qnr']]\n",
      "[2 2 2 2 3 3 4 4 4 4 4 5 5 6 6 6 6 6 6 6]\n",
      "part 1: 63\n"
     ]
    }
   ],
   "source": [
    "# note, this code doesn't work for the example\n",
    "parse_data(example)"
   ]
  },
  {
   "cell_type": "code",
   "execution_count": null,
   "metadata": {},
   "outputs": [],
   "source": []
  }
 ],
 "metadata": {
  "kernelspec": {
   "display_name": "Python 3",
   "language": "python",
   "name": "python3"
  },
  "language_info": {
   "codemirror_mode": {
    "name": "ipython",
    "version": 3
   },
   "file_extension": ".py",
   "mimetype": "text/x-python",
   "name": "python",
   "nbconvert_exporter": "python",
   "pygments_lexer": "ipython3",
   "version": "3.10.11"
  }
 },
 "nbformat": 4,
 "nbformat_minor": 2
}
