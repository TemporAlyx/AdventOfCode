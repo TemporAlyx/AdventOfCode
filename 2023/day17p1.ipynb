{
 "cells": [
  {
   "cell_type": "code",
   "execution_count": 2,
   "metadata": {},
   "outputs": [
    {
     "name": "stdout",
     "output_type": "stream",
     "text": [
      "Day 17 input already downloaded\n"
     ]
    },
    {
     "data": {
      "text/plain": [
       "['154651534533264223246736313357734657147374325514765434772544275388338442868844847827285753355677536765673622573135621137234461521333452441541',\n",
       " '434613344236623124357254431623141437257446714666363524476254466252424656766464543767833234754157661744135677735466542544652224313641123332623',\n",
       " '111656244231261643672337356332261667312415742412843278763423442625288648554467623422864383587622427376656341227463517657723745142466436612332',\n",
       " '165136343443341162231423452344525473231472466432243883553358332844847863852642574732237457642328251735767616161153526651513633151325531232154',\n",
       " '425162642164653166237577573266152444736721465776278554374686666765264272874554378373258465367847432213643665354176363146415334666644611262365',\n",
       " '613514122133246516652772625532462433317163648836726654272423253264346888555473666322576243675582732847512756757567731352746543772145452516552',\n",
       " '626155453666464414642266742147367271742354522737427852567873742477886873632746327236632385366884343653653426445236345115522726141334361523223']"
      ]
     },
     "execution_count": 2,
     "metadata": {},
     "output_type": "execute_result"
    }
   ],
   "source": [
    "from AOC_utils import get_day\n",
    "import numpy as np\n",
    "\n",
    "day = 17\n",
    "input_data = get_day(day)\n",
    "\n",
    "# print out first few lines to get a feel for the data\n",
    "input_data[:7]"
   ]
  },
  {
   "cell_type": "code",
   "execution_count": 3,
   "metadata": {},
   "outputs": [],
   "source": [
    "example = '''\n",
    "2413432311323\n",
    "3215453535623\n",
    "3255245654254\n",
    "3446585845452\n",
    "4546657867536\n",
    "1438598798454\n",
    "4457876987766\n",
    "3637877979653\n",
    "4654967986887\n",
    "4564679986453\n",
    "1224686865563\n",
    "2546548887735\n",
    "4322674655533\n",
    "'''.split('\\n')[1:-1]"
   ]
  },
  {
   "cell_type": "code",
   "execution_count": 5,
   "metadata": {},
   "outputs": [],
   "source": [
    "def parse_data(data):\n",
    "\n",
    "    data = np.array([[int(x) for x in list(line)] for line in data])\n",
    "\n",
    "    distances = np.full((len(data), len(data), 3, 4), np.inf)\n",
    "    initial_path = (0, 0, 0, 0)\n",
    "    distances[initial_path] = data[0,0]\n",
    "    best_final_distance = np.inf\n",
    "\n",
    "    num_to_direction = {0: \"up\", 1: \"down\", 2: \"left\", 3: \"right\"}\n",
    "\n",
    "    paths = [(0, 0, 0, 0)]\n",
    "    path_distances = [0]\n",
    "    while best_final_distance == np.inf:\n",
    "        min_dist = np.argmin(path_distances)\n",
    "        current_path = paths.pop(min_dist)\n",
    "        current_dist = path_distances.pop(min_dist)\n",
    "        x, y, dist_in_one_d, direction = current_path\n",
    "\n",
    "        for xd, yd, dd, od in [(1, 0, 1, 0), (-1, 0, 0, 1), (0, 1, 3, 2), (0, -1, 2, 3)]:\n",
    "            if direction == od:\n",
    "                continue\n",
    "            nx = x + xd\n",
    "            ny = y + yd\n",
    "            if nx < 0 or nx >= len(data) or ny < 0 or ny >= len(data):\n",
    "                continue\n",
    "            new_dist = current_dist + data[ny,nx]\n",
    "            if direction == dd:\n",
    "                if dist_in_one_d == 2:\n",
    "                    continue\n",
    "                else:\n",
    "                    ndist_in_one_d = dist_in_one_d + 1\n",
    "            else:\n",
    "                ndist_in_one_d = 0\n",
    "\n",
    "            new_path = (nx, ny, ndist_in_one_d, dd)\n",
    "            if new_dist < distances[new_path]:\n",
    "                distances[new_path] = new_dist\n",
    "                paths.append(new_path)\n",
    "                path_distances.append(new_dist)\n",
    "                if nx == len(data)-1 and ny == len(data)-1:\n",
    "                    best_final_distance = min(best_final_distance, new_dist)\n",
    "\n",
    "    total = best_final_distance\n",
    "    print(\"part 1:\", total)"
   ]
  },
  {
   "cell_type": "code",
   "execution_count": 6,
   "metadata": {},
   "outputs": [
    {
     "name": "stdout",
     "output_type": "stream",
     "text": [
      "part 1: 1110\n"
     ]
    }
   ],
   "source": [
    "parse_data(input_data)"
   ]
  },
  {
   "cell_type": "code",
   "execution_count": 7,
   "metadata": {},
   "outputs": [
    {
     "name": "stdout",
     "output_type": "stream",
     "text": [
      "part 1: 102\n"
     ]
    }
   ],
   "source": [
    "parse_data(example)"
   ]
  }
 ],
 "metadata": {
  "kernelspec": {
   "display_name": "Python 3",
   "language": "python",
   "name": "python3"
  },
  "language_info": {
   "codemirror_mode": {
    "name": "ipython",
    "version": 3
   },
   "file_extension": ".py",
   "mimetype": "text/x-python",
   "name": "python",
   "nbconvert_exporter": "python",
   "pygments_lexer": "ipython3",
   "version": "3.10.11"
  }
 },
 "nbformat": 4,
 "nbformat_minor": 2
}
