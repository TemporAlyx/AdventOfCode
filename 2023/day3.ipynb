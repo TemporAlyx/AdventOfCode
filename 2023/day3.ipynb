{
 "cells": [
  {
   "cell_type": "code",
   "execution_count": 158,
   "metadata": {},
   "outputs": [
    {
     "data": {
      "text/plain": [
       "['.....613...................................439............498.........................438......617....343.............942...................',\n",
       " '.......*............790...........269..735..*........................../679..............*444.*.........*.......147...*.............441.....',\n",
       " '....539......422.......*......662*........*..691..........*124.15..675.................=.......404...872............237......930.....+......',\n",
       " '........334.............861.........%....479..........424.......+.@.......402.......314...905................833........*293................',\n",
       " '..........#.......................906.................*...............950.....................712...437.........*142.359........551.14......',\n",
       " '....509.....=...........890...................&........9................./..847.154..568............@...102................280...*..........',\n",
       " '.....*..950.67.............-......161.......530....=...................=............*...../..............@.......................426........']"
      ]
     },
     "execution_count": 158,
     "metadata": {},
     "output_type": "execute_result"
    }
   ],
   "source": [
    "from AOC_utils import get_day\n",
    "get_day(3)\n",
    "\n",
    "with open('days/day3input.txt') as f:\n",
    "    input_data = f.readlines()\n",
    "input_data = [line[:-1] for line in input_data] # Remove \\n\n",
    "input_data[:7]"
   ]
  },
  {
   "cell_type": "code",
   "execution_count": 18,
   "metadata": {},
   "outputs": [],
   "source": [
    "example = '''\n",
    "467..114..\n",
    "...*......\n",
    "..35..633.\n",
    "......#...\n",
    "617*......\n",
    ".....+.58.\n",
    "..592.....\n",
    "......755.\n",
    "...$.*....\n",
    ".664.598..\n",
    "'''\n",
    "example = example.split('\\n')\n",
    "example = example[1:-1]"
   ]
  },
  {
   "cell_type": "code",
   "execution_count": null,
   "metadata": {},
   "outputs": [],
   "source": [
    "import numpy as np"
   ]
  },
  {
   "cell_type": "code",
   "execution_count": 156,
   "metadata": {},
   "outputs": [],
   "source": [
    "def parse_data(data):\n",
    "    data = np.array([list(row) for row in data])\n",
    "\n",
    "    # add a border of '.' around the data to make indexing less annoying\n",
    "    data = np.concatenate((np.array([['.'] * len(data[0])]), data, np.array([['.'] * len(data[0])])), axis=0)\n",
    "    data = np.concatenate((np.array([['.'] * len(data.T[0])]).reshape(-1,1), data, np.array([['.'] * len(data.T[0])]).reshape(-1,1)), axis=1)\n",
    "\n",
    "    # get symbols\n",
    "    symbols = np.unique(data)\n",
    "    # remove numbers from symbols\n",
    "    symbols = symbols[[not symbol.isnumeric() for symbol in symbols]]\n",
    "    # remove '.' from symbols\n",
    "    symbols = symbols[symbols != '.']\n",
    "    print(symbols)\n",
    "\n",
    "\n",
    "    total = 0\n",
    "    for i in range(1, len(data)-1):\n",
    "        whole_number = ''\n",
    "        near_symbol = False\n",
    "        for j in range(1, len(data[i])-1):\n",
    "\n",
    "            # search for and construct whole numbers, and check for nearby symbols\n",
    "            if data[i][j].isnumeric():\n",
    "                whole_number += data[i][j]\n",
    "\n",
    "                # check surrounding indices for symbols (maybe could have used convolutions?)\n",
    "                surround = np.array([\n",
    "                    [data[i-1][j-1], data[i-1][j], data[i-1][j+1]],\n",
    "                    [data[i][j-1], data[i][j], data[i][j+1]],\n",
    "                    [data[i+1][j-1], data[i+1][j], data[i+1][j+1]]\n",
    "                ])\n",
    "                # check if any of the surrounding indices are symbols\n",
    "                for point in surround.flatten():\n",
    "                    if point in symbols:\n",
    "                        near_symbol = True\n",
    "\n",
    "            # if we aren't at a number, then we need to check if we have a whole number to add to the total\n",
    "            else:\n",
    "                if len(whole_number) > 0:\n",
    "                    whole_number = int(whole_number)\n",
    "                    if near_symbol:\n",
    "                        total += whole_number\n",
    "                    whole_number = ''\n",
    "                    near_symbol = False\n",
    "        \n",
    "        # This edge case cost me so much time\n",
    "        # when we get to the end of a row, we need to check if we have a whole number to add to the total\n",
    "        # because if the line ends with the number, then we wouldn't have checked it using the if else above\n",
    "        if len(whole_number) > 0:\n",
    "            whole_number = int(whole_number)\n",
    "            if near_symbol:\n",
    "                total += whole_number\n",
    "            whole_number = ''\n",
    "            near_symbol = False\n",
    "        # in hindsight, simply padding another '.' around the data would have avoided this case\n",
    "        # might be worth remembering that for future problems\n",
    "\n",
    "    return total"
   ]
  },
  {
   "cell_type": "code",
   "execution_count": 157,
   "metadata": {},
   "outputs": [
    {
     "name": "stdout",
     "output_type": "stream",
     "text": [
      "['#' '$' '%' '&' '*' '+' '-' '/' '=' '@']\n"
     ]
    },
    {
     "data": {
      "text/plain": [
       "527144"
      ]
     },
     "execution_count": 157,
     "metadata": {},
     "output_type": "execute_result"
    }
   ],
   "source": [
    "parse_data(input_data)"
   ]
  },
  {
   "cell_type": "code",
   "execution_count": 144,
   "metadata": {},
   "outputs": [],
   "source": [
    "# helper function that takes indices of a number, and uses surrounding indices to get the whole number\n",
    "def get_full_number(data, i, j):\n",
    "    whole_number = data[i][j]\n",
    "\n",
    "    if data[i][j-1].isnumeric():\n",
    "        whole_number = data[i][j-1] + whole_number\n",
    "        if j-2 >= 0 and data[i][j-2].isnumeric():\n",
    "            whole_number = data[i][j-2] + whole_number\n",
    "    if data[i][j+1].isnumeric():\n",
    "        whole_number = whole_number + data[i][j+1]\n",
    "        if j+2 < (len(data[i])) and data[i][j+2].isnumeric():\n",
    "            whole_number = whole_number + data[i][j+2]\n",
    "    \n",
    "    return whole_number\n",
    "\n",
    "def parse_data_part2(data):\n",
    "    data = np.array([list(row) for row in data])\n",
    "\n",
    "    # add a border of '.' around the data to make indexing less annoying\n",
    "    data = np.concatenate((np.array([['.'] * len(data[0])]), data, np.array([['.'] * len(data[0])])), axis=0)\n",
    "    data = np.concatenate((np.array([['.'] * len(data.T[0])]).reshape(-1,1), data, np.array([['.'] * len(data.T[0])]).reshape(-1,1)), axis=1)\n",
    "\n",
    "    total = 0\n",
    "    for i in range(1, len(data)-1):\n",
    "        for j in range(1, len(data[i])-1):\n",
    "\n",
    "            # find gears\n",
    "            if data[i][j] == '*':\n",
    "                \n",
    "                gears = []\n",
    "                # we need to check the surrounding points for numbers\n",
    "                if data[i][j-1].isnumeric():\n",
    "                    whole_number = get_full_number(data, i, j-1) # helper function\n",
    "                    gears.append(whole_number)\n",
    "                if data[i][j+1].isnumeric():\n",
    "                    whole_number = get_full_number(data, i, j+1)\n",
    "                    gears.append(whole_number)\n",
    "                if data[i-1][j].isnumeric():\n",
    "                    whole_number = get_full_number(data, i-1, j)\n",
    "                    gears.append(whole_number)\n",
    "                if data[i+1][j].isnumeric():\n",
    "                    whole_number = get_full_number(data, i+1, j)\n",
    "                    gears.append(whole_number)\n",
    "                if data[i-1][j-1].isnumeric():\n",
    "                    whole_number = get_full_number(data, i-1, j-1)\n",
    "                    gears.append(whole_number)\n",
    "                if data[i-1][j+1].isnumeric():\n",
    "                    whole_number = get_full_number(data, i-1, j+1)\n",
    "                    gears.append(whole_number)\n",
    "                if data[i+1][j-1].isnumeric():\n",
    "                    whole_number = get_full_number(data, i+1, j-1)\n",
    "                    gears.append(whole_number)\n",
    "                if data[i+1][j+1].isnumeric():\n",
    "                    whole_number = get_full_number(data, i+1, j+1)\n",
    "                    gears.append(whole_number)\n",
    "\n",
    "                gears = [int(gear) for gear in gears]\n",
    "\n",
    "                # remove duplicates\n",
    "                gears = list(set(gears))\n",
    "                # this was risky, there's no constraint that two adjacent gears couldn't be the same number\n",
    "                # but the odds were small, and it worked for my input\n",
    "                # if this didn't work, we would have had to track a second list for the indices of the gears\n",
    "                # and use that to check whether we had already added a number\n",
    "\n",
    "                # only add to total if we have exactly two gears\n",
    "                if len(gears) == 2:\n",
    "                    total += gears[0] * gears[1]\n",
    "                    \n",
    "    return total"
   ]
  },
  {
   "cell_type": "code",
   "execution_count": 147,
   "metadata": {},
   "outputs": [
    {
     "data": {
      "text/plain": [
       "467835"
      ]
     },
     "execution_count": 147,
     "metadata": {},
     "output_type": "execute_result"
    }
   ],
   "source": [
    "parse_data_part2(example)"
   ]
  },
  {
   "cell_type": "code",
   "execution_count": 148,
   "metadata": {},
   "outputs": [
    {
     "data": {
      "text/plain": [
       "81463996"
      ]
     },
     "execution_count": 148,
     "metadata": {},
     "output_type": "execute_result"
    }
   ],
   "source": [
    "parse_data_part2(input_data)"
   ]
  }
 ],
 "metadata": {
  "kernelspec": {
   "display_name": "Python 3",
   "language": "python",
   "name": "python3"
  },
  "language_info": {
   "codemirror_mode": {
    "name": "ipython",
    "version": 3
   },
   "file_extension": ".py",
   "mimetype": "text/x-python",
   "name": "python",
   "nbconvert_exporter": "python",
   "pygments_lexer": "ipython3",
   "version": "3.10.11"
  }
 },
 "nbformat": 4,
 "nbformat_minor": 2
}
