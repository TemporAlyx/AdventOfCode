{
 "cells": [
  {
   "cell_type": "code",
   "execution_count": 1,
   "metadata": {},
   "outputs": [
    {
     "name": "stdout",
     "output_type": "stream",
     "text": [
      "Downloaded day 24 input\n"
     ]
    },
    {
     "data": {
      "text/plain": [
       "['380596900441035, 475034410013298, 238677466991589 @ -141, -244, 154',\n",
       " '233796913851006, 262774170759556, 265925724673108 @ 54, 10, 23',\n",
       " '276006064958748, 296055609314709, 391999646036593 @ 14, 21, 24',\n",
       " '293483465377495, 295344217447825, 424521127946914 @ -5, 21, -13',\n",
       " '293267724517878, 460174630326339, 283123920222676 @ -56, -349, 17',\n",
       " '109629738653787, 228051835888962, 65687603071905 @ 261, 86, 408',\n",
       " '439102647267747, 292512150779892, 283500442341031 @ -257, -11, 67']"
      ]
     },
     "execution_count": 1,
     "metadata": {},
     "output_type": "execute_result"
    }
   ],
   "source": [
    "from AOC_utils import get_day\n",
    "import numpy as np\n",
    "\n",
    "day = 24\n",
    "input_data = get_day(day)\n",
    "\n",
    "# print out first few lines to get a feel for the data\n",
    "input_data[:7]"
   ]
  },
  {
   "cell_type": "code",
   "execution_count": 2,
   "metadata": {},
   "outputs": [],
   "source": [
    "example = '''\n",
    "19, 13, 30 @ -2,  1, -2\n",
    "18, 19, 22 @ -1, -1, -2\n",
    "20, 25, 34 @ -2, -2, -4\n",
    "12, 31, 28 @ -1, -2, -1\n",
    "20, 19, 15 @  1, -5, -3\n",
    "'''.split('\\n')[1:-1]"
   ]
  },
  {
   "cell_type": "code",
   "execution_count": 3,
   "metadata": {},
   "outputs": [
    {
     "data": {
      "text/plain": [
       "300"
      ]
     },
     "execution_count": 3,
     "metadata": {},
     "output_type": "execute_result"
    }
   ],
   "source": [
    "len(input_data)"
   ]
  },
  {
   "cell_type": "code",
   "execution_count": 10,
   "metadata": {},
   "outputs": [],
   "source": [
    "import shapely"
   ]
  },
  {
   "cell_type": "code",
   "execution_count": 80,
   "metadata": {},
   "outputs": [],
   "source": [
    "def parse_data(data, ignore_z=True, test_area_min=200000000000000, test_area_max=400000000000000):\n",
    "\n",
    "    hailstone_positions = [[int(x) for x in line.split('@')[0].replace(' ', '').split(',')] for line in data]\n",
    "    hailstone_velocities = [[int(x) for x in line.split('@')[1].replace(' ', '').split(',')] for line in data]\n",
    "    hailstones = np.array([hailstone_positions, hailstone_velocities]).transpose(1, 0, 2)\n",
    "    print(hailstones.shape)\n",
    "\n",
    "    # remove hailstones that are out of bounds and moving away from the test area\n",
    "    new_hailstones = []\n",
    "    for hailstone in hailstones:\n",
    "        coord_positions, coord_velocitys = hailstone\n",
    "        if ignore_z:\n",
    "            coord_positions = coord_positions[:2]\n",
    "            coord_velocitys = coord_velocitys[:2]\n",
    "        passed = True\n",
    "        for i in range(len(coord_positions)):\n",
    "            position = coord_positions[i]\n",
    "            velocity = coord_velocitys[i]\n",
    "            if velocity > 0 and position > test_area_max or velocity < 0 and position < test_area_min:\n",
    "                passed = False\n",
    "                break\n",
    "        if passed:\n",
    "            new_hailstones.append(hailstone)\n",
    "    hailstones = np.array(new_hailstones).astype(np.float64)\n",
    "    print(hailstones.shape)\n",
    "    \n",
    "    def get_line_ends(hailstone):\n",
    "        coord_positions, coord_velocitys = hailstone\n",
    "\n",
    "        line_ends = []\n",
    "        for i in range(len(coord_positions)):\n",
    "            position = coord_positions[i]\n",
    "            velocity = coord_velocitys[i]\n",
    "            # line_end = position + (velocity * t)\n",
    "            if velocity > 0:\n",
    "                test_edge = test_area_max\n",
    "            else:\n",
    "                test_edge = test_area_min\n",
    "            t = (test_edge - position) / velocity\n",
    "            line_end = [position + (velocity * t) for position, velocity in zip(coord_positions, coord_velocitys)]\n",
    "            line_ends.append(line_end)\n",
    "\n",
    "        # find which line end is not out of bounds\n",
    "        for i in range(len(line_ends)):\n",
    "            line_end = line_ends[i]\n",
    "            if ignore_z:\n",
    "                if all(test_area_min <= np.around(x) <= test_area_max for x in line_end[:2]):\n",
    "                    return line_end\n",
    "            else:\n",
    "                if all(test_area_min <= np.around(x) <= test_area_max for x in line_end):\n",
    "                    return line_end # THIS COULD BE A PROBLEM\n",
    "                \n",
    "\n",
    "        print(\"no line end found\")\n",
    "        print(coord_positions, coord_velocitys)\n",
    "        print(line_ends)\n",
    "            \n",
    "    hailstone_line_ends = np.array([get_line_ends(hailstone) for hailstone in hailstones])\n",
    "\n",
    "    # print(hailstone_line_ends.shape)\n",
    "\n",
    "    lines = []\n",
    "    for i in range(len(hailstones)):\n",
    "        hailstone_pos = hailstones[i][0]\n",
    "        line_end = hailstone_line_ends[i]\n",
    "\n",
    "        # if line_end is None:\n",
    "        #     continue\n",
    "\n",
    "        if ignore_z:\n",
    "            hailstone_pos = hailstone_pos[:2]\n",
    "            line_end = line_end[:2]\n",
    "        lines.append(shapely.LineString([hailstone_pos, line_end]))\n",
    "\n",
    "    # count the number of intersections\n",
    "    total = 0\n",
    "    for i in range(len(lines)):\n",
    "        line = lines[i]\n",
    "        for j in range(i+1, len(lines)):\n",
    "            other_line = lines[j]\n",
    "            intersection = line.intersection(other_line)\n",
    "            if type(intersection) != shapely.geometry.point.Point:\n",
    "                continue\n",
    "            # print(len(intersection.parameters))\n",
    "            # print(intersection.x, intersection.y)\n",
    "            if all(test_area_min <= np.around(x) <= test_area_max for x in [intersection.x, intersection.y]):\n",
    "                total += 1\n",
    "\n",
    "            # if line.intersects(other_line):\n",
    "            #     total += 1\n",
    "\n",
    "    print(\"part 1:\", total)"
   ]
  },
  {
   "cell_type": "code",
   "execution_count": 81,
   "metadata": {},
   "outputs": [
    {
     "name": "stdout",
     "output_type": "stream",
     "text": [
      "(300, 2, 3)\n",
      "(300, 2, 3)\n",
      "part 1: 31208\n"
     ]
    }
   ],
   "source": [
    "parse_data(input_data)"
   ]
  },
  {
   "cell_type": "code",
   "execution_count": null,
   "metadata": {},
   "outputs": [],
   "source": [
    "31256"
   ]
  },
  {
   "cell_type": "code",
   "execution_count": 62,
   "metadata": {},
   "outputs": [
    {
     "name": "stdout",
     "output_type": "stream",
     "text": [
      "(5, 2, 3)\n",
      "(5, 2, 3)\n",
      "part 1: 2\n"
     ]
    }
   ],
   "source": [
    "parse_data(example, test_area_min=7, test_area_max=27)"
   ]
  },
  {
   "cell_type": "code",
   "execution_count": null,
   "metadata": {},
   "outputs": [],
   "source": [
    "431310784597482, 400000000000000"
   ]
  }
 ],
 "metadata": {
  "kernelspec": {
   "display_name": "Python 3",
   "language": "python",
   "name": "python3"
  },
  "language_info": {
   "codemirror_mode": {
    "name": "ipython",
    "version": 3
   },
   "file_extension": ".py",
   "mimetype": "text/x-python",
   "name": "python",
   "nbconvert_exporter": "python",
   "pygments_lexer": "ipython3",
   "version": "3.10.11"
  }
 },
 "nbformat": 4,
 "nbformat_minor": 2
}
