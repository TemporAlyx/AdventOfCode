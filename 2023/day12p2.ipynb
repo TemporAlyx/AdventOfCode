{
 "cells": [
  {
   "cell_type": "code",
   "execution_count": 2,
   "metadata": {},
   "outputs": [
    {
     "name": "stdout",
     "output_type": "stream",
     "text": [
      "Day 12 input already downloaded\n"
     ]
    },
    {
     "data": {
      "text/plain": [
       "['??????#??#?? 1,1,5,1',\n",
       " '?#?#??##?#? 2,5,1',\n",
       " '????????.?#???#??##? 2,1,2,1,1,6',\n",
       " '#???#?????.?#?. 2,1,2,1',\n",
       " '?##..?#?#?? 2,4',\n",
       " '..#??##????###????#? 6,8',\n",
       " '???#..?#?? 1,1,2']"
      ]
     },
     "execution_count": 2,
     "metadata": {},
     "output_type": "execute_result"
    }
   ],
   "source": [
    "from AOC_utils import get_day\n",
    "import numpy as np\n",
    "\n",
    "day = 12\n",
    "input_data = get_day(day)\n",
    "\n",
    "# print out first few lines to get a feel for the data\n",
    "input_data[:7]"
   ]
  },
  {
   "cell_type": "code",
   "execution_count": 3,
   "metadata": {},
   "outputs": [],
   "source": [
    "example = '''\n",
    "???.### 1,1,3\n",
    ".??..??...?##. 1,1,3\n",
    "?#?#?#?#?#?#?#? 1,3,1,6\n",
    "????.#...#... 4,1,1\n",
    "????.######..#####. 1,6,5\n",
    "?###???????? 3,2,1\n",
    "'''.split('\\n')[1:-1]"
   ]
  },
  {
   "cell_type": "code",
   "execution_count": 4,
   "metadata": {},
   "outputs": [
    {
     "data": {
      "text/plain": [
       "1000"
      ]
     },
     "execution_count": 4,
     "metadata": {},
     "output_type": "execute_result"
    }
   ],
   "source": [
    "len(input_data)"
   ]
  },
  {
   "cell_type": "code",
   "execution_count": 42,
   "metadata": {},
   "outputs": [],
   "source": [
    "def parse_data(data):\n",
    "\n",
    "    samples = [[int(x)-1 for x in list(line.split(' ')[0].replace('#', '2').replace('.', '1').replace('?', '0'))] for line in data]\n",
    "    groups = [[int(x) for x in line.split(' ')[1].split(',')] for line in data]\n",
    "\n",
    "    \n",
    "    def check_sample_groups(sample, groups):\n",
    "        if len(groups) == 0 and sample.count(1) == 0:\n",
    "            return True\n",
    "        \n",
    "        if len(groups) == 0 and sample.count(1) != 0:\n",
    "            # print(\"no groups left, but still 1s\")\n",
    "            return False\n",
    "        elif len(sample) < (sum(groups) + (max(len(groups) - 1, 0))):\n",
    "            # print(\"sample length doesn't match possible groups\")\n",
    "            return False\n",
    "        elif len(sample) == (sum(groups) + (max(len(groups) - 1, 0))):\n",
    "            at = 0\n",
    "            for group in groups:\n",
    "                if sample[at:at+group].count(0) > 0:\n",
    "                    # print(\"sample has 0s inside groups\")\n",
    "                    return False\n",
    "                at += group + 1\n",
    "\n",
    "        count1s = sample.count(1)\n",
    "        countunknowns = sample.count(-1)\n",
    "\n",
    "        if count1s > sum(groups):\n",
    "            # print(\"too many ones\")\n",
    "            return False\n",
    "        elif count1s + countunknowns < sum(groups):\n",
    "            # print(\"not enough possible ones\")\n",
    "            return False\n",
    "\n",
    "        subsections = []\n",
    "        current_subsection = []\n",
    "        for i in range(len(sample)):\n",
    "            if sample[i] != 0:\n",
    "                current_subsection.append(sample[i])\n",
    "            elif len(current_subsection) > 0 or i == len(sample)-1:\n",
    "                    subsections.append(current_subsection)\n",
    "                    current_subsection = []\n",
    "\n",
    "        if len(subsections) > 0:\n",
    "            if len(subsections[0]) < groups[0] and 1 in subsections[0]:\n",
    "                return False\n",
    "\n",
    "        return True\n",
    "    \n",
    "    global_cache = {}\n",
    "\n",
    "    def dfs(samples_remaining, groups_left):\n",
    "\n",
    "        #stringify inputs and check cache\n",
    "        key = \"\".join([str(x) for x in samples_remaining]).replace('-1', '?')\n",
    "        # if len(key) < 250:\n",
    "        key += \"|\" + \"\".join([str(x)+\" \" for x in groups_left])\n",
    "        if key in global_cache:\n",
    "            return global_cache[key]\n",
    "\n",
    "        is_valid = check_sample_groups(samples_remaining, groups_left)\n",
    "\n",
    "        # print(samples_remaining, groups_left, is_valid)\n",
    "        if not is_valid:\n",
    "            return 0\n",
    "        \n",
    "        while len(samples_remaining) > 0 and samples_remaining[0] == 0:\n",
    "            samples_remaining = samples_remaining[1:]\n",
    "\n",
    "        if len(samples_remaining) == 0 and len(groups_left) == 0 or len(groups_left) == 0 and samples_remaining.count(1) == 0:\n",
    "            # print(\"returning 1\")\n",
    "            return 1\n",
    "        else:\n",
    "            next_non_zero_subset = []\n",
    "            for i in range(len(samples_remaining)):\n",
    "                if samples_remaining[i] != 0:\n",
    "                    next_non_zero_subset.append(i)\n",
    "                else:\n",
    "                    break\n",
    "            if samples_remaining[0] == 1:\n",
    "                if len(next_non_zero_subset) >= groups_left[0]:\n",
    "                    if len(samples_remaining) >= groups_left[0]+1:\n",
    "                        if samples_remaining[groups_left[0]+1-1] != 1:\n",
    "                            return dfs(samples_remaining[min(groups_left[0]+1, len(samples_remaining)):], groups_left[1:])\n",
    "                        else:\n",
    "                            # print(\"can't space 0 in between groups\")\n",
    "                            return 0\n",
    "                    else:\n",
    "                        return dfs(samples_remaining[groups_left[0]:], groups_left[1:])\n",
    "                else:\n",
    "                    # print(\"next non zero subset fit with next group length\")\n",
    "                    return 0\n",
    "            else:\n",
    "                zero_case = dfs(samples_remaining[1:], groups_left)\n",
    "\n",
    "                one_case = 0\n",
    "                if len(next_non_zero_subset) >= groups_left[0]:\n",
    "                    if len(samples_remaining) >= groups_left[0]+1:\n",
    "                        if samples_remaining[groups_left[0]+1-1] != 1:\n",
    "                            one_case = dfs(samples_remaining[groups_left[0]+1:], groups_left[1:])\n",
    "                    else:\n",
    "                        one_case = dfs(samples_remaining[groups_left[0]:], groups_left[1:])\n",
    "\n",
    "                output = zero_case + one_case\n",
    "                \n",
    "                # save to cache\n",
    "                global_cache[key] = output\n",
    "                return output\n",
    "\n",
    "\n",
    "    total = 0\n",
    "    for sample, group in zip(samples, groups):\n",
    "        total += dfs(sample, group)\n",
    "    print(\"part 1:\", total)\n",
    "\n",
    "\n",
    "    total2 = 0\n",
    "    for sample, group in zip(samples, groups):\n",
    "        # unfold samples and groups\n",
    "        sample = sample + [-1] + sample + [-1] + sample + [-1] + sample + [-1] + sample\n",
    "        group = group + group + group + group + group\n",
    "        \n",
    "        total2 += dfs(sample, group)\n",
    "\n",
    "    print(\"part 2:\", total2)\n",
    "    print(\"cache length\", len(global_cache))"
   ]
  },
  {
   "cell_type": "code",
   "execution_count": 43,
   "metadata": {},
   "outputs": [
    {
     "name": "stdout",
     "output_type": "stream",
     "text": [
      "part 1: 6488\n",
      "cache length 99708\n",
      "part 2: 815364548481\n"
     ]
    }
   ],
   "source": [
    "parse_data(input_data)"
   ]
  },
  {
   "cell_type": "code",
   "execution_count": 35,
   "metadata": {},
   "outputs": [
    {
     "name": "stdout",
     "output_type": "stream",
     "text": [
      "largest sample: [-1, -1, -1, -1, -1, -1, -1, -1, 0, -1, -1, -1, -1, -1, -1, -1, -1] [1, 4, 1, 3, 1, 1]\n",
      "largest sample check 4\n",
      "cache p1 {'?|1 ': 1, '???|1 1 ': 1, '???????|3 1 1 ': 1, '??|1 ': 2, '????|1 1 ': 3, '????????|3 1 1 ': 4, '?0????????|1 3 1 1 ': 4, '??????0????????|4 1 3 1 1 ': 4, '????????0????????|1 4 1 3 1 1 ': 4}\n",
      "\n",
      "largest sample check part2 9604\n",
      "\n",
      "\n",
      "part 1: 21\n",
      "\n",
      "\n",
      "part 2: 525152\n"
     ]
    }
   ],
   "source": [
    "parse_data(example)"
   ]
  },
  {
   "cell_type": "code",
   "execution_count": null,
   "metadata": {},
   "outputs": [],
   "source": []
  }
 ],
 "metadata": {
  "kernelspec": {
   "display_name": "Python 3",
   "language": "python",
   "name": "python3"
  },
  "language_info": {
   "codemirror_mode": {
    "name": "ipython",
    "version": 3
   },
   "file_extension": ".py",
   "mimetype": "text/x-python",
   "name": "python",
   "nbconvert_exporter": "python",
   "pygments_lexer": "ipython3",
   "version": "3.10.11"
  }
 },
 "nbformat": 4,
 "nbformat_minor": 2
}
