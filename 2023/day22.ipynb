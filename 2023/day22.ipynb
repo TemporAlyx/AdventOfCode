{
 "cells": [
  {
   "cell_type": "code",
   "execution_count": 1,
   "metadata": {},
   "outputs": [
    {
     "name": "stdout",
     "output_type": "stream",
     "text": [
      "Day 22 input already downloaded\n"
     ]
    },
    {
     "data": {
      "text/plain": [
       "['6,8,103~7,8,103',\n",
       " '1,4,214~1,4,216',\n",
       " '1,4,10~1,5,10',\n",
       " '4,5,56~4,9,56',\n",
       " '7,5,109~8,5,109',\n",
       " '9,4,79~9,5,79',\n",
       " '1,3,110~1,3,110']"
      ]
     },
     "execution_count": 1,
     "metadata": {},
     "output_type": "execute_result"
    }
   ],
   "source": [
    "from AOC_utils import get_day\n",
    "import numpy as np\n",
    "\n",
    "day = 22\n",
    "input_data = get_day(day)\n",
    "\n",
    "# print out first few lines to get a feel for the data\n",
    "input_data[:7]"
   ]
  },
  {
   "cell_type": "code",
   "execution_count": 2,
   "metadata": {},
   "outputs": [],
   "source": [
    "example = '''\n",
    "1,0,1~1,2,1\n",
    "0,0,2~2,0,2\n",
    "0,2,3~2,2,3\n",
    "0,0,4~0,2,4\n",
    "2,0,5~2,2,5\n",
    "0,1,6~2,1,6\n",
    "1,1,8~1,1,9\n",
    "'''.split('\\n')[1:-1]"
   ]
  },
  {
   "cell_type": "code",
   "execution_count": 3,
   "metadata": {},
   "outputs": [
    {
     "data": {
      "text/plain": [
       "1232"
      ]
     },
     "execution_count": 3,
     "metadata": {},
     "output_type": "execute_result"
    }
   ],
   "source": [
    "len(input_data)"
   ]
  },
  {
   "cell_type": "code",
   "execution_count": 94,
   "metadata": {},
   "outputs": [],
   "source": [
    "def parse_data(data):\n",
    "    bricks = [[[int(y) for y in x.split(',')] for x in line.split('~')] for line in data]\n",
    "    bricks = np.array(bricks)\n",
    "\n",
    "    grid = np.zeros([bricks[:,1,0].max() + 1, \n",
    "                     bricks[:,1,1].max() + 1, \n",
    "                     bricks[:,1,2].max() + 1], dtype=int)\n",
    "\n",
    "\n",
    "    def insert_block(brick, grid):\n",
    "        grid[brick[0][0]:brick[1][0]+1, brick[0][1]:brick[1][1]+1, brick[0][2]:brick[1][2]+1] += 1\n",
    "    def remove_block(brick, grid):\n",
    "        grid[brick[0][0]:brick[1][0]+1, brick[0][1]:brick[1][1]+1, brick[0][2]:brick[1][2]+1] -= 1\n",
    "\n",
    "    for brick in bricks:\n",
    "        insert_block(brick, grid)\n",
    "\n",
    "    # print(grid.sum())\n",
    "    # let all blocks fall down in the z axis\n",
    "    \n",
    "    block_z_min = np.min(bricks[:,:,-1], axis=1)\n",
    "    lowest_first = np.argsort(block_z_min)\n",
    "    bricks = bricks[lowest_first]\n",
    "\n",
    "    # is brick settled\n",
    "    brick_settled = np.zeros(len(bricks), dtype=bool)\n",
    "\n",
    "    def is_brick_settled(brick, grid):\n",
    "        if brick[0][2]-1 < 0:\n",
    "            return True\n",
    "        return np.any(grid[brick[0][0]:brick[1][0]+1, brick[0][1]:brick[1][1]+1, brick[0][2]-1] > 0)\n",
    "\n",
    "    i = 0\n",
    "    while not np.all(brick_settled):\n",
    "        # print(i, sum(brick_settled))\n",
    "        if not brick_settled[i]:\n",
    "            brick = bricks[i]\n",
    "\n",
    "            # check underneath the brick\n",
    "            brick_settled[i] = is_brick_settled(brick, grid)\n",
    "            if not brick_settled[i]:\n",
    "                dropdown = 1\n",
    "                remove_block(brick, grid)\n",
    "                bricks[i, :, -1] -= dropdown\n",
    "                brick = bricks[i]\n",
    "                insert_block(brick, grid)\n",
    "\n",
    "        i += 1\n",
    "        i %= len(bricks)\n",
    "        \n",
    "    block_z_min = np.min(bricks[:,:,-1], axis=1)\n",
    "    lowest_first = np.argsort(block_z_min)\n",
    "    bricks = bricks[lowest_first]\n",
    "\n",
    "    # check if brick being removed would drop any other bricks\n",
    "    total = 0\n",
    "    total2 = 0\n",
    "    for i in range(len(bricks)):\n",
    "        brick = bricks[i]\n",
    "        new_grid = grid.copy()\n",
    "        remove_block(brick, new_grid)\n",
    "\n",
    "        can_be_safely_disintegrated = True\n",
    "        for j in range(len(bricks)):\n",
    "            if j != i:\n",
    "                new_brick = bricks[j]\n",
    "                if not is_brick_settled(new_brick, new_grid):\n",
    "                    remove_block(new_brick, new_grid)\n",
    "                    can_be_safely_disintegrated = False\n",
    "                    total2 += 1\n",
    "        if can_be_safely_disintegrated:\n",
    "            total += 1\n",
    "\n",
    "    print(\"part 1:\", total)\n",
    "    print(\"part 2:\", total2)"
   ]
  },
  {
   "cell_type": "code",
   "execution_count": 95,
   "metadata": {},
   "outputs": [
    {
     "name": "stdout",
     "output_type": "stream",
     "text": [
      "part 1: 430\n",
      "part 2: 60558\n"
     ]
    }
   ],
   "source": [
    "parse_data(input_data)"
   ]
  },
  {
   "cell_type": "code",
   "execution_count": 88,
   "metadata": {},
   "outputs": [
    {
     "name": "stdout",
     "output_type": "stream",
     "text": [
      "part 1: 5\n",
      "part 2: 7\n"
     ]
    }
   ],
   "source": [
    "parse_data(example)"
   ]
  },
  {
   "cell_type": "code",
   "execution_count": null,
   "metadata": {},
   "outputs": [],
   "source": []
  }
 ],
 "metadata": {
  "kernelspec": {
   "display_name": "Python 3",
   "language": "python",
   "name": "python3"
  },
  "language_info": {
   "codemirror_mode": {
    "name": "ipython",
    "version": 3
   },
   "file_extension": ".py",
   "mimetype": "text/x-python",
   "name": "python",
   "nbconvert_exporter": "python",
   "pygments_lexer": "ipython3",
   "version": "3.10.11"
  }
 },
 "nbformat": 4,
 "nbformat_minor": 2
}
