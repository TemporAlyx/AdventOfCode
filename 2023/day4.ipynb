{
 "cells": [
  {
   "cell_type": "code",
   "execution_count": 2,
   "metadata": {},
   "outputs": [
    {
     "name": "stdout",
     "output_type": "stream",
     "text": [
      "Day 4 input already downloaded\n"
     ]
    },
    {
     "data": {
      "text/plain": [
       "['Card   1: 30 51 48 31 36 33 49 83 86 17 | 17 33 31 70 90 37 86 45 58 21 83 52 59 68 55 32 20 43 48 75 30 42 80 60 71',\n",
       " 'Card   2: 83 45 32 60 10 94 13 29 52 43 | 47 15 94 32 13 64  4 48 20 83 52 75 41 50 60 14 45 43 37 29 35 10 89 77 25',\n",
       " 'Card   3: 15  1  9 91 24 53 88 45 60 82 | 86 92 57 55 85  2 58 66 25 38 43 76 39 62 64 54 87 35 27 99 42 36 56 40 47',\n",
       " 'Card   4: 49 19 86  1 45 62 58 42 22 72 | 58 45 69 80 96 56 72 71 42 26  1 22 49 93 86 39 19 68 38 48 67  5 61 62 28',\n",
       " 'Card   5: 42  8 10 71 79 76 64 96 23 50 | 59 61 62 53 86 50 67 23 37 47 73  4 20 64 14 76  9 24 71 66 89 21 94 28 13',\n",
       " 'Card   6: 87 61 26 33 52  9 21 18 74 81 | 20 33 57 14 28 21 47 85 83 16 52 60 41 23 90 75 54 35 61 88 69 64 37 50 43',\n",
       " 'Card   7:  2 48 64 63  8 19 80 93 89 52 | 68 19 32 55  2 42 24 70 43 41 90 48 76 33 45 66 28  3 46 81 82 30 50 96 54']"
      ]
     },
     "execution_count": 2,
     "metadata": {},
     "output_type": "execute_result"
    }
   ],
   "source": [
    "import numpy as np\n",
    "from AOC_utils import get_day\n",
    "\n",
    "day = 4\n",
    "get_day(day)\n",
    "\n",
    "with open(f'days/day{day}input.txt') as f:\n",
    "    input_data = f.readlines()\n",
    "input_data = [line[:-1] for line in input_data] # Remove \\n\n",
    "\n",
    "# print out first few lines to get a feel for the data\n",
    "input_data[:7]"
   ]
  },
  {
   "cell_type": "code",
   "execution_count": 65,
   "metadata": {},
   "outputs": [],
   "source": [
    "example = '''\n",
    "Card 1: 41 48 83 86 17 | 83 86  6 31 17  9 48 53\n",
    "Card 2: 13 32 20 16 61 | 61 30 68 82 17 32 24 19\n",
    "Card 3:  1 21 53 59 44 | 69 82 63 72 16 21 14  1\n",
    "Card 4: 41 92 73 84 69 | 59 84 76 51 58  5 54 83\n",
    "Card 5: 87 83 26 28 32 | 88 30 70 12 93 22 82 36\n",
    "Card 6: 31 18 13 56 72 | 74 77 10 23 35 67 36 11\n",
    "'''.split('\\n')[1:-1]"
   ]
  },
  {
   "cell_type": "code",
   "execution_count": 71,
   "metadata": {},
   "outputs": [],
   "source": [
    "def parse_data(data):\n",
    "    # split out the winning numbers and my numbers\n",
    "    winning_numbers = [x.split(\":\")[-1].split(\"|\")[0].split(\" \") for x in data]\n",
    "    winning_numbers = [[int(i) for i in x if i.isdigit()] for x in winning_numbers]\n",
    "\n",
    "    our_numbers = [x.split(\":\")[-1].split(\"|\")[-1].split(\" \") for x in data]\n",
    "    our_numbers = [[int(i) for i in x if i.isdigit()] for x in our_numbers]\n",
    "\n",
    "    # for part 2, we need to keep track of the number of copies of each card\n",
    "    card_copies = [1 for _ in range(len(data))] # starting with 1 copy for each card\n",
    "\n",
    "    total = 0\n",
    "    for i in range(len(data)):\n",
    "        card = our_numbers[i]\n",
    "        card_total = 0; num_matches = 0\n",
    "\n",
    "        for number in card:\n",
    "            if number in winning_numbers[i]:\n",
    "                if card_total == 0: card_total = 1\n",
    "                else: card_total = card_total * 2\n",
    "                num_matches += 1\n",
    "\n",
    "        # for part 2, we add copies multiplied by the copies we already have of the card\n",
    "        for j in range(num_matches):\n",
    "            card_copies[i+(j+1)] += card_copies[i]\n",
    "        # note, i+(j+1) could result in an index out of range, but I didn't catch it, and luckily my input worked\n",
    "        # it should be min(i+(j+1), len(card_copies)-1) to be safe\n",
    "\n",
    "        # in hindsight, part 1 could have been done with num_matches, rather than my card_total\n",
    "        # which would simplify the code a bit more:\n",
    "        # total += max(round(2 ** (num_matches - 1)), 0)\n",
    "        total += card_total\n",
    "\n",
    "    print(\"part 1:\", total)\n",
    "    print(\"part 2:\", sum(card_copies))"
   ]
  },
  {
   "cell_type": "code",
   "execution_count": 72,
   "metadata": {},
   "outputs": [
    {
     "name": "stdout",
     "output_type": "stream",
     "text": [
      "part 1: 22488\n",
      "part 2: 7013204\n"
     ]
    }
   ],
   "source": [
    "parse_data(input_data)"
   ]
  },
  {
   "cell_type": "code",
   "execution_count": 73,
   "metadata": {},
   "outputs": [
    {
     "name": "stdout",
     "output_type": "stream",
     "text": [
      "part 1: 13\n",
      "part 2: 30\n"
     ]
    }
   ],
   "source": [
    "parse_data(example)"
   ]
  },
  {
   "cell_type": "code",
   "execution_count": null,
   "metadata": {},
   "outputs": [],
   "source": []
  }
 ],
 "metadata": {
  "kernelspec": {
   "display_name": "Python 3",
   "language": "python",
   "name": "python3"
  },
  "language_info": {
   "codemirror_mode": {
    "name": "ipython",
    "version": 3
   },
   "file_extension": ".py",
   "mimetype": "text/x-python",
   "name": "python",
   "nbconvert_exporter": "python",
   "pygments_lexer": "ipython3",
   "version": "3.10.11"
  }
 },
 "nbformat": 4,
 "nbformat_minor": 2
}
