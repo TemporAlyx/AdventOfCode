{
 "cells": [
  {
   "cell_type": "code",
   "execution_count": 1,
   "metadata": {},
   "outputs": [
    {
     "name": "stdout",
     "output_type": "stream",
     "text": [
      "Downloaded day 6 input\n"
     ]
    },
    {
     "data": {
      "text/plain": [
       "['Time:        46     85     75     82',\n",
       " 'Distance:   208   1412   1257   1410']"
      ]
     },
     "execution_count": 1,
     "metadata": {},
     "output_type": "execute_result"
    }
   ],
   "source": [
    "from AOC_utils import get_day\n",
    "import numpy as np\n",
    "\n",
    "day = 6\n",
    "input_data = get_day(day)\n",
    "\n",
    "# print out first few lines to get a feel for the data\n",
    "input_data[:7]"
   ]
  },
  {
   "cell_type": "code",
   "execution_count": 2,
   "metadata": {},
   "outputs": [],
   "source": [
    "example = '''\n",
    "Time:      7  15   30\n",
    "Distance:  9  40  200\n",
    "'''.split('\\n')[1:-1]"
   ]
  },
  {
   "cell_type": "code",
   "execution_count": 20,
   "metadata": {},
   "outputs": [],
   "source": [
    "def parse_data(data):\n",
    "    # separate out the times and the distances\n",
    "    race_times = [int(x) for x in data[0].split(\":\")[1].split(\" \") if x.isdigit()]\n",
    "    record_distances = [int(x) for x in data[1].split(\":\")[1].split(\" \") if x.isdigit()]\n",
    "\n",
    "    totals = []\n",
    "    for i in range(len(race_times)): # for each of the races\n",
    "        ways = 0\n",
    "        time = race_times[i]\n",
    "        record = record_distances[i]\n",
    "\n",
    "        for held in range(time): # check each amount of time held\n",
    "            if (time - held) * held > record: # check whether we beat the record\n",
    "                ways += 1\n",
    "\n",
    "        totals.append(ways) # aggregate all the ways to beat the record for each race\n",
    "    total = np.prod(totals) # multiply them together for part 1 answer\n",
    "\n",
    "\n",
    "    # part 2, treat all numbers as one big time and record\n",
    "    time = int(data[0].split(\":\")[1].replace(\" \", \"\"))\n",
    "    record = int(data[1].split(\":\")[1].replace(\" \", \"\"))\n",
    "\n",
    "    ways = 0\n",
    "    for held in range(time):\n",
    "        if (time - held) * held > record:\n",
    "            ways += 1\n",
    "\n",
    "    # Note: since the times at which you could win occupy a continuous range,\n",
    "    # a more efficient way to do this would be to calculate the bounds of the possible ways, \n",
    "    # but the inputs are sufficiently small that it doesn't matter much.\n",
    "\n",
    "    print(\"part 1:\", total)\n",
    "    print(\"part 2:\", ways)"
   ]
  },
  {
   "cell_type": "code",
   "execution_count": 21,
   "metadata": {},
   "outputs": [
    {
     "name": "stdout",
     "output_type": "stream",
     "text": [
      "part 1: 1108800\n",
      "part 2: 36919753\n"
     ]
    }
   ],
   "source": [
    "parse_data(input_data)"
   ]
  },
  {
   "cell_type": "code",
   "execution_count": 22,
   "metadata": {},
   "outputs": [
    {
     "name": "stdout",
     "output_type": "stream",
     "text": [
      "part 1: 288\n",
      "part 2: 71503\n"
     ]
    }
   ],
   "source": [
    "parse_data(example)"
   ]
  }
 ],
 "metadata": {
  "kernelspec": {
   "display_name": "Python 3",
   "language": "python",
   "name": "python3"
  },
  "language_info": {
   "codemirror_mode": {
    "name": "ipython",
    "version": 3
   },
   "file_extension": ".py",
   "mimetype": "text/x-python",
   "name": "python",
   "nbconvert_exporter": "python",
   "pygments_lexer": "ipython3",
   "version": "3.10.11"
  }
 },
 "nbformat": 4,
 "nbformat_minor": 2
}
