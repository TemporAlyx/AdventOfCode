{
 "cells": [
  {
   "cell_type": "code",
   "execution_count": 1,
   "metadata": {},
   "outputs": [
    {
     "name": "stdout",
     "output_type": "stream",
     "text": [
      "Day 17 input already downloaded\n",
      "5\n"
     ]
    },
    {
     "data": {
      "text/plain": [
       "['Register A: 17323786',\n",
       " 'Register B: 0',\n",
       " 'Register C: 0',\n",
       " '',\n",
       " 'Program: 2,4,1,1,7,5,1,5,4,1,5,5,0,3,3,0']"
      ]
     },
     "execution_count": 1,
     "metadata": {},
     "output_type": "execute_result"
    }
   ],
   "source": [
    "from AOC_utils import get_day\n",
    "import numpy as np\n",
    "\n",
    "day = 17\n",
    "input_data = get_day(day)\n",
    "\n",
    "# print out first few lines to get a feel for the data\n",
    "print(len(input_data))\n",
    "input_data[:7]"
   ]
  },
  {
   "cell_type": "code",
   "execution_count": 2,
   "metadata": {},
   "outputs": [],
   "source": [
    "# part 1\n",
    "example = '''\n",
    "Register A: 729\n",
    "Register B: 0\n",
    "Register C: 0\n",
    "\n",
    "Program: 0,1,5,4,3,0\n",
    "'''.split('\\n')[1:-1]"
   ]
  },
  {
   "cell_type": "code",
   "execution_count": 115,
   "metadata": {},
   "outputs": [],
   "source": [
    "# part 2\n",
    "example = '''\n",
    "Register A: 2024\n",
    "Register B: 0\n",
    "Register C: 0\n",
    "\n",
    "Program: 0,3,5,4,3,0\n",
    "'''.split('\\n')[1:-1]"
   ]
  },
  {
   "cell_type": "code",
   "execution_count": 4,
   "metadata": {},
   "outputs": [],
   "source": [
    "from z3.z3 import Solver, sat, Real, Int, Function"
   ]
  },
  {
   "cell_type": "code",
   "execution_count": 129,
   "metadata": {},
   "outputs": [
    {
     "name": "stdout",
     "output_type": "stream",
     "text": [
      "part 1: 5,7,3,0\n",
      "part 2: 117440\n"
     ]
    }
   ],
   "source": [
    "def solve_day(data):\n",
    "    part1 = 0\n",
    "    part2 = 0\n",
    "\n",
    "    regA = 0\n",
    "    regB = 0\n",
    "    regC = 0\n",
    "\n",
    "    program = []\n",
    "    for line in data:\n",
    "        if 'A' in line:\n",
    "            regA = int(line.split(\": \")[1])\n",
    "        elif 'B' in line:\n",
    "            regB = int(line.split(\": \")[1])\n",
    "        elif 'C' in line:\n",
    "            regC = int(line.split(\": \")[1])\n",
    "        elif \"Program\" in line:\n",
    "            program.extend(line.split(\": \")[1].split(\",\"))\n",
    "    program = np.array(program, dtype=int).tolist()\n",
    "\n",
    "\n",
    "    def run_program(program, regA, regB, regC, part2=False):\n",
    "        output = []\n",
    "        inst_op = 0\n",
    "        while inst_op < len(program):\n",
    "            inst = program[inst_op]\n",
    "            lit_operand = program[inst_op+1]\n",
    "            operand = lit_operand\n",
    "\n",
    "            if lit_operand == 4:\n",
    "                operand = regA\n",
    "            elif lit_operand == 5:\n",
    "                operand = regB\n",
    "            elif lit_operand == 6:\n",
    "                operand = regC\n",
    "\n",
    "            if inst == 0:\n",
    "                regA = int(regA // 2 ** operand)\n",
    "            elif inst == 1:\n",
    "                regB = regB ^ lit_operand\n",
    "            elif inst == 2:\n",
    "                regB = operand % 8\n",
    "            elif inst == 3:\n",
    "                if regA != 0:\n",
    "                    inst_op = lit_operand\n",
    "                    continue\n",
    "            elif inst == 4:\n",
    "                regB = regB ^ regC\n",
    "            elif inst == 5:\n",
    "                output.append(operand % 8)\n",
    "            elif inst == 6:\n",
    "                regB = int(regA // 2 ** operand)\n",
    "            elif inst == 7:\n",
    "                regC = int(regA // 2 ** operand)\n",
    "\n",
    "            inst_op += 2\n",
    "\n",
    "        return output\n",
    "        \n",
    "    part1 = ''.join([str(x)+',' for x in run_program(program, regA, regB, regC)])[:-1]\n",
    "\n",
    "    # this is not really my code I needed so many hints and help\n",
    "    valid_regA = [0]\n",
    "    for i in range(len(program)):\n",
    "        new_valid_regA = []\n",
    "        for a in valid_regA:\n",
    "            prev_regA_js = np.array([a | j for j in range(8)])\n",
    "            valid_outputs = [regA << 3 for regA in prev_regA_js if run_program(program, regA, regB, regC)[0] == program[-(i+1)]]\n",
    "            if valid_outputs:\n",
    "                new_valid_regA.extend(valid_outputs)\n",
    "        valid_regA = new_valid_regA\n",
    "    part2 = min(valid_regA) >> 3\n",
    "\n",
    "    print(\"part 1:\", part1)\n",
    "    print(\"part 2:\", part2)\n",
    "\n",
    "solve_day(example)"
   ]
  },
  {
   "cell_type": "code",
   "execution_count": 130,
   "metadata": {},
   "outputs": [
    {
     "name": "stdout",
     "output_type": "stream",
     "text": [
      "part 1: 7,4,2,5,1,4,6,0,4\n",
      "part 2: 164278764924605\n"
     ]
    }
   ],
   "source": [
    "solve_day(input_data)"
   ]
  },
  {
   "cell_type": "code",
   "execution_count": null,
   "metadata": {},
   "outputs": [],
   "source": [
    "# 17592186044416\n",
    "# 52776558133247\n",
    "# 163278631875070\n",
    "# 164255948652285\n",
    "# 164277135429500\n",
    "# 164278496478075\n",
    "# 164278764924602\n",
    "# 164278764924605"
   ]
  }
 ],
 "metadata": {
  "kernelspec": {
   "display_name": "Python 3",
   "language": "python",
   "name": "python3"
  },
  "language_info": {
   "codemirror_mode": {
    "name": "ipython",
    "version": 3
   },
   "file_extension": ".py",
   "mimetype": "text/x-python",
   "name": "python",
   "nbconvert_exporter": "python",
   "pygments_lexer": "ipython3",
   "version": "3.13.0"
  }
 },
 "nbformat": 4,
 "nbformat_minor": 2
}
