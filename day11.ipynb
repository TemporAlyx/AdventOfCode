{
 "cells": [
  {
   "cell_type": "code",
   "execution_count": 1,
   "metadata": {},
   "outputs": [
    {
     "name": "stdout",
     "output_type": "stream",
     "text": [
      "Day 11 input already downloaded\n",
      "1\n"
     ]
    },
    {
     "data": {
      "text/plain": [
       "['5688 62084 2 3248809 179 79 0 172169']"
      ]
     },
     "execution_count": 1,
     "metadata": {},
     "output_type": "execute_result"
    }
   ],
   "source": [
    "from AOC_utils import get_day\n",
    "import numpy as np\n",
    "\n",
    "day = 11\n",
    "input_data = get_day(day)\n",
    "\n",
    "# print out first few lines to get a feel for the data\n",
    "print(len(input_data))\n",
    "input_data[:7]"
   ]
  },
  {
   "cell_type": "code",
   "execution_count": 2,
   "metadata": {},
   "outputs": [],
   "source": [
    "# part 1\n",
    "example = '''\n",
    "125 17\n",
    "'''.split('\\n')[1:-1]"
   ]
  },
  {
   "cell_type": "code",
   "execution_count": 3,
   "metadata": {},
   "outputs": [
    {
     "name": "stdout",
     "output_type": "stream",
     "text": [
      "part 1: 55312\n",
      "part 2: 65601038650482\n"
     ]
    }
   ],
   "source": [
    "def solve_day(data, total_blinks=25):\n",
    "    count = 0\n",
    "\n",
    "    data = [x for x in data[0].split()]\n",
    "\n",
    "    cache = {}\n",
    "\n",
    "    def recurse(num, depth):\n",
    "        if depth == 0:\n",
    "            return 1\n",
    "        c = num + '_' + str(depth)\n",
    "        if c in cache:\n",
    "            return cache[c]\n",
    "        else:\n",
    "            if num == '0':\n",
    "                return recurse('1', depth-1)\n",
    "            elif len(num) % 2 == 0:\n",
    "                new_num = recurse(str(int(num[:len(num)//2])), depth-1) + recurse(str(int(num[len(num)//2:])), depth-1)\n",
    "                cache[c] = new_num\n",
    "                return new_num\n",
    "            else:\n",
    "                return recurse(str(int(num) * 2024), depth-1)\n",
    "            \n",
    "    for num in data:\n",
    "        count += recurse(num, total_blinks)\n",
    "\n",
    "    return count\n",
    "\n",
    "print('part 1:', solve_day(example, 25))\n",
    "print('part 2:', solve_day(example, 75))"
   ]
  },
  {
   "cell_type": "code",
   "execution_count": 4,
   "metadata": {},
   "outputs": [
    {
     "name": "stdout",
     "output_type": "stream",
     "text": [
      "part 1: 186175\n",
      "part 2: 220566831337810\n"
     ]
    }
   ],
   "source": [
    "print('part 1:', solve_day(input_data, 25))\n",
    "print('part 2:', solve_day(input_data, 75))"
   ]
  }
 ],
 "metadata": {
  "kernelspec": {
   "display_name": "Python 3",
   "language": "python",
   "name": "python3"
  },
  "language_info": {
   "codemirror_mode": {
    "name": "ipython",
    "version": 3
   },
   "file_extension": ".py",
   "mimetype": "text/x-python",
   "name": "python",
   "nbconvert_exporter": "python",
   "pygments_lexer": "ipython3",
   "version": "3.10.11"
  }
 },
 "nbformat": 4,
 "nbformat_minor": 2
}
