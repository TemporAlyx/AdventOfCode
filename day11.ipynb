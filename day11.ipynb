{
 "cells": [
  {
   "cell_type": "code",
   "execution_count": 1,
   "metadata": {},
   "outputs": [
    {
     "name": "stdout",
     "output_type": "stream",
     "text": [
      "Downloaded day 11 input\n"
     ]
    },
    {
     "data": {
      "text/plain": [
       "['.........................#.........#..................#..............#.......#.....#........................#............#.....#...........#',\n",
       " '.............................................#.....................................................#........................................',\n",
       " '.......#............#..........#............................................................................................................',\n",
       " '.#................................................#........#.............................................#..............................#...',\n",
       " '................#.....................#.............................................................................#.......................',\n",
       " '........................................................................#....................#................#...........#.................',\n",
       " '...........................................#........................................#.......................................................']"
      ]
     },
     "execution_count": 1,
     "metadata": {},
     "output_type": "execute_result"
    }
   ],
   "source": [
    "from AOC_utils import get_day\n",
    "import numpy as np\n",
    "\n",
    "day = 11\n",
    "input_data = get_day(day)\n",
    "\n",
    "# print out first few lines to get a feel for the data\n",
    "input_data[:7]"
   ]
  },
  {
   "cell_type": "code",
   "execution_count": 2,
   "metadata": {},
   "outputs": [],
   "source": [
    "example = '''\n",
    "...#......\n",
    ".......#..\n",
    "#.........\n",
    "..........\n",
    "......#...\n",
    ".#........\n",
    ".........#\n",
    "..........\n",
    ".......#..\n",
    "#...#.....\n",
    "'''.split('\\n')[1:-1]"
   ]
  },
  {
   "cell_type": "code",
   "execution_count": 112,
   "metadata": {},
   "outputs": [],
   "source": [
    "def parse_data(data):\n",
    "\n",
    "    data = np.array([[1 if x == '#' else 0 for x in list(line)] for line in data])\n",
    "\n",
    "    # find where there are no galaxies for vertical and horizontal expansions\n",
    "    vertical_expansions = []\n",
    "    for i in range(len(data)):\n",
    "        if data[i].sum() == 0:\n",
    "            vertical_expansions.append(i)\n",
    "    \n",
    "    horizontal_expansions = []\n",
    "    for i in range(len(data.T)):\n",
    "        if data.T[i].sum() == 0:\n",
    "            horizontal_expansions.append(i)\n",
    "\n",
    "    # get locations of all galaxies\n",
    "    galaxies = np.argwhere(data == 1)\n",
    "\n",
    "    # account for expansions\n",
    "    def add_expansion(galaxies, expansions):\n",
    "        new_galaxies = []\n",
    "        for x in range(len(galaxies)):\n",
    "            i, j = galaxies[x]\n",
    "            newi, newj = i, j\n",
    "            for v in vertical_expansions:\n",
    "                if i >= v: newi += expansions - 1\n",
    "            for h in horizontal_expansions:\n",
    "                if j >= h: newj += expansions - 1\n",
    "            new_galaxies.append([newi, newj])\n",
    "        return new_galaxies\n",
    "\n",
    "    # get shortest paths between all galaxies\n",
    "    def get_distances(galaxies):\n",
    "        distances = np.full((len(galaxies), len(galaxies)), np.inf)\n",
    "        for i in range(len(galaxies)):\n",
    "            for j in range(i+1, len(galaxies)):\n",
    "                # manhattan distance\n",
    "                vertical = np.abs(galaxies[i][0] - galaxies[j][0])\n",
    "                horizontal = np.abs(galaxies[i][1] - galaxies[j][1])\n",
    "                distances[i, j] = vertical + horizontal\n",
    "        return distances\n",
    "    \n",
    "    part1_galaxies = add_expansion(galaxies, 2)\n",
    "    part2_galaxies = add_expansion(galaxies, 1000000)\n",
    "\n",
    "    part1_distances = get_distances(part1_galaxies)\n",
    "    part2_distances = get_distances(part2_galaxies)\n",
    "\n",
    "    # remove inf values and sum possible distances between galaxies\n",
    "    total = part1_distances.flatten()[part1_distances.flatten() != np.inf].sum().astype(np.int64)\n",
    "    total2 = part2_distances.flatten()[part2_distances.flatten() != np.inf].sum().astype(np.int64)\n",
    "\n",
    "    print(\"part 1:\", total)\n",
    "    print(\"part 2:\", total2)"
   ]
  },
  {
   "cell_type": "code",
   "execution_count": 113,
   "metadata": {},
   "outputs": [
    {
     "name": "stdout",
     "output_type": "stream",
     "text": [
      "part 1: 9918828\n",
      "part 2: 692506533832\n"
     ]
    }
   ],
   "source": [
    "parse_data(input_data)"
   ]
  },
  {
   "cell_type": "code",
   "execution_count": 114,
   "metadata": {},
   "outputs": [
    {
     "name": "stdout",
     "output_type": "stream",
     "text": [
      "part 1: 374\n",
      "part 2: 82000210\n"
     ]
    }
   ],
   "source": [
    "parse_data(example)"
   ]
  },
  {
   "cell_type": "code",
   "execution_count": null,
   "metadata": {},
   "outputs": [],
   "source": []
  }
 ],
 "metadata": {
  "kernelspec": {
   "display_name": "Python 3",
   "language": "python",
   "name": "python3"
  },
  "language_info": {
   "codemirror_mode": {
    "name": "ipython",
    "version": 3
   },
   "file_extension": ".py",
   "mimetype": "text/x-python",
   "name": "python",
   "nbconvert_exporter": "python",
   "pygments_lexer": "ipython3",
   "version": "3.10.11"
  }
 },
 "nbformat": 4,
 "nbformat_minor": 2
}
