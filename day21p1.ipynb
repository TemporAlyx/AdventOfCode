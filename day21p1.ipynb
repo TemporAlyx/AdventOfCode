{
 "cells": [
  {
   "cell_type": "code",
   "execution_count": 1,
   "metadata": {},
   "outputs": [
    {
     "name": "stdout",
     "output_type": "stream",
     "text": [
      "Downloaded day 21 input\n"
     ]
    },
    {
     "data": {
      "text/plain": [
       "['...................................................................................................................................',\n",
       " '...............##....#.......#.....#..#...............#....#..........#........#.........#....#.............#.##.#.......#.#.......',\n",
       " '..............#..........#....##.#..........#......###.#.##...............#....#....#.#........##.....#..#.##..............#...##..',\n",
       " '........##....#..#.......#...#.#.........#.#.......#......#..............#.........#.........#....#.....#..#....##..##......#......',\n",
       " '......#..#...#...##.........#....##...#.#......#..........................#.....#...#..............................#..........#....',\n",
       " '..#.#..#...............#...........##.....#.#.#.................#...........#.....##.#..#...............#....#.#...#.........#...#.',\n",
       " '....##...#.#............#.#.....#..........#.#.#................#................##.#...#.....#........#....#...#......#...#.......']"
      ]
     },
     "execution_count": 1,
     "metadata": {},
     "output_type": "execute_result"
    }
   ],
   "source": [
    "from AOC_utils import get_day\n",
    "import numpy as np\n",
    "\n",
    "day = 21\n",
    "input_data = get_day(day)\n",
    "\n",
    "# print out first few lines to get a feel for the data\n",
    "input_data[:7]"
   ]
  },
  {
   "cell_type": "code",
   "execution_count": 2,
   "metadata": {},
   "outputs": [],
   "source": [
    "example = '''\n",
    "...........\n",
    ".....###.#.\n",
    ".###.##..#.\n",
    "..#.#...#..\n",
    "....#.#....\n",
    ".##..S####.\n",
    ".##..#...#.\n",
    ".......##..\n",
    ".##.#.####.\n",
    ".##..##.##.\n",
    "...........\n",
    "'''.split('\\n')[1:-1]"
   ]
  },
  {
   "cell_type": "code",
   "execution_count": 3,
   "metadata": {},
   "outputs": [
    {
     "data": {
      "text/plain": [
       "131"
      ]
     },
     "execution_count": 3,
     "metadata": {},
     "output_type": "execute_result"
    }
   ],
   "source": [
    "len(input_data)"
   ]
  },
  {
   "cell_type": "code",
   "execution_count": 51,
   "metadata": {},
   "outputs": [],
   "source": [
    "def parse_data(data, steps):\n",
    "\n",
    "    grid = np.array([list(line) for line in data])\n",
    "    # add a border of '.' around the data to make indexing less annoying\n",
    "    grid = np.concatenate((np.array([['#'] * len(grid[0])]), grid, np.array([['#'] * len(grid[0])])), axis=0)\n",
    "    grid = np.concatenate((np.array([['#'] * len(grid.T[0])]).reshape(-1,1), grid, np.array([['#'] * len(grid.T[0])]).reshape(-1,1)), axis=1)\n",
    "\n",
    "    print(grid)\n",
    "\n",
    "    # find S\n",
    "    S = np.argwhere(grid == 'S')[0]\n",
    "\n",
    "    # replace S with garden plot\n",
    "    grid[S[0], S[1]] = '.'\n",
    "    rocks = np.argwhere(grid == '#')\n",
    "    is_not_rock_grid = grid != '#'\n",
    "\n",
    "    current_steps = np.array([S,])\n",
    "\n",
    "    directions = np.array([[0,1], [1,0], [0,-1], [-1,0]]).T[None,:,:]\n",
    "\n",
    "    for _ in range(steps):\n",
    "        current_steps = current_steps[:,:,None] + directions\n",
    "        current_steps = current_steps.transpose(0,2,1).reshape(-1,2)\n",
    "        modulo_current_steps = current_steps #% grid_size\n",
    "        current_steps = current_steps[is_not_rock_grid[modulo_current_steps[:,0], modulo_current_steps[:,1]]]\n",
    "        current_steps = np.unique(current_steps, axis=0)\n",
    "\n",
    "    total = len(current_steps)\n",
    "    print(\"part 1:\", total)"
   ]
  },
  {
   "cell_type": "code",
   "execution_count": 45,
   "metadata": {},
   "outputs": [
    {
     "name": "stdout",
     "output_type": "stream",
     "text": [
      "[['#' '#' '#' ... '#' '#' '#']\n",
      " ['#' '.' '.' ... '.' '.' '#']\n",
      " ['#' '.' '.' ... '.' '.' '#']\n",
      " ...\n",
      " ['#' '.' '.' ... '.' '.' '#']\n",
      " ['#' '.' '.' ... '.' '.' '#']\n",
      " ['#' '#' '#' ... '#' '#' '#']]\n",
      "part 1: 3591\n"
     ]
    }
   ],
   "source": [
    "parse_data(input_data, 64)"
   ]
  },
  {
   "cell_type": "code",
   "execution_count": 15,
   "metadata": {},
   "outputs": [
    {
     "name": "stdout",
     "output_type": "stream",
     "text": [
      "[['#' '#' '#' '#' '#' '#' '#' '#' '#' '#' '#' '#' '#']\n",
      " ['#' '.' '.' '.' '.' '.' '.' '.' '.' '.' '.' '.' '#']\n",
      " ['#' '.' '.' '.' '.' '.' '#' '#' '#' '.' '#' '.' '#']\n",
      " ['#' '.' '#' '#' '#' '.' '#' '#' '.' '.' '#' '.' '#']\n",
      " ['#' '.' '.' '#' '.' '#' '.' '.' '.' '#' '.' '.' '#']\n",
      " ['#' '.' '.' '.' '.' '#' '.' '#' '.' '.' '.' '.' '#']\n",
      " ['#' '.' '#' '#' '.' '.' 'S' '#' '#' '#' '#' '.' '#']\n",
      " ['#' '.' '#' '#' '.' '.' '#' '.' '.' '.' '#' '.' '#']\n",
      " ['#' '.' '.' '.' '.' '.' '.' '.' '#' '#' '.' '.' '#']\n",
      " ['#' '.' '#' '#' '.' '#' '.' '#' '#' '#' '#' '.' '#']\n",
      " ['#' '.' '#' '#' '.' '.' '#' '#' '.' '#' '#' '.' '#']\n",
      " ['#' '.' '.' '.' '.' '.' '.' '.' '.' '.' '.' '.' '#']\n",
      " ['#' '#' '#' '#' '#' '#' '#' '#' '#' '#' '#' '#' '#']]\n",
      "part 1: 16\n",
      "part 2: 0\n"
     ]
    }
   ],
   "source": [
    "parse_data(example, 6)"
   ]
  }
 ],
 "metadata": {
  "kernelspec": {
   "display_name": "Python 3",
   "language": "python",
   "name": "python3"
  },
  "language_info": {
   "codemirror_mode": {
    "name": "ipython",
    "version": 3
   },
   "file_extension": ".py",
   "mimetype": "text/x-python",
   "name": "python",
   "nbconvert_exporter": "python",
   "pygments_lexer": "ipython3",
   "version": "3.10.11"
  }
 },
 "nbformat": 4,
 "nbformat_minor": 2
}
