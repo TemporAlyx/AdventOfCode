{
 "cells": [
  {
   "cell_type": "code",
   "execution_count": 1,
   "metadata": {},
   "outputs": [
    {
     "name": "stdout",
     "output_type": "stream",
     "text": [
      "Day 8 input already downloaded\n",
      "50\n"
     ]
    },
    {
     "data": {
      "text/plain": [
       "['.A...........5........................pL..........',\n",
       " '.................................p......L.........',\n",
       " '......................................L...........',\n",
       " '.......................................C..........',\n",
       " '........v...................7...............C.....',\n",
       " '..................................p........L......',\n",
       " '.................vA......3........................']"
      ]
     },
     "execution_count": 1,
     "metadata": {},
     "output_type": "execute_result"
    }
   ],
   "source": [
    "from AOC_utils import get_day\n",
    "import numpy as np\n",
    "\n",
    "day = 8\n",
    "input_data = get_day(day)\n",
    "\n",
    "# print out first few lines to get a feel for the data\n",
    "print(len(input_data))\n",
    "input_data[:7]"
   ]
  },
  {
   "cell_type": "code",
   "execution_count": 2,
   "metadata": {},
   "outputs": [],
   "source": [
    "# part 1\n",
    "example = '''\n",
    "............\n",
    "........0...\n",
    ".....0......\n",
    ".......0....\n",
    "....0.......\n",
    "......A.....\n",
    "............\n",
    "............\n",
    "........A...\n",
    ".........A..\n",
    "............\n",
    "............\n",
    "'''.split('\\n')[1:-1]"
   ]
  },
  {
   "cell_type": "code",
   "execution_count": 17,
   "metadata": {},
   "outputs": [
    {
     "name": "stdout",
     "output_type": "stream",
     "text": [
      "part 2: 34\n"
     ]
    }
   ],
   "source": [
    "def solve_day(data):\n",
    "    part2 = 0\n",
    "\n",
    "    data = np.array([[y for y in x] for x in data]) # 2d array\n",
    "    new_data = data.copy()\n",
    "\n",
    "    unique_antennas, antenna_counts = np.unique(data[data != '.'], return_counts=True)\n",
    "    \n",
    "    for antenna in unique_antennas:\n",
    "        all_antennas = np.argwhere(data == antenna)\n",
    "        antinode_distances = all_antennas[:,None] - all_antennas[None,:]\n",
    "\n",
    "        antinode_distances = antinode_distances[~np.all(antinode_distances.reshape(-1,2) == [0,0], \n",
    "                                                        axis=-1).reshape(antinode_distances.shape[:-1])].reshape(len(all_antennas), -1, 2)\n",
    "        \n",
    "        for i in range(len(antinode_distances)):\n",
    "            a = antinode_distances[i]\n",
    "            for d in a:\n",
    "                new = all_antennas[i] + d\n",
    "                while new[0] >= 0 and new[1] >= 0 and new[0] < data.shape[0] and new[1] < data.shape[1]:\n",
    "                    if new_data[new[0], new[1]] == '.':\n",
    "                        new_data[new[0], new[1]] = '#'\n",
    "                    new += d\n",
    "\n",
    "    part2 += new_data[new_data == '#'].shape[0] + np.sum(antenna_counts[antenna_counts > 1])\n",
    "    print(\"part 2:\", part2)\n",
    "\n",
    "solve_day(example)"
   ]
  },
  {
   "cell_type": "code",
   "execution_count": 18,
   "metadata": {},
   "outputs": [
    {
     "name": "stdout",
     "output_type": "stream",
     "text": [
      "part 2: 1231\n"
     ]
    }
   ],
   "source": [
    "solve_day(input_data)"
   ]
  }
 ],
 "metadata": {
  "kernelspec": {
   "display_name": "Python 3",
   "language": "python",
   "name": "python3"
  },
  "language_info": {
   "codemirror_mode": {
    "name": "ipython",
    "version": 3
   },
   "file_extension": ".py",
   "mimetype": "text/x-python",
   "name": "python",
   "nbconvert_exporter": "python",
   "pygments_lexer": "ipython3",
   "version": "3.13.0"
  }
 },
 "nbformat": 4,
 "nbformat_minor": 2
}
