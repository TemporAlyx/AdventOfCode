{
 "cells": [
  {
   "cell_type": "code",
   "execution_count": 1,
   "metadata": {},
   "outputs": [
    {
     "name": "stdout",
     "output_type": "stream",
     "text": [
      "Day 8 input already downloaded\n"
     ]
    },
    {
     "data": {
      "text/plain": [
       "['LRLRRLLRRLRRRLRLRRRLLRRLLLLRRRLRRRLRRLRRLRRRLRRRLLRRLRLRRLRRRLLLRRLRRLLRLLRRRLRRRLLRLRRRLRLLRRLLLRLRRRLRRRLRRRLLRLRRRLLRRLRLRLLRRLRRRLRRLRLLRLRRRLRRLRLRLRRLRRRLRRRLRRRLRRLRRRLLRRLRRLLRRRLLRLRLRLRLLLRRLRLRRLRRLRRLRRLRRRLRRRLRLRRRLRLRRRLRRLRLLRLRRLRLRLLLRLLLRRRLRRLLLRLRRRR',\n",
       " '',\n",
       " 'PNM = (QGP, BFT)',\n",
       " 'HNH = (JPB, GMH)',\n",
       " 'FNN = (DDN, PTB)',\n",
       " 'VJS = (LHL, THF)',\n",
       " 'KPV = (JFQ, TRN)']"
      ]
     },
     "execution_count": 1,
     "metadata": {},
     "output_type": "execute_result"
    }
   ],
   "source": [
    "from AOC_utils import get_day\n",
    "import numpy as np\n",
    "\n",
    "day = 8\n",
    "input_data = get_day(day)\n",
    "\n",
    "# print out first few lines to get a feel for the data\n",
    "input_data[:7]"
   ]
  },
  {
   "cell_type": "code",
   "execution_count": 2,
   "metadata": {},
   "outputs": [],
   "source": [
    "example = '''\n",
    "LR\n",
    "\n",
    "11A = (11B, XXX)\n",
    "11B = (XXX, 11Z)\n",
    "11Z = (11B, XXX)\n",
    "22A = (22B, XXX)\n",
    "22B = (22C, 22C)\n",
    "22C = (22Z, 22Z)\n",
    "22Z = (22B, 22B)\n",
    "XXX = (XXX, XXX)\n",
    "'''.split('\\n')[1:-1]"
   ]
  },
  {
   "cell_type": "code",
   "execution_count": 3,
   "metadata": {},
   "outputs": [
    {
     "data": {
      "text/plain": [
       "748"
      ]
     },
     "execution_count": 3,
     "metadata": {},
     "output_type": "execute_result"
    }
   ],
   "source": [
    "len(input_data)"
   ]
  },
  {
   "cell_type": "code",
   "execution_count": 4,
   "metadata": {},
   "outputs": [],
   "source": [
    "import math"
   ]
  },
  {
   "cell_type": "code",
   "execution_count": 52,
   "metadata": {},
   "outputs": [],
   "source": [
    "def parse_data(data):\n",
    "    total = 0\n",
    "\n",
    "    ins = list(data[0])\n",
    "\n",
    "    nodes = [x.split(\"=\")[0].replace(\" \", \"\") for x in data[2:]]\n",
    "    nodes_lr = [x.split(\"=\")[1].replace(\"(\", \"\").replace(\")\", \"\").replace(\" \", \"\").split(',') for x in data[2:]]\n",
    "\n",
    "    nodes_dict = dict(zip(nodes, nodes_lr))\n",
    "\n",
    "\n",
    "    total = 0\n",
    "    current_node = \"AAA\" # note, won't work for part 2 examples\n",
    "    i = 0\n",
    "    while True:\n",
    "        instruction = ins[i]\n",
    "\n",
    "        if instruction == \"L\":\n",
    "            current_node = nodes_dict[current_node][0]\n",
    "        elif instruction == \"R\":\n",
    "            current_node = nodes_dict[current_node][1]\n",
    "\n",
    "        total += 1\n",
    "\n",
    "        if current_node == \"ZZZ\":\n",
    "            break\n",
    "\n",
    "        i += 1\n",
    "        if i == len(ins):\n",
    "            i = 0\n",
    "\n",
    "    print(\"part 1:\", total)\n",
    "\n",
    "    # part 2\n",
    "\n",
    "    total2 = 0\n",
    "    \n",
    "    current_nodes = [node for node in nodes if node[-1] == \"A\"]\n",
    "    node_loop_end = [-1 for node in current_nodes] # note, assumes all starts->ends are loops\n",
    "    # additionally assumes that all nodes to get to the loop are part of the loop \n",
    "    # ^ and don't have any other paths based on the instructions\n",
    "    i = 0\n",
    "    while True:\n",
    "        instruction = ins[i]\n",
    "\n",
    "        if instruction == \"L\":\n",
    "            for j in range(len(current_nodes)):\n",
    "                current_nodes[j] = nodes_dict[current_nodes[j]][0]\n",
    "        elif instruction == \"R\":\n",
    "            for j in range(len(current_nodes)):\n",
    "                current_nodes[j] = nodes_dict[current_nodes[j]][1]\n",
    "\n",
    "        total2 += 1\n",
    "\n",
    "        for j in range(len(current_nodes)):\n",
    "            node = current_nodes[j]\n",
    "            if node[-1] == 'Z':\n",
    "                node_loop_end[j] = total2\n",
    "\n",
    "        if -1 not in node_loop_end:\n",
    "            print(\"part 2:\", np.lcm.reduce(np.array(node_loop_end), dtype=np.int64))\n",
    "            break\n",
    "                        \n",
    "        i += 1\n",
    "        if i == len(ins):\n",
    "            i = 0"
   ]
  },
  {
   "cell_type": "code",
   "execution_count": 53,
   "metadata": {},
   "outputs": [
    {
     "name": "stdout",
     "output_type": "stream",
     "text": [
      "part 1: 15989\n",
      "part 2: 13830919117339\n"
     ]
    }
   ],
   "source": [
    "parse_data(input_data)"
   ]
  },
  {
   "cell_type": "code",
   "execution_count": null,
   "metadata": {},
   "outputs": [],
   "source": [
    "parse_data(example)"
   ]
  }
 ],
 "metadata": {
  "kernelspec": {
   "display_name": "Python 3",
   "language": "python",
   "name": "python3"
  },
  "language_info": {
   "codemirror_mode": {
    "name": "ipython",
    "version": 3
   },
   "file_extension": ".py",
   "mimetype": "text/x-python",
   "name": "python",
   "nbconvert_exporter": "python",
   "pygments_lexer": "ipython3",
   "version": "3.10.11"
  }
 },
 "nbformat": 4,
 "nbformat_minor": 2
}
