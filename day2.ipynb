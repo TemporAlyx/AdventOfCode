{
 "cells": [
  {
   "cell_type": "code",
   "execution_count": 1,
   "metadata": {},
   "outputs": [
    {
     "name": "stdout",
     "output_type": "stream",
     "text": [
      "Downloaded day 2 input\n",
      "1000\n"
     ]
    },
    {
     "data": {
      "text/plain": [
       "['8 10 13 14 12',\n",
       " '40 42 45 47 49 49',\n",
       " '45 48 51 52 55 58 62',\n",
       " '61 63 64 67 69 72 74 81',\n",
       " '95 97 98 99 98 99',\n",
       " '84 85 88 89 88 85',\n",
       " '20 23 21 24 25 28 31 31']"
      ]
     },
     "execution_count": 1,
     "metadata": {},
     "output_type": "execute_result"
    }
   ],
   "source": [
    "from AOC_utils import get_day\n",
    "import numpy as np\n",
    "\n",
    "day = 2\n",
    "input_data = get_day(day)\n",
    "\n",
    "# print out first few lines to get a feel for the data\n",
    "print(len(input_data))\n",
    "input_data[:7]"
   ]
  },
  {
   "cell_type": "code",
   "execution_count": 8,
   "metadata": {},
   "outputs": [],
   "source": [
    "example = '''\n",
    "7 6 4 2 1\n",
    "1 2 7 8 9\n",
    "9 7 6 2 1\n",
    "1 3 2 4 5\n",
    "8 6 4 4 1\n",
    "1 3 6 7 9\n",
    "'''.split('\\n')[1:-1]"
   ]
  },
  {
   "cell_type": "code",
   "execution_count": 106,
   "metadata": {},
   "outputs": [],
   "source": [
    "def check_report(report):\n",
    "    \n",
    "    fwd_diff = np.abs(np.diff(report))\n",
    "    ranked = report[np.argsort(report)]\n",
    "\n",
    "    fwd_diff_bool = np.all(np.logical_and(fwd_diff >= 1, fwd_diff <= 3))\n",
    "\n",
    "    ranked_high = np.all(ranked == report)\n",
    "    ranked_low = np.all(ranked[::-1] == report)\n",
    "\n",
    "    if fwd_diff_bool and (ranked_high or ranked_low):\n",
    "        return True\n",
    "    else:\n",
    "        return False\n",
    "\n",
    "def solve_day(data):\n",
    "    data = [np.array([int(y) for y in x.split()]) for x in data]\n",
    "\n",
    "    valid_reports = [check_report(x) for x in data]\n",
    "    part1 = np.sum(valid_reports)\n",
    "\n",
    "    part2 = part1\n",
    "    for valid, report in zip(valid_reports, data):\n",
    "        if not valid:\n",
    "            for i in range(len(report)):\n",
    "                new_report = np.delete(report, i)\n",
    "                if check_report(new_report):\n",
    "                    part2 += 1\n",
    "                    break\n",
    "\n",
    "    print(\"part 1:\", part1)\n",
    "    print(\"part 2:\", part2)"
   ]
  },
  {
   "cell_type": "code",
   "execution_count": 108,
   "metadata": {},
   "outputs": [
    {
     "name": "stdout",
     "output_type": "stream",
     "text": [
      "part 1: 598\n",
      "part 2: 634\n"
     ]
    }
   ],
   "source": [
    "solve_day(input_data)"
   ]
  },
  {
   "cell_type": "code",
   "execution_count": 107,
   "metadata": {},
   "outputs": [
    {
     "name": "stdout",
     "output_type": "stream",
     "text": [
      "part 1: 2\n",
      "part 2: 4\n"
     ]
    }
   ],
   "source": [
    "solve_day(example)"
   ]
  }
 ],
 "metadata": {
  "kernelspec": {
   "display_name": "Python 3",
   "language": "python",
   "name": "python3"
  },
  "language_info": {
   "codemirror_mode": {
    "name": "ipython",
    "version": 3
   },
   "file_extension": ".py",
   "mimetype": "text/x-python",
   "name": "python",
   "nbconvert_exporter": "python",
   "pygments_lexer": "ipython3",
   "version": "3.10.11"
  }
 },
 "nbformat": 4,
 "nbformat_minor": 2
}
