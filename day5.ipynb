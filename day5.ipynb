{
 "cells": [
  {
   "cell_type": "code",
   "execution_count": 1,
   "metadata": {},
   "outputs": [
    {
     "name": "stdout",
     "output_type": "stream",
     "text": [
      "Day 5 input already downloaded\n"
     ]
    },
    {
     "data": {
      "text/plain": [
       "['seeds: 5844012 110899473 1132285750 58870036 986162929 109080640 3089574276 100113624 2693179996 275745330 2090752257 201704169 502075018 396653347 1540050181 277513792 1921754120 26668991 3836386950 66795009',\n",
       " '',\n",
       " 'seed-to-soil map:',\n",
       " '3547471595 1239929038 174680800',\n",
       " '3052451552 758183681 481745357',\n",
       " '0 1427884524 1775655006',\n",
       " '2844087171 549819300 208364381']"
      ]
     },
     "execution_count": 1,
     "metadata": {},
     "output_type": "execute_result"
    }
   ],
   "source": [
    "from AOC_utils import get_day\n",
    "import numpy as np\n",
    "\n",
    "day = 5\n",
    "input_data = get_day(day)\n",
    "\n",
    "# print out first few lines to get a feel for the data\n",
    "input_data[:7]"
   ]
  },
  {
   "cell_type": "code",
   "execution_count": 2,
   "metadata": {},
   "outputs": [],
   "source": [
    "example = '''\n",
    "seeds: 79 14 55 13\n",
    "\n",
    "seed-to-soil map:\n",
    "50 98 2\n",
    "52 50 48\n",
    "\n",
    "soil-to-fertilizer map:\n",
    "0 15 37\n",
    "37 52 2\n",
    "39 0 15\n",
    "\n",
    "fertilizer-to-water map:\n",
    "49 53 8\n",
    "0 11 42\n",
    "42 0 7\n",
    "57 7 4\n",
    "\n",
    "water-to-light map:\n",
    "88 18 7\n",
    "18 25 70\n",
    "\n",
    "light-to-temperature map:\n",
    "45 77 23\n",
    "81 45 19\n",
    "68 64 13\n",
    "\n",
    "temperature-to-humidity map:\n",
    "0 69 1\n",
    "1 0 69\n",
    "\n",
    "humidity-to-location map:\n",
    "60 56 37\n",
    "56 93 4\n",
    "'''.split('\\n')[1:-1]"
   ]
  },
  {
   "cell_type": "code",
   "execution_count": 25,
   "metadata": {},
   "outputs": [],
   "source": [
    "def parse_data(data):\n",
    "    # get seeds from first line of data\n",
    "    seeds = np.array([int(x) for x in data[0].split(\" \")[1:]])\n",
    "\n",
    "    # for part 2, seeds work in pairs\n",
    "    seed_pairs = seeds.reshape((-1 , 2))\n",
    "\n",
    "    # rest of the input is used to construct mappings\n",
    "    maps = {}\n",
    "    ranges = []\n",
    "    new_map = \"\"\n",
    "    for i in range(1, len(data)):\n",
    "        if \"map\" in data[i]:\n",
    "            if len(ranges) > 0:\n",
    "                maps[new_map] = ranges\n",
    "                ranges = []\n",
    "            new_map = data[i].split(\" \")[0]\n",
    "        else:\n",
    "            new_range = [int(x) for x in data[i].split(\" \") if x.isdigit()]\n",
    "            if len(new_range) > 0:\n",
    "                ranges.append(new_range)\n",
    "        if i == len(data)-1:\n",
    "            maps[new_map] = ranges\n",
    "\n",
    "    def convert_ranges(sources, mapping):\n",
    "        sources_copy = sources.copy()\n",
    "        for rang in mapping:\n",
    "            \n",
    "            diff = rang[0] - rang[1]\n",
    "            \n",
    "            mapping_overlap = np.bitwise_and((sources >= rang[1]), (sources < rang[1]+rang[2]))\n",
    "            sources_copy[mapping_overlap] = sources_copy[mapping_overlap] + diff\n",
    "\n",
    "        return sources_copy\n",
    "\n",
    "    def get_locations(seedsx):\n",
    "        soils = convert_ranges(seedsx, maps[\"seed-to-soil\"])\n",
    "        fertilizers = convert_ranges(soils, maps[\"soil-to-fertilizer\"])\n",
    "        waters = convert_ranges(fertilizers, maps[\"fertilizer-to-water\"])\n",
    "        lights = convert_ranges(waters, maps[\"water-to-light\"])\n",
    "        temperatures = convert_ranges(lights, maps[\"light-to-temperature\"])\n",
    "        humidities = convert_ranges(temperatures, maps[\"temperature-to-humidity\"])\n",
    "        locations = convert_ranges(humidities, maps[\"humidity-to-location\"])\n",
    "        return locations\n",
    "    \n",
    "    locations = get_locations(seeds)\n",
    "    print(\"part 1:\", min(locations))\n",
    "    \n",
    "\n",
    "    # part 2 (brute force ~ 12 min)\n",
    "    # min_locations = []\n",
    "    # for i in range(len(seed_pairs)):\n",
    "    #     pair = seed_pairs[i]\n",
    "    #     seedsx = np.arange(pair[0]-1, pair[0]+pair[1]-1)\n",
    "        \n",
    "    #     locations = get_locations(seedsx)\n",
    "    #     min_locations.append(min(locations))\n",
    "\n",
    "    # print(\"part 2:\", min(min_locations))\n",
    "\n",
    "\n",
    "    # part 2: start with locations and work backwards (still brute force but faster ~ 3 min)\n",
    "    def batch_invert_map(idxs, mapping):\n",
    "        new_idxs = idxs.copy()\n",
    "        for rang in mapping:\n",
    "            diff = rang[1] - rang[0]\n",
    "            new_idxs = np.where(np.bitwise_and((idxs >= rang[0]), (idxs < rang[0]+rang[2])), idxs + diff, new_idxs)\n",
    "        return new_idxs\n",
    "\n",
    "    break_flag = False\n",
    "    stepsize = 1000000\n",
    "    i = 0\n",
    "    while True:\n",
    "        irang = np.arange(i, i+stepsize)\n",
    "        # start with the locations and work backwards\n",
    "        x = batch_invert_map(irang, maps[\"humidity-to-location\"])\n",
    "        x = batch_invert_map(x, maps[\"temperature-to-humidity\"])\n",
    "        x = batch_invert_map(x, maps[\"light-to-temperature\"])\n",
    "        x = batch_invert_map(x, maps[\"water-to-light\"])\n",
    "        x = batch_invert_map(x, maps[\"fertilizer-to-water\"])\n",
    "        x = batch_invert_map(x, maps[\"soil-to-fertilizer\"])\n",
    "        x = batch_invert_map(x, maps[\"seed-to-soil\"])\n",
    "\n",
    "        # check whether any of the locations are in the seeds\n",
    "        for pair in seed_pairs:\n",
    "            seed_matches = np.bitwise_and(x >= pair[0], x < pair[0]+pair[1])\n",
    "            if np.any(seed_matches):\n",
    "                print(\"part 2:\", min(irang[seed_matches]))\n",
    "                break_flag = True\n",
    "                break\n",
    "        if break_flag:\n",
    "            break\n",
    "        i += stepsize\n",
    "\n",
    "    # part 2: but for real this time\n",
    "    def collpase_maps(map0, map1):\n",
    "        # for each range in map0 loop through each range in map1 and see if they overlap\n",
    "        # if they do, then collapse the range by \n",
    "        \n",
    "\n",
    "    # pretty sure the 'correct' way to solve this problem is by collapsing the mappings into a single mapping\n",
    "    # and then the same code used to collpase the mappings, could be used to collapse the range of seeds\n",
    "    # additionally I think you can filter out bad mappings that wouldn't result in a low location"
   ]
  },
  {
   "cell_type": "code",
   "execution_count": 27,
   "metadata": {},
   "outputs": [
    {
     "name": "stdout",
     "output_type": "stream",
     "text": [
      "part 1: 825516882\n",
      "part 2: 136096660\n"
     ]
    }
   ],
   "source": [
    "parse_data(input_data)"
   ]
  },
  {
   "cell_type": "code",
   "execution_count": 26,
   "metadata": {},
   "outputs": [
    {
     "name": "stdout",
     "output_type": "stream",
     "text": [
      "part 1: 35\n",
      "part 2: 46\n"
     ]
    }
   ],
   "source": [
    "parse_data(example)"
   ]
  },
  {
   "cell_type": "code",
   "execution_count": null,
   "metadata": {},
   "outputs": [],
   "source": []
  }
 ],
 "metadata": {
  "kernelspec": {
   "display_name": "Python 3",
   "language": "python",
   "name": "python3"
  },
  "language_info": {
   "codemirror_mode": {
    "name": "ipython",
    "version": 3
   },
   "file_extension": ".py",
   "mimetype": "text/x-python",
   "name": "python",
   "nbconvert_exporter": "python",
   "pygments_lexer": "ipython3",
   "version": "3.10.11"
  }
 },
 "nbformat": 4,
 "nbformat_minor": 2
}
