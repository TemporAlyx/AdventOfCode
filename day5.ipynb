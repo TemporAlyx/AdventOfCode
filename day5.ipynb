{
 "cells": [
  {
   "cell_type": "code",
   "execution_count": 2,
   "metadata": {},
   "outputs": [
    {
     "name": "stdout",
     "output_type": "stream",
     "text": [
      "Day 5 input already downloaded\n",
      "1371\n"
     ]
    },
    {
     "data": {
      "text/plain": [
       "['84|39', '48|11', '48|79', '88|98', '88|82', '88|12', '69|67']"
      ]
     },
     "execution_count": 2,
     "metadata": {},
     "output_type": "execute_result"
    }
   ],
   "source": [
    "from AOC_utils import get_day\n",
    "import numpy as np\n",
    "\n",
    "day = 5\n",
    "input_data = get_day(day)\n",
    "\n",
    "# print out first few lines to get a feel for the data\n",
    "print(len(input_data))\n",
    "input_data[:7]"
   ]
  },
  {
   "cell_type": "code",
   "execution_count": 3,
   "metadata": {},
   "outputs": [],
   "source": [
    "# part 1\n",
    "example = '''\n",
    "47|53\n",
    "97|13\n",
    "97|61\n",
    "97|47\n",
    "75|29\n",
    "61|13\n",
    "75|53\n",
    "29|13\n",
    "97|29\n",
    "53|29\n",
    "61|53\n",
    "97|53\n",
    "61|29\n",
    "47|13\n",
    "75|47\n",
    "97|75\n",
    "47|61\n",
    "75|61\n",
    "47|29\n",
    "75|13\n",
    "53|13\n",
    "\n",
    "75,47,61,53,29\n",
    "97,61,53,29,13\n",
    "75,29,13\n",
    "75,97,47,61,53\n",
    "61,13,29\n",
    "97,13,75,29,47\n",
    "'''.split('\\n')[1:-1]"
   ]
  },
  {
   "cell_type": "code",
   "execution_count": 31,
   "metadata": {},
   "outputs": [
    {
     "name": "stdout",
     "output_type": "stream",
     "text": [
      "part 1: 143\n",
      "part 2: 123\n"
     ]
    }
   ],
   "source": [
    "def solve_day(data):\n",
    "    part1 = 0\n",
    "    part2 = 0\n",
    "\n",
    "    page_orders = []\n",
    "    updates = []\n",
    "\n",
    "    for line in data:\n",
    "        if '|' in line:\n",
    "            page_order = line.split('|')\n",
    "            page_orders.append(page_order)\n",
    "        elif ',' in line:\n",
    "            update = line.split(',')\n",
    "            updates.append(update)\n",
    "\n",
    "    page_mapping = {}\n",
    "    for page_order in page_orders:\n",
    "        if page_order[0] not in page_mapping:\n",
    "            page_mapping[page_order[0]] = [page_order[1]]\n",
    "        else:\n",
    "            page_mapping[page_order[0]] += [page_order[1]]\n",
    "\n",
    "    for update in updates:\n",
    "        old_update = update\n",
    "\n",
    "        updatebroken = False\n",
    "        \n",
    "        for i in range(len(update)):\n",
    "            n = update[i]\n",
    "            if n in page_mapping:\n",
    "                mapping = page_mapping[n]\n",
    "                intersection = np.intersect1d(update[:i], mapping)\n",
    "\n",
    "                if len(intersection) != 0:\n",
    "                    updatebroken = True\n",
    "\n",
    "                    indexes = [update.index(i) for i in intersection]\n",
    "                    first_intersection = min(indexes)\n",
    "\n",
    "                    update.pop(i)\n",
    "                    update.insert(first_intersection, n)\n",
    "                    \n",
    "        if not updatebroken:\n",
    "            part1 += int(old_update[(len(old_update)//2)])\n",
    "        else:\n",
    "            part2 += int(update[(len(update)//2)])\n",
    "\n",
    "    print(\"part 1:\", part1)\n",
    "    print(\"part 2:\", part2)\n",
    "\n",
    "solve_day(example)"
   ]
  },
  {
   "cell_type": "code",
   "execution_count": 32,
   "metadata": {},
   "outputs": [
    {
     "name": "stdout",
     "output_type": "stream",
     "text": [
      "part 1: 4905\n",
      "part 2: 6204\n"
     ]
    }
   ],
   "source": [
    "solve_day(input_data)"
   ]
  }
 ],
 "metadata": {
  "kernelspec": {
   "display_name": "Python 3",
   "language": "python",
   "name": "python3"
  },
  "language_info": {
   "codemirror_mode": {
    "name": "ipython",
    "version": 3
   },
   "file_extension": ".py",
   "mimetype": "text/x-python",
   "name": "python",
   "nbconvert_exporter": "python",
   "pygments_lexer": "ipython3",
   "version": "3.13.0"
  }
 },
 "nbformat": 4,
 "nbformat_minor": 2
}
