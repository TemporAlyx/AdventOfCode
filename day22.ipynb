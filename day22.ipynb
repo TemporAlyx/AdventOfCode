{
 "cells": [
  {
   "cell_type": "code",
   "execution_count": 1,
   "metadata": {},
   "outputs": [
    {
     "name": "stdout",
     "output_type": "stream",
     "text": [
      "Day 22 input already downloaded\n",
      "2044\n"
     ]
    },
    {
     "data": {
      "text/plain": [
       "['7798933', '14182798', '2317489', '2761480', '12070436', '6811285', '9207844']"
      ]
     },
     "execution_count": 1,
     "metadata": {},
     "output_type": "execute_result"
    }
   ],
   "source": [
    "from AOC_utils import get_day\n",
    "import numpy as np\n",
    "from numpy import lib\n",
    "\n",
    "day = 22\n",
    "input_data = get_day(day)\n",
    "\n",
    "# print out first few lines to get a feel for the data\n",
    "print(len(input_data))\n",
    "input_data[:7]"
   ]
  },
  {
   "cell_type": "code",
   "execution_count": 2,
   "metadata": {},
   "outputs": [],
   "source": [
    "example = '''\n",
    "1\n",
    "2\n",
    "3\n",
    "2024\n",
    "'''.split('\\n')[1:-1]"
   ]
  },
  {
   "cell_type": "code",
   "execution_count": 7,
   "metadata": {},
   "outputs": [],
   "source": [
    "import time"
   ]
  },
  {
   "cell_type": "code",
   "execution_count": 14,
   "metadata": {},
   "outputs": [
    {
     "name": "stdout",
     "output_type": "stream",
     "text": [
      "(1997, 4, 4)\n",
      "(1997, 4)\n",
      "part 1: 37990510\n",
      "part 2: 21.0\n"
     ]
    }
   ],
   "source": [
    "def solve_day(data):\n",
    "    part1 = 0\n",
    "    part2 = 0\n",
    "\n",
    "    data = np.array([int(x) for x in data], dtype=np.int64)\n",
    "\n",
    "    def secret_iter(data, n=2000):\n",
    "        all_numbers = np.zeros((n+1, len(data)))\n",
    "        all_numbers[0] = data\n",
    "        for i in range(n):\n",
    "            nd = data * 64\n",
    "            data = (nd ^ data) % 16777216\n",
    "            nd = data // 32\n",
    "            data = (nd ^ data) % 16777216\n",
    "            nd = data * 2048\n",
    "            data = (nd ^ data) % 16777216\n",
    "            all_numbers[i+1] = data\n",
    "        return data, all_numbers\n",
    "\n",
    "    data, all_numbers = secret_iter(data)\n",
    "\n",
    "    part1 = np.sum(data)\n",
    "\n",
    "    prices = all_numbers % 10\n",
    "    price_changes = np.diff(prices, axis=0)\n",
    "\n",
    "    price_change_windows = lib.stride_tricks.sliding_window_view(price_changes, 4, axis=0)\n",
    "    sliced_prices = prices[4:]\n",
    "\n",
    "    print(price_change_windows.shape)\n",
    "    print(sliced_prices.shape)\n",
    "    \n",
    "    best_window = -1\n",
    "\n",
    "    sequences = np.unique(price_change_windows.reshape(-1, 4), axis=-1)\n",
    "    for window in sequences:\n",
    "        where_window = np.all(window == price_change_windows, axis=-1)\n",
    "        if not np.any(where_window):\n",
    "            continue\n",
    "\n",
    "        first_occurances = []\n",
    "        occurance_dims = []\n",
    "        for dim in range(where_window.shape[-1]):\n",
    "            occurances = np.arange(len(price_change_windows))[where_window[:,dim]]\n",
    "            if len(occurances) > 0:\n",
    "                first_occurances.append(occurances[0])\n",
    "                occurance_dims.append(dim)\n",
    "\n",
    "        if first_occurances:\n",
    "            total_price = np.sum([sliced_prices[i, j] for i, j in zip(first_occurances, occurance_dims)])\n",
    "            if total_price > best_window:\n",
    "                best_window = total_price\n",
    "\n",
    "    part2 = best_window\n",
    "\n",
    "    print(\"part 1:\", part1)\n",
    "    print(\"part 2:\", part2)\n",
    "\n",
    "solve_day(example)"
   ]
  },
  {
   "cell_type": "code",
   "execution_count": null,
   "metadata": {},
   "outputs": [
    {
     "name": "stdout",
     "output_type": "stream",
     "text": [
      "(1997, 2044, 4)\n",
      "(1997, 2044)\n",
      "[ 6. -3. -3. -3.] 0.0\n",
      "[-8.  4. -1. -3.] 42.0\n",
      "[-3. -3. -2.  8.] 659.0\n",
      "[ 2. -2. -4.  6.] 1121.0\n",
      "[-3.  3. -2.  5.] 1278.0\n",
      "[-5.  5. -1.  1.] 1343.0\n",
      "[ 3.  1. -2.  1.] 1382.0\n",
      "[ 1. -4.  0.  5.] 1430.0\n",
      "[0. 0. 4. 0.] 1464.0\n",
      "[ 0. -1. -2.  3.] 1612.0\n",
      "[ 0. -4.  1.  3.] 1636.0\n",
      "[-1.  2.  0.  0.] 1766.0\n",
      "[-2.  0. -1.  3.] 1767.0\n",
      "[-1.  1. -1.  2.] 1901.0\n",
      "[ 1. -1.  0.  1.] 1910.0\n"
     ]
    }
   ],
   "source": [
    "solve_day(input_data)"
   ]
  }
 ],
 "metadata": {
  "kernelspec": {
   "display_name": "Python 3",
   "language": "python",
   "name": "python3"
  },
  "language_info": {
   "codemirror_mode": {
    "name": "ipython",
    "version": 3
   },
   "file_extension": ".py",
   "mimetype": "text/x-python",
   "name": "python",
   "nbconvert_exporter": "python",
   "pygments_lexer": "ipython3",
   "version": "3.10.11"
  }
 },
 "nbformat": 4,
 "nbformat_minor": 2
}
