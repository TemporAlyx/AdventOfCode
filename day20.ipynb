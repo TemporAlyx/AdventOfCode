{
 "cells": [
  {
   "cell_type": "code",
   "execution_count": 1,
   "metadata": {},
   "outputs": [
    {
     "name": "stdout",
     "output_type": "stream",
     "text": [
      "Day 20 input already downloaded\n",
      "141\n"
     ]
    },
    {
     "data": {
      "text/plain": [
       "['#############################################################################################################################################',\n",
       " '#.......#.....#.......#.....#...#.......###...###...###...#...#...###...#...............###...###...........#.............#...#.....#.....###',\n",
       " '#.#####.#.###.#.#####.#.###.#.#.#.#####.###.#.###.#.###.#.#.#.#.#.###.#.#.#############.###.#.###.#########.#.###########.#.#.#.###.#.###.###',\n",
       " '#.....#.#...#.#.....#.#.#...#.#.#.....#.#...#.#...#.....#...#...#...#.#.#.#...#.........#...#.#...#.........#.......#.....#.#...#...#...#...#',\n",
       " '#####.#.###.#.#####.#.#.#.###.#.#####.#.#.###.#.###################.#.#.#.#.#.#.#########.###.#.###.###############.#.#####.#####.#####.###.#',\n",
       " '#.....#...#.#.###...#...#...#.#.#.....#.#...#.#...........#.........#.#.#...#.#.#...#...#...#...#...#.......#...###.#...#...#.....#...#.#...#',\n",
       " '#.#######.#.#.###.#########.#.#.#.#####.###.#.###########.#.#########.#.#####.#.#.#.#.#.###.#####.###.#####.#.#.###.###.#.###.#####.#.#.#.###']"
      ]
     },
     "execution_count": 1,
     "metadata": {},
     "output_type": "execute_result"
    }
   ],
   "source": [
    "from AOC_utils import get_day\n",
    "import numpy as np\n",
    "\n",
    "day = 20\n",
    "input_data = get_day(day)\n",
    "\n",
    "# print out first few lines to get a feel for the data\n",
    "print(len(input_data))\n",
    "input_data[:7]"
   ]
  },
  {
   "cell_type": "code",
   "execution_count": 2,
   "metadata": {},
   "outputs": [],
   "source": [
    "example = '''\n",
    "###############\n",
    "#...#...#.....#\n",
    "#.#.#.#.#.###.#\n",
    "#S#...#.#.#...#\n",
    "#######.#.#.###\n",
    "#######.#.#...#\n",
    "#######.#.###.#\n",
    "###..E#...#...#\n",
    "###.#######.###\n",
    "#...###...#...#\n",
    "#.#####.#.###.#\n",
    "#.#...#.#.#...#\n",
    "#.#.#.#.#.#.###\n",
    "#...#...#...###\n",
    "###############\n",
    "'''.split('\\n')[1:-1]"
   ]
  },
  {
   "cell_type": "code",
   "execution_count": 3,
   "metadata": {},
   "outputs": [
    {
     "name": "stdout",
     "output_type": "stream",
     "text": [
      "part 1: 1\n",
      "part 2: 285\n"
     ]
    }
   ],
   "source": [
    "def solve_day(data, time=100, cheat_length=20):\n",
    "    part1 = 0\n",
    "    part2 = 0\n",
    "\n",
    "    data = np.array([list(x) for x in data]) # 2d array\n",
    "\n",
    "    data_times = np.zeros(data.shape)\n",
    "    data_times[data == '#'] = -1\n",
    "    data_times[data == '.'] = 0\n",
    "    data_times[data == 'S'] = 0\n",
    "    data_times[data == 'E'] = 0\n",
    "\n",
    "    current = np.argwhere(data == 'S')[0]\n",
    "    end = np.argwhere(data == 'E')[0]\n",
    "    count = 1\n",
    "\n",
    "    directions = np.array([[0, 1], [1, 0], [0, -1], [-1, 0]])\n",
    "\n",
    "    while ~np.all(current == end):\n",
    "        new_spaces = current + directions\n",
    "        new_current = data[new_spaces[:, 0], new_spaces[:, 1]]\n",
    "        new_space = new_spaces[np.logical_or(new_current == '.', new_current == 'E')]\n",
    "        new_space = new_space.flatten()\n",
    "\n",
    "        data_times[new_space[0], new_space[1]] = count\n",
    "        data[new_space[0], new_space[1]] = count\n",
    "        count += 1\n",
    "        current = new_space\n",
    "\n",
    "    cheats = []\n",
    "    cheat_locs = []\n",
    "\n",
    "    for i in range(1, len(data_times)-1):\n",
    "        for j in range(1, len(data_times) - 1):\n",
    "            if data_times[i, j] != -1:\n",
    "                continue\n",
    "\n",
    "            up = data_times[i-1, j]\n",
    "            down = data_times[i+1, j]\n",
    "\n",
    "            left = data_times[i, j-1]\n",
    "            right = data_times[i, j+1]\n",
    "\n",
    "            if up != -1 and down != -1:\n",
    "                cheats.append(abs(up - down) - 2)\n",
    "                cheat_locs.append((i, j))\n",
    "            if left != -1 and right != -1:\n",
    "                cheats.append(abs(left - right) - 2)\n",
    "                cheat_locs.append((i, j))\n",
    "\n",
    "    part1 = np.sum(np.array(cheats) >= time)\n",
    "\n",
    "    path_pos = np.argwhere(data_times >= 0)\n",
    "    path_matrix = path_pos[..., None] - path_pos.T[None, ...]\n",
    "    path_matrix = np.sum(np.abs(path_matrix), axis=1)\n",
    "    \n",
    "    possible_paths = np.argwhere(path_matrix <= cheat_length)\n",
    "\n",
    "    possible_path_lengths = path_matrix[possible_paths[:,0], possible_paths[:,1]]\n",
    "\n",
    "    path_start_times = data_times[path_pos[possible_paths[:,0], 0], \n",
    "                                  path_pos[possible_paths[:,0], 1]]\n",
    "    path_end_times = data_times[path_pos[possible_paths[:,1], 0],\n",
    "                                path_pos[possible_paths[:,1], 1]]\n",
    "    \n",
    "    path_times = np.abs(path_start_times - path_end_times) - possible_path_lengths\n",
    "\n",
    "    part2 = np.sum(path_times >= time) // 2\n",
    "\n",
    "    print(\"part 1:\", part1)\n",
    "    print(\"part 2:\", part2)\n",
    "\n",
    "solve_day(example, 50)"
   ]
  },
  {
   "cell_type": "code",
   "execution_count": 4,
   "metadata": {},
   "outputs": [
    {
     "name": "stdout",
     "output_type": "stream",
     "text": [
      "part 1: 1317\n",
      "part 2: 982474\n"
     ]
    }
   ],
   "source": [
    "solve_day(input_data)"
   ]
  }
 ],
 "metadata": {
  "kernelspec": {
   "display_name": "Python 3",
   "language": "python",
   "name": "python3"
  },
  "language_info": {
   "codemirror_mode": {
    "name": "ipython",
    "version": 3
   },
   "file_extension": ".py",
   "mimetype": "text/x-python",
   "name": "python",
   "nbconvert_exporter": "python",
   "pygments_lexer": "ipython3",
   "version": "3.13.0"
  }
 },
 "nbformat": 4,
 "nbformat_minor": 2
}
