{
 "cells": [
  {
   "cell_type": "code",
   "execution_count": 1,
   "metadata": {},
   "outputs": [
    {
     "name": "stdout",
     "output_type": "stream",
     "text": [
      "Day 20 input already downloaded\n"
     ]
    },
    {
     "data": {
      "text/plain": [
       "['%fl -> tf, gz',\n",
       " '%xb -> hl, tl',\n",
       " '%mq -> tf, fl',\n",
       " '%px -> hl, tm',\n",
       " '%dp -> xv',\n",
       " 'broadcaster -> js, ng, lb, gr',\n",
       " '&ql -> rx']"
      ]
     },
     "execution_count": 1,
     "metadata": {},
     "output_type": "execute_result"
    }
   ],
   "source": [
    "from AOC_utils import get_day\n",
    "import numpy as np\n",
    "\n",
    "day = 20\n",
    "input_data = get_day(day)\n",
    "\n",
    "# print out first few lines to get a feel for the data\n",
    "input_data[:7]"
   ]
  },
  {
   "cell_type": "code",
   "execution_count": 2,
   "metadata": {},
   "outputs": [],
   "source": [
    "example = '''\n",
    "broadcaster -> a, b, c\n",
    "%a -> b\n",
    "%b -> c\n",
    "%c -> inv\n",
    "&inv -> a\n",
    "'''.split('\\n')[1:-1]"
   ]
  },
  {
   "cell_type": "code",
   "execution_count": 3,
   "metadata": {},
   "outputs": [],
   "source": [
    "example = '''\n",
    "broadcaster -> a\n",
    "%a -> inv, con\n",
    "&inv -> b\n",
    "%b -> con\n",
    "&con -> output\n",
    "'''.split('\\n')[1:-1]"
   ]
  },
  {
   "cell_type": "code",
   "execution_count": 4,
   "metadata": {},
   "outputs": [
    {
     "data": {
      "text/plain": [
       "58"
      ]
     },
     "execution_count": 4,
     "metadata": {},
     "output_type": "execute_result"
    }
   ],
   "source": [
    "len(input_data)"
   ]
  },
  {
   "cell_type": "code",
   "execution_count": 5,
   "metadata": {},
   "outputs": [],
   "source": [
    "import math"
   ]
  },
  {
   "cell_type": "code",
   "execution_count": 48,
   "metadata": {},
   "outputs": [],
   "source": [
    "def parse_data(data):\n",
    "\n",
    "    def initialize_modules():\n",
    "        modules = {}\n",
    "        conjuncts = []\n",
    "        for line in data:\n",
    "            operator = line[0]\n",
    "            name, outputs = line.split(' -> ')\n",
    "            if not 'broadcaster' in name:\n",
    "                name = name[1:]\n",
    "            outputs = outputs.split(', ')\n",
    "            if operator == '%':\n",
    "                state = False # flip flops start off\n",
    "            elif operator == '&':\n",
    "                conjuncts.append(name)\n",
    "                state = {}\n",
    "            else:\n",
    "                state = False\n",
    "            modules[name] = (operator, outputs, state)\n",
    "\n",
    "        # need to fill in conjunct inputs\n",
    "        for conjunct in conjuncts:\n",
    "            for key, values in modules.items():\n",
    "                if conjunct in values[1]:\n",
    "                    modules[conjunct][2][key] = False\n",
    "\n",
    "        # need to add empty modules that don't yet exist\n",
    "        add_modules = []\n",
    "        for module in modules:\n",
    "            operator, outputs, state = modules[module]\n",
    "            for output in outputs:\n",
    "                if output not in modules:\n",
    "                    add_modules.append(output)\n",
    "        for module in add_modules:\n",
    "            modules[module] = ('b', [], False)\n",
    "\n",
    "        return modules\n",
    "\n",
    "    modules = initialize_modules()\n",
    "    \n",
    "    stack = []\n",
    "    signal_cache = {}\n",
    "    def pass_signal(name, signal, signal_from, order=0):\n",
    "        operator, outputs, state = modules[name]\n",
    "        # state_string = \"\"\n",
    "        # if type(state) == dict: state_string.join([str(int(x)) for x in state.values()])\n",
    "        # else: state_string = str(int(state))\n",
    "        # signal_string = name + signal_from + operator + str(int(signal)) + str(state) + state_string\n",
    "        # if signal_string in signal_cache:\n",
    "        #     state, output_stack = signal_cache[signal_string]\n",
    "        #     modules[name] = (operator, outputs, state)\n",
    "        #     stack.insert(order, output_stack)\n",
    "        # else:\n",
    "        output_stack = []\n",
    "        if operator == '%' and not signal:\n",
    "            state = not state\n",
    "            modules[name] = (operator, outputs, state)\n",
    "            for output in outputs:\n",
    "                output_stack.append((output, state, name))\n",
    "        elif operator == '&':\n",
    "            state[signal_from] = signal\n",
    "            modules[name] = (operator, outputs, state)\n",
    "            for output in outputs:\n",
    "                output_stack.append((output, not all(state.values()), name))\n",
    "        elif operator == 'b': # broadcaster\n",
    "            for output in outputs:\n",
    "                output_stack.append((output, signal, name))\n",
    "        stack.insert(order, output_stack)\n",
    "            # signal_cache[signal_string] = (state, output_stack)\n",
    "        if name == \"ql\" and signal:\n",
    "            # print(\"ql\", state)\n",
    "            return state.copy()\n",
    "        else:\n",
    "            return False\n",
    "\n",
    "\n",
    "    def push_button():\n",
    "        state_outputs = []\n",
    "        low_pulses = 0\n",
    "        high_pulses = 0\n",
    "        stack.append([('broadcaster', False, \"button\")])\n",
    "        while stack:\n",
    "            substack = stack.pop(0)\n",
    "            for i in range(len(substack)):\n",
    "                name, signal, signal_from = substack[i]\n",
    "                # print(signal_from, signal, name)\n",
    "                state_output = pass_signal(name, signal, signal_from, order=i)\n",
    "                if state_output:\n",
    "                    state_outputs.append(state_output)\n",
    "                if signal:\n",
    "                    high_pulses += 1\n",
    "                else:\n",
    "                    low_pulses += 1\n",
    "        return low_pulses, high_pulses, state_outputs\n",
    "        \n",
    "    global_low_pulses = 0\n",
    "    global_high_pulses = 0\n",
    "    for i in range(1000):\n",
    "        low_pulses, high_pulses, _ = push_button()\n",
    "        global_low_pulses += low_pulses\n",
    "        global_high_pulses += high_pulses\n",
    "\n",
    "    total = global_low_pulses * global_high_pulses\n",
    "    print(\"part 1:\", total)\n",
    "\n",
    "\n",
    "    # part 2\n",
    "    modules = initialize_modules()\n",
    "    # print(len(modules))\n",
    "    \n",
    "\n",
    "    previous_rx_states = np.full(4, False)\n",
    "    \n",
    "    cycle_has_started = np.full(len(previous_rx_states), 0)\n",
    "    cycle_starts = np.full(len(previous_rx_states), None)\n",
    "    cycle_ends = np.full(len(previous_rx_states), None)\n",
    "\n",
    "    # print(previous_rx_states)\n",
    "    \n",
    "    for i in range(100000):\n",
    "        low_pulses, high_pulses, ql_state_change = push_button()\n",
    "        # check conjunctor states\n",
    "        if ql_state_change:\n",
    "            new_states = list(ql_state_change[0].values())\n",
    "            # print(\"new_states\", new_states)\n",
    "        else:\n",
    "            new_states = np.full(4, False)\n",
    "        for idx in range(4):\n",
    "            if previous_rx_states[idx] != new_states[idx]:\n",
    "                if new_states[idx]:\n",
    "                    if cycle_has_started[idx] == 0:\n",
    "                        cycle_starts[idx] = i\n",
    "                    elif cycle_has_started[idx] == 1:\n",
    "                        cycle_ends[idx] = i\n",
    "                    cycle_has_started[idx] += 1\n",
    "        \n",
    "        previous_rx_states = new_states\n",
    "\n",
    "\n",
    "        # if i % 10000 == 0:\n",
    "            # print(i, cycle_starts, cycle_ends)\n",
    "        if all(cycle_ends):\n",
    "            break\n",
    "\n",
    "            # print(previous_rx_states)\n",
    "\n",
    "    # print(modules_to_bytes())\n",
    "    \n",
    "    # print(cycle_starts)\n",
    "    # print(cycle_ends)\n",
    "    cycle_lengths = np.array(cycle_ends) - np.array(cycle_starts)\n",
    "    # print(cycle_lengths)\n",
    "    # print(cycle_lengths * 2)\n",
    "\n",
    "    # print(math.lcm(*cycle_starts[cycle_starts != 0]))\n",
    "    # print(math.lcm(math.lcm(*cycle_starts[cycle_starts != 0]), math.lcm(*cycle_lengths)))\n",
    "    # print(cycle_lengths)\n",
    "    total2 = math.lcm(*cycle_lengths)\n",
    "    print(\"part 2:\", total2)"
   ]
  },
  {
   "cell_type": "code",
   "execution_count": 49,
   "metadata": {},
   "outputs": [
    {
     "name": "stdout",
     "output_type": "stream",
     "text": [
      "part 1: 787056720\n"
     ]
    },
    {
     "ename": "TypeError",
     "evalue": "unsupported operand type(s) for -: 'NoneType' and 'NoneType'",
     "output_type": "error",
     "traceback": [
      "\u001b[1;31m---------------------------------------------------------------------------\u001b[0m",
      "\u001b[1;31mTypeError\u001b[0m                                 Traceback (most recent call last)",
      "Cell \u001b[1;32mIn[49], line 1\u001b[0m\n\u001b[1;32m----> 1\u001b[0m \u001b[43mparse_data\u001b[49m\u001b[43m(\u001b[49m\u001b[43minput_data\u001b[49m\u001b[43m)\u001b[49m\n",
      "Cell \u001b[1;32mIn[48], line 177\u001b[0m, in \u001b[0;36mparse_data\u001b[1;34m(data)\u001b[0m\n\u001b[0;32m    169\u001b[0m         \u001b[38;5;28;01mbreak\u001b[39;00m\n\u001b[0;32m    171\u001b[0m         \u001b[38;5;66;03m# print(previous_rx_states)\u001b[39;00m\n\u001b[0;32m    172\u001b[0m \n\u001b[0;32m    173\u001b[0m \u001b[38;5;66;03m# print(modules_to_bytes())\u001b[39;00m\n\u001b[0;32m    174\u001b[0m \n\u001b[0;32m    175\u001b[0m \u001b[38;5;66;03m# print(cycle_starts)\u001b[39;00m\n\u001b[0;32m    176\u001b[0m \u001b[38;5;66;03m# print(cycle_ends)\u001b[39;00m\n\u001b[1;32m--> 177\u001b[0m cycle_lengths \u001b[38;5;241m=\u001b[39m \u001b[43mnp\u001b[49m\u001b[38;5;241;43m.\u001b[39;49m\u001b[43marray\u001b[49m\u001b[43m(\u001b[49m\u001b[43mcycle_ends\u001b[49m\u001b[43m)\u001b[49m\u001b[43m \u001b[49m\u001b[38;5;241;43m-\u001b[39;49m\u001b[43m \u001b[49m\u001b[43mnp\u001b[49m\u001b[38;5;241;43m.\u001b[39;49m\u001b[43marray\u001b[49m\u001b[43m(\u001b[49m\u001b[43mcycle_starts\u001b[49m\u001b[43m)\u001b[49m\n\u001b[0;32m    178\u001b[0m \u001b[38;5;66;03m# print(cycle_lengths)\u001b[39;00m\n\u001b[0;32m    179\u001b[0m \u001b[38;5;66;03m# print(cycle_lengths * 2)\u001b[39;00m\n\u001b[0;32m    180\u001b[0m \n\u001b[0;32m    181\u001b[0m \u001b[38;5;66;03m# print(math.lcm(*cycle_starts[cycle_starts != 0]))\u001b[39;00m\n\u001b[0;32m    182\u001b[0m \u001b[38;5;66;03m# print(math.lcm(math.lcm(*cycle_starts[cycle_starts != 0]), math.lcm(*cycle_lengths)))\u001b[39;00m\n\u001b[0;32m    183\u001b[0m \u001b[38;5;66;03m# print(cycle_lengths)\u001b[39;00m\n\u001b[0;32m    184\u001b[0m total2 \u001b[38;5;241m=\u001b[39m math\u001b[38;5;241m.\u001b[39mlcm(\u001b[38;5;241m*\u001b[39mcycle_lengths)\n",
      "\u001b[1;31mTypeError\u001b[0m: unsupported operand type(s) for -: 'NoneType' and 'NoneType'"
     ]
    }
   ],
   "source": [
    "parse_data(input_data)"
   ]
  },
  {
   "cell_type": "code",
   "execution_count": 47,
   "metadata": {},
   "outputs": [
    {
     "name": "stdout",
     "output_type": "stream",
     "text": [
      "part 1: 11687500\n"
     ]
    },
    {
     "ename": "TypeError",
     "evalue": "unsupported operand type(s) for -: 'NoneType' and 'NoneType'",
     "output_type": "error",
     "traceback": [
      "\u001b[1;31m---------------------------------------------------------------------------\u001b[0m",
      "\u001b[1;31mTypeError\u001b[0m                                 Traceback (most recent call last)",
      "Cell \u001b[1;32mIn[47], line 1\u001b[0m\n\u001b[1;32m----> 1\u001b[0m \u001b[43mparse_data\u001b[49m\u001b[43m(\u001b[49m\u001b[43mexample\u001b[49m\u001b[43m)\u001b[49m\n",
      "Cell \u001b[1;32mIn[45], line 175\u001b[0m, in \u001b[0;36mparse_data\u001b[1;34m(data)\u001b[0m\n\u001b[0;32m    167\u001b[0m         \u001b[38;5;28;01mbreak\u001b[39;00m\n\u001b[0;32m    169\u001b[0m         \u001b[38;5;66;03m# print(previous_rx_states)\u001b[39;00m\n\u001b[0;32m    170\u001b[0m \n\u001b[0;32m    171\u001b[0m \u001b[38;5;66;03m# print(modules_to_bytes())\u001b[39;00m\n\u001b[0;32m    172\u001b[0m \n\u001b[0;32m    173\u001b[0m \u001b[38;5;66;03m# print(cycle_starts)\u001b[39;00m\n\u001b[0;32m    174\u001b[0m \u001b[38;5;66;03m# print(cycle_ends)\u001b[39;00m\n\u001b[1;32m--> 175\u001b[0m cycle_lengths \u001b[38;5;241m=\u001b[39m \u001b[43mnp\u001b[49m\u001b[38;5;241;43m.\u001b[39;49m\u001b[43marray\u001b[49m\u001b[43m(\u001b[49m\u001b[43mcycle_ends\u001b[49m\u001b[43m)\u001b[49m\u001b[43m \u001b[49m\u001b[38;5;241;43m-\u001b[39;49m\u001b[43m \u001b[49m\u001b[43mnp\u001b[49m\u001b[38;5;241;43m.\u001b[39;49m\u001b[43marray\u001b[49m\u001b[43m(\u001b[49m\u001b[43mcycle_starts\u001b[49m\u001b[43m)\u001b[49m\n\u001b[0;32m    176\u001b[0m \u001b[38;5;66;03m# print(cycle_lengths)\u001b[39;00m\n\u001b[0;32m    177\u001b[0m \u001b[38;5;66;03m# print(cycle_lengths * 2)\u001b[39;00m\n\u001b[0;32m    178\u001b[0m \n\u001b[0;32m    179\u001b[0m \u001b[38;5;66;03m# print(math.lcm(*cycle_starts[cycle_starts != 0]))\u001b[39;00m\n\u001b[0;32m    180\u001b[0m \u001b[38;5;66;03m# print(math.lcm(math.lcm(*cycle_starts[cycle_starts != 0]), math.lcm(*cycle_lengths)))\u001b[39;00m\n\u001b[0;32m    181\u001b[0m \u001b[38;5;66;03m# print(cycle_lengths)\u001b[39;00m\n\u001b[0;32m    182\u001b[0m total2 \u001b[38;5;241m=\u001b[39m math\u001b[38;5;241m.\u001b[39mlcm(\u001b[38;5;241m*\u001b[39mcycle_lengths)\n",
      "\u001b[1;31mTypeError\u001b[0m: unsupported operand type(s) for -: 'NoneType' and 'NoneType'"
     ]
    }
   ],
   "source": [
    "parse_data(example)"
   ]
  }
 ],
 "metadata": {
  "kernelspec": {
   "display_name": "Python 3",
   "language": "python",
   "name": "python3"
  },
  "language_info": {
   "codemirror_mode": {
    "name": "ipython",
    "version": 3
   },
   "file_extension": ".py",
   "mimetype": "text/x-python",
   "name": "python",
   "nbconvert_exporter": "python",
   "pygments_lexer": "ipython3",
   "version": "3.10.11"
  }
 },
 "nbformat": 4,
 "nbformat_minor": 2
}
