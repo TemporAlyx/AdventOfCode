{
 "cells": [
  {
   "cell_type": "code",
   "execution_count": 1,
   "metadata": {},
   "outputs": [
    {
     "name": "stdout",
     "output_type": "stream",
     "text": [
      "Downloaded day 10 input\n",
      "45\n"
     ]
    },
    {
     "data": {
      "text/plain": [
       "['676781023010121078756541010565410126589652103',\n",
       " '787692014523134569687238921076321087676543012',\n",
       " '896543210674013278798107831089980896567122107',\n",
       " '654100134985329143237356540123678925498033498',\n",
       " '783210325676438050123445443294541012321044589',\n",
       " '694309018984567267034576356789032008769655678',\n",
       " '345678567823432178125689219878102109678724369']"
      ]
     },
     "execution_count": 1,
     "metadata": {},
     "output_type": "execute_result"
    }
   ],
   "source": [
    "from AOC_utils import get_day\n",
    "import numpy as np\n",
    "\n",
    "day = 10\n",
    "input_data = get_day(day)\n",
    "\n",
    "# print out first few lines to get a feel for the data\n",
    "print(len(input_data))\n",
    "input_data[:7]"
   ]
  },
  {
   "cell_type": "code",
   "execution_count": 2,
   "metadata": {},
   "outputs": [],
   "source": [
    "# part 1\n",
    "example = '''\n",
    "89010123\n",
    "78121874\n",
    "87430965\n",
    "96549874\n",
    "45678903\n",
    "32019012\n",
    "01329801\n",
    "10456732\n",
    "'''.split('\\n')[1:-1]"
   ]
  },
  {
   "cell_type": "code",
   "execution_count": 37,
   "metadata": {},
   "outputs": [
    {
     "name": "stdout",
     "output_type": "stream",
     "text": [
      "part 1: 36\n",
      "part 2: 81\n"
     ]
    }
   ],
   "source": [
    "def solve_day(data):\n",
    "    part1 = 0\n",
    "    part2 = 0\n",
    "\n",
    "    data = np.array([[int(y) for y in x] for x in data])\n",
    "    data = np.pad(data, 1, 'constant', constant_values=-1)\n",
    "\n",
    "    trail_positions = np.argwhere(data == 0)\n",
    "    trail_nums = np.arange(len(trail_positions))\n",
    "    initial_trail_positions = trail_positions.copy()\n",
    "    directions = np.array([[0, 1], [0, -1], [1, 0], [-1, 0]])\n",
    "\n",
    "    for i in range(1, 10):\n",
    "        trail_positions = np.concatenate([trail_positions + x for x in directions])\n",
    "        trail_nums = np.concatenate([trail_nums, trail_nums, trail_nums, trail_nums])\n",
    "        boo = data[trail_positions[:, 0], trail_positions[:, 1]] == i\n",
    "        trail_positions = trail_positions[boo]\n",
    "        trail_nums = trail_nums[boo]\n",
    "\n",
    "    for i in range(len(initial_trail_positions)):\n",
    "        part1 += np.unique(trail_positions[trail_nums == i], axis=0).shape[0]\n",
    "    part2 += trail_positions.shape[0]\n",
    "\n",
    "    print(\"part 1:\", part1)\n",
    "    print(\"part 2:\", part2)\n",
    "\n",
    "solve_day(example)"
   ]
  },
  {
   "cell_type": "code",
   "execution_count": 34,
   "metadata": {},
   "outputs": [
    {
     "name": "stdout",
     "output_type": "stream",
     "text": [
      "part 1: 574\n",
      "part 2: 1238\n"
     ]
    }
   ],
   "source": [
    "solve_day(input_data)"
   ]
  }
 ],
 "metadata": {
  "kernelspec": {
   "display_name": "Python 3",
   "language": "python",
   "name": "python3"
  },
  "language_info": {
   "codemirror_mode": {
    "name": "ipython",
    "version": 3
   },
   "file_extension": ".py",
   "mimetype": "text/x-python",
   "name": "python",
   "nbconvert_exporter": "python",
   "pygments_lexer": "ipython3",
   "version": "3.10.11"
  }
 },
 "nbformat": 4,
 "nbformat_minor": 2
}
