{
 "cells": [
  {
   "cell_type": "code",
   "execution_count": 1,
   "metadata": {},
   "outputs": [
    {
     "name": "stdout",
     "output_type": "stream",
     "text": [
      "Day 21 input already downloaded\n",
      "5\n"
     ]
    },
    {
     "data": {
      "text/plain": [
       "['480A', '143A', '983A', '382A', '974A']"
      ]
     },
     "execution_count": 1,
     "metadata": {},
     "output_type": "execute_result"
    }
   ],
   "source": [
    "from AOC_utils import get_day\n",
    "import numpy as np\n",
    "\n",
    "day = 21\n",
    "input_data = get_day(day)\n",
    "\n",
    "# print out first few lines to get a feel for the data\n",
    "print(len(input_data))\n",
    "input_data[:7]"
   ]
  },
  {
   "cell_type": "code",
   "execution_count": 2,
   "metadata": {},
   "outputs": [],
   "source": [
    "example = '''\n",
    "029A\n",
    "980A\n",
    "179A\n",
    "456A\n",
    "379A\n",
    "'''.split('\\n')[1:-1]"
   ]
  },
  {
   "cell_type": "code",
   "execution_count": 3,
   "metadata": {},
   "outputs": [
    {
     "name": "stdout",
     "output_type": "stream",
     "text": [
      "029A\n",
      "<A^A>^^AvvvA\n",
      "v<<A>>^A<A>AvA^<AA>Av<AAA^>A\n",
      "v<A<AA>>^AvAA^<A>Av<<A>>^AvA^Av<A^>A<Av<A>>^AAvA^Av<A<A>>^AAA<Av>A^A\n",
      "68 29\n",
      "980A\n",
      "^^^A<AvvvA>A\n",
      "<AAA>Av<<A>>^Av<AAA^>AvA^A\n",
      "v<<A>>^AAAvA^Av<A<AA>>^AvAA^<A>Av<A<A>>^AAA<Av>A^Av<A^>A<A>A\n",
      "60 980\n",
      "179A\n",
      "^<<A^^A>>AvvvA\n",
      "<Av<AA>>^A<AA>AvAA^Av<AAA^>A\n",
      "v<<A>>^Av<A<A>>^AAvAA^<A>Av<<A>>^AAvA^Av<A^>AA<A>Av<A<A>>^AAA<Av>A^A\n",
      "68 179\n",
      "456A\n",
      "^^<<A>A>AvvA\n",
      "<AAv<AA>>^AvA^AvA^Av<AA^>A\n",
      "v<<A>>^AAv<A<A>>^AAvAA^<A>Av<A^>A<A>Av<A^>A<A>Av<A<A>>^AA<Av>A^A\n",
      "64 456\n",
      "379A\n",
      "^A<<^^A>>AvvvA\n",
      "<A>Av<<AA>^AA>AvAA^Av<AAA^>A\n",
      "v<<A>>^AvA^Av<A<AA>>^AAvA^<A>AAvA^Av<A^>AA<A>Av<A<A>>^AAA<Av>A^A\n",
      "64 379\n",
      "part 1: 126384\n",
      "part 2: 0\n"
     ]
    }
   ],
   "source": [
    "def solve_day(data):\n",
    "    part1 = 0\n",
    "    part2 = 0\n",
    "\n",
    "    final_codes = data\n",
    "\n",
    "    numpad = np.array([['7', '8', '9'], \n",
    "                       ['4', '5', '6'], \n",
    "                       ['1', '2', '3'],\n",
    "                       [' ', '0', 'A']])\n",
    "    \n",
    "    robot_pad = np.array([[' ', '^', 'A'],\n",
    "                         ['<', 'v', '>']])\n",
    "    \n",
    "    numpad_mapping = {}\n",
    "    for current_n in numpad.flatten():\n",
    "        for target_n in numpad.flatten():\n",
    "            if current_n == ' ' or target_n == ' ':\n",
    "                continue\n",
    "\n",
    "            distance = np.argwhere(numpad == current_n)[0] - np.argwhere(numpad == target_n)[0]\n",
    "            up = distance[0] if distance[0] > 0 else 0\n",
    "            down = abs(distance[0]) if distance[0] < 0 else 0\n",
    "            left = distance[1] if distance[1] > 0 else 0\n",
    "            right = abs(distance[1]) if distance[1] < 0 else 0\n",
    "\n",
    "            if current_n == 'A' or current_n == '0':\n",
    "                move = (up * '^') + (down * 'v') + (left * '<') + (right * '>')\n",
    "            else:\n",
    "                move = (left * '<') + (right * '>') + (up * '^') + (down * 'v')\n",
    "\n",
    "            numpad_mapping[current_n + target_n] = move\n",
    "\n",
    "    robot_mapping = {}\n",
    "    for current_n in robot_pad.flatten():\n",
    "        for target_n in robot_pad.flatten():\n",
    "            if current_n == ' ' or target_n == ' ':\n",
    "                continue\n",
    "\n",
    "            distance = np.argwhere(robot_pad == current_n)[0] - np.argwhere(robot_pad == target_n)[0]\n",
    "            up = distance[0] if distance[0] > 0 else 0\n",
    "            down = abs(distance[0]) if distance[0] < 0 else 0\n",
    "            left = distance[1] if distance[1] > 0 else 0\n",
    "            right = abs(distance[1]) if distance[1] < 0 else 0\n",
    "\n",
    "            if current_n == '<':\n",
    "                move = (left * '<') + (right * '>') + (up * '^') + (down * 'v')\n",
    "            else:\n",
    "                move = (up * '^') + (down * 'v') + (left * '<') + (right * '>')\n",
    "\n",
    "            robot_mapping[current_n + target_n] = move\n",
    "\n",
    "    def fcode_to_robot(code, current='A'):\n",
    "        move = ''\n",
    "        for c in code:\n",
    "            move += numpad_mapping[current + c] + 'A'\n",
    "            current = c\n",
    "        return move\n",
    "    \n",
    "    def robot_to_robot(code, current='A'):\n",
    "        move = ''\n",
    "        for c in code:\n",
    "            move += robot_mapping[current + c] + 'A'\n",
    "            current = c\n",
    "        return move\n",
    "    \n",
    "\n",
    "    for code in final_codes:\n",
    "        print(code)\n",
    "        numpad_code = fcode_to_robot(code)\n",
    "        print(numpad_code)\n",
    "        robot_code = robot_to_robot(numpad_code)\n",
    "        print(robot_code)\n",
    "        robot_code2 = robot_to_robot(robot_code)\n",
    "        print(robot_code2)\n",
    "        print(len(robot_code2), int(code[:-1]))\n",
    "        part1 += len(robot_code2) * int(code[:-1])\n",
    "\n",
    "    print(\"part 1:\", part1)\n",
    "    print(\"part 2:\", part2)\n",
    "\n",
    "solve_day(example)"
   ]
  },
  {
   "cell_type": "code",
   "execution_count": 4,
   "metadata": {},
   "outputs": [
    {
     "name": "stdout",
     "output_type": "stream",
     "text": [
      "480A\n",
      "^^<<A>^AvvvA>A\n",
      "<AAv<AA>>^AvA^<A>Av<AAA^>AvA^A\n",
      "v<<A>>^AAv<A<A>>^AAvAA^<A>Av<A^>A<Av<A>>^AvA^Av<A<A>>^AAA<Av>A^Av<A^>A<A>A\n",
      "74 480\n",
      "143A\n",
      "^<<A^A>>vAvA\n",
      "<Av<AA>>^A<A>AvAA<A^>Av<A^>A\n",
      "v<<A>>^Av<A<A>>^AAvAA^<A>Av<<A>>^AvA^Av<A^>AAv<<A>>^A<Av>A^Av<A<A>>^A<Av>A^A\n",
      "76 143\n",
      "983A\n",
      "^^^A<A>vvAvA\n",
      "<AAA>Av<<A>>^AvA<AA^>Av<A^>A\n",
      "v<<A>>^AAAvA^Av<A<AA>>^AvAA^<A>Av<A^>Av<<A>>^AA<Av>A^Av<A<A>>^A<Av>A^A\n",
      "70 983\n",
      "382A\n",
      "^A<^^AvvA>vA\n",
      "<A>Av<<A>^AA>Av<AA^>AvA<A^>A\n",
      "v<<A>>^AvA^Av<A<AA>>^AvA^<A>AAvA^Av<A<A>>^AA<Av>A^Av<A^>Av<<A>>^A<Av>A^A\n",
      "72 382\n",
      "974A\n",
      "^^^A<<AvA>>vvA\n",
      "<AAA>Av<<AA>>^Av<A^>AvAA<AA^>A\n",
      "v<<A>>^AAAvA^Av<A<AA>>^AAvAA^<A>Av<A<A>>^A<Av>A^Av<A^>AAv<<A>>^AA<Av>A^A\n",
      "72 974\n",
      "part 1: 212830\n",
      "part 2: 0\n"
     ]
    }
   ],
   "source": [
    "solve_day(input_data)"
   ]
  },
  {
   "cell_type": "code",
   "execution_count": 5,
   "metadata": {},
   "outputs": [],
   "source": [
    "# 212830\n",
    "# 210338 # too high\n",
    "# 210000 # too high\n",
    "# 207406 # nope\n",
    "# 204914 # nope"
   ]
  }
 ],
 "metadata": {
  "kernelspec": {
   "display_name": "Python 3",
   "language": "python",
   "name": "python3"
  },
  "language_info": {
   "codemirror_mode": {
    "name": "ipython",
    "version": 3
   },
   "file_extension": ".py",
   "mimetype": "text/x-python",
   "name": "python",
   "nbconvert_exporter": "python",
   "pygments_lexer": "ipython3",
   "version": "3.10.11"
  }
 },
 "nbformat": 4,
 "nbformat_minor": 2
}
