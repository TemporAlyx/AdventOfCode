{
 "cells": [
  {
   "cell_type": "code",
   "execution_count": 1,
   "metadata": {},
   "outputs": [
    {
     "name": "stdout",
     "output_type": "stream",
     "text": [
      "Day 21 input already downloaded\n",
      "5\n"
     ]
    },
    {
     "data": {
      "text/plain": [
       "['480A', '143A', '983A', '382A', '974A']"
      ]
     },
     "execution_count": 1,
     "metadata": {},
     "output_type": "execute_result"
    }
   ],
   "source": [
    "from AOC_utils import get_day\n",
    "import numpy as np\n",
    "\n",
    "day = 21\n",
    "input_data = get_day(day)\n",
    "\n",
    "# print out first few lines to get a feel for the data\n",
    "print(len(input_data))\n",
    "input_data[:7]"
   ]
  },
  {
   "cell_type": "code",
   "execution_count": 2,
   "metadata": {},
   "outputs": [],
   "source": [
    "example = '''\n",
    "029A\n",
    "980A\n",
    "179A\n",
    "456A\n",
    "379A\n",
    "'''.split('\\n')[1:-1]"
   ]
  },
  {
   "cell_type": "code",
   "execution_count": 3,
   "metadata": {},
   "outputs": [],
   "source": [
    "from itertools import permutations"
   ]
  },
  {
   "cell_type": "code",
   "execution_count": 4,
   "metadata": {},
   "outputs": [
    {
     "name": "stdout",
     "output_type": "stream",
     "text": [
      "part 1: 126384\n"
     ]
    }
   ],
   "source": [
    "def solve_day(data):\n",
    "    part1 = 0\n",
    "    part2 = 0\n",
    "\n",
    "    final_codes = data\n",
    "\n",
    "    dir_map = {'<': np.array([0, -1]), '>': np.array([0, 1]), '^': np.array([-1, 0]), 'v': np.array([1, 0])}\n",
    "\n",
    "    numpad = np.array([['7', '8', '9'], \n",
    "                       ['4', '5', '6'], \n",
    "                       ['1', '2', '3'],\n",
    "                       [' ', '0', 'A']])\n",
    "    \n",
    "    robot_pad = np.array([[' ', '^', 'A'],\n",
    "                         ['<', 'v', '>']])\n",
    "    \n",
    "    def sim_pad(start_loc, direction):\n",
    "        new_loc = start_loc.copy()\n",
    "        new_loc += dir_map[direction]\n",
    "        return numpad[tuple(new_loc)]\n",
    "    \n",
    "    numpad_mapping = {}\n",
    "    for current_n in numpad.flatten():\n",
    "        for target_n in numpad.flatten():\n",
    "            if current_n == ' ' or target_n == ' ':\n",
    "                continue\n",
    "\n",
    "            current_loc = np.argwhere(numpad == current_n)[0]\n",
    "            target_loc = np.argwhere(numpad == target_n)[0]\n",
    "\n",
    "            distance = current_loc - target_loc\n",
    "            up = distance[0] if distance[0] > 0 else 0\n",
    "            down = abs(distance[0]) if distance[0] < 0 else 0\n",
    "            left = distance[1] if distance[1] > 0 else 0\n",
    "            right = abs(distance[1]) if distance[1] < 0 else 0\n",
    "\n",
    "            # moves = np.unique([''.join(x) for x in list(permutations(list(move)))], axis=0)\n",
    "            moves = [ # always going to be better to do repeated moves than alternate\n",
    "                (left * '<') + (right * '>') + (up * '^') + (down * 'v'), \n",
    "                 (up * '^') + (down * 'v') + (left * '<') + (right * '>')\n",
    "            ]\n",
    "\n",
    "            if moves[0] == '':\n",
    "                numpad_mapping[current_n + target_n] = ['']\n",
    "                continue\n",
    "\n",
    "            good_moves = []\n",
    "            for move in moves:\n",
    "                loc = current_loc.copy()\n",
    "                valid = True\n",
    "                for direction in move:\n",
    "                    if sim_pad(loc, direction) == ' ':\n",
    "                        valid = False\n",
    "                        break\n",
    "                    loc += dir_map[direction]\n",
    "                if valid:\n",
    "                    good_moves.append(move)\n",
    "\n",
    "            numpad_mapping[current_n + target_n] = good_moves\n",
    "\n",
    "    robot_mapping = {}\n",
    "    for current_n in robot_pad.flatten():\n",
    "        for target_n in robot_pad.flatten():\n",
    "            if current_n == ' ' or target_n == ' ':\n",
    "                continue\n",
    "\n",
    "            distance = np.argwhere(robot_pad == current_n)[0] - np.argwhere(robot_pad == target_n)[0]\n",
    "            up = distance[0] if distance[0] > 0 else 0\n",
    "            down = abs(distance[0]) if distance[0] < 0 else 0\n",
    "            left = distance[1] if distance[1] > 0 else 0\n",
    "            right = abs(distance[1]) if distance[1] < 0 else 0\n",
    "\n",
    "            move = (up * '^') + (down * 'v') + (left * '<') + (right * '>')\n",
    "\n",
    "            if move == '':\n",
    "                robot_mapping[current_n + target_n] = 'A'\n",
    "                continue\n",
    "\n",
    "            moves = np.unique([''.join(x) for x in list(permutations(list(move)))], axis=0).tolist()\n",
    "\n",
    "            good_moves = []\n",
    "            for move in moves:\n",
    "                loc = np.argwhere(robot_pad == current_n)[0]\n",
    "                valid = True\n",
    "                for direction in move:\n",
    "                    if sim_pad(loc, direction) == ' ':\n",
    "                        valid = False\n",
    "                        break\n",
    "                    loc += dir_map[direction]\n",
    "                if valid:\n",
    "                    good_moves.append(move)\n",
    "            moves = sorted(good_moves, key=lambda x: len(x))\n",
    "\n",
    "            robot_mapping[current_n + target_n] = moves[0] + 'A'\n",
    "\n",
    "    def fcode_to_robot(c, current='A'):\n",
    "        return [x + 'A' for x in numpad_mapping[current + c]]\n",
    "    \n",
    "    def robot_to_robot(code, current='A'):\n",
    "        moves_so_far = ''\n",
    "        for c in code:\n",
    "            moves_so_far += robot_mapping[current + c]\n",
    "            current = c\n",
    "        return moves_so_far\n",
    "    \n",
    "    def process_codelist(final_codes, depth):\n",
    "        total = 0\n",
    "        for code in final_codes:\n",
    "            # print(code)\n",
    "            current = 'A'\n",
    "            for ch in code:\n",
    "                code_possabilities = fcode_to_robot(ch, current)\n",
    "\n",
    "                for d in range(depth):\n",
    "                    # print(d)\n",
    "                    code_possabilities = [robot_to_robot(r) for r in code_possabilities]\n",
    "\n",
    "                code_possabilities = sorted(code_possabilities, key=lambda x: len(x))\n",
    "                total += len(code_possabilities[0]) * int(code[:-1])\n",
    "                current = ch\n",
    "        return total\n",
    "\n",
    "    part1 = process_codelist(final_codes, 2)\n",
    "    print(\"part 1:\", part1)\n",
    "\n",
    "    # part2 = process_codelist(final_codes, 25)\n",
    "    # print(\"part 2:\", part2)\n",
    "\n",
    "solve_day(example)"
   ]
  },
  {
   "cell_type": "code",
   "execution_count": 5,
   "metadata": {},
   "outputs": [
    {
     "name": "stdout",
     "output_type": "stream",
     "text": [
      "part 1: 206798\n"
     ]
    }
   ],
   "source": [
    "solve_day(input_data)"
   ]
  },
  {
   "cell_type": "code",
   "execution_count": 6,
   "metadata": {},
   "outputs": [
    {
     "data": {
      "text/plain": [
       "206798"
      ]
     },
     "execution_count": 6,
     "metadata": {},
     "output_type": "execute_result"
    }
   ],
   "source": [
    "206798"
   ]
  }
 ],
 "metadata": {
  "kernelspec": {
   "display_name": "Python 3",
   "language": "python",
   "name": "python3"
  },
  "language_info": {
   "codemirror_mode": {
    "name": "ipython",
    "version": 3
   },
   "file_extension": ".py",
   "mimetype": "text/x-python",
   "name": "python",
   "nbconvert_exporter": "python",
   "pygments_lexer": "ipython3",
   "version": "3.10.11"
  }
 },
 "nbformat": 4,
 "nbformat_minor": 2
}
