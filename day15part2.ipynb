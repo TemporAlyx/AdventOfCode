{
 "cells": [
  {
   "cell_type": "code",
   "execution_count": 1,
   "metadata": {},
   "outputs": [
    {
     "name": "stdout",
     "output_type": "stream",
     "text": [
      "Day 15 input already downloaded\n",
      "71\n"
     ]
    },
    {
     "data": {
      "text/plain": [
       "['##################################################',\n",
       " '#.O.O.O.#..O.....O..O#O.........OO...OO..O......O#',\n",
       " '#..OO#...OO....O#O..O....O...#...O...#...O.O.O##.#',\n",
       " '#.....#..O...OO.O.O.O.O#O..O..O.O...O.O.O......O.#',\n",
       " '#..............O.#O.....#.#O.#....OO....O...#..OO#',\n",
       " '#O.O....#.OO.O.OOO..O..O.OO.#..O....O...#..O..O..#',\n",
       " '#.O...O..OO..#O......OO.O.O.....O.O#O.........O..#']"
      ]
     },
     "execution_count": 1,
     "metadata": {},
     "output_type": "execute_result"
    }
   ],
   "source": [
    "from AOC_utils import get_day\n",
    "import numpy as np\n",
    "\n",
    "day = 15\n",
    "input_data = get_day(day)\n",
    "\n",
    "# print out first few lines to get a feel for the data\n",
    "print(len(input_data))\n",
    "input_data[:7]"
   ]
  },
  {
   "cell_type": "code",
   "execution_count": null,
   "metadata": {},
   "outputs": [],
   "source": [
    "# part 1\n",
    "example = '''\n",
    "#######\n",
    "#...#.#\n",
    "#.....#\n",
    "#..OO@#\n",
    "#..O..#\n",
    "#.....#\n",
    "#######\n",
    "\n",
    "<vv<<^^<<^^\n",
    "'''.split('\\n')[1:-1]"
   ]
  },
  {
   "cell_type": "code",
   "execution_count": 33,
   "metadata": {},
   "outputs": [],
   "source": [
    "# part 1\n",
    "example = '''\n",
    "##########\n",
    "#..O..O.O#\n",
    "#......O.#\n",
    "#.OO..O.O#\n",
    "#..O@..O.#\n",
    "#O#..O...#\n",
    "#O..O..O.#\n",
    "#.OO.O.OO#\n",
    "#....O...#\n",
    "##########\n",
    "\n",
    "<vv>^<v^>v>^vv^v>v<>v^v<v<^vv<<<^><<><>>v<vvv<>^v^>^<<<><<v<<<v^vv^v>^\n",
    "vvv<<^>^v^^><<>>><>^<<><^vv^^<>vvv<>><^^v>^>vv<>v<<<<v<^v>^<^^>>>^<v<v\n",
    "><>vv>v^v^<>><>>>><^^>vv>v<^^^>>v^v^<^^>v^^>v^<^v>v<>>v^v^<v>v^^<^^vv<\n",
    "<<v<^>>^^^^>>>v^<>vvv^><v<<<>^^^vv^<vvv>^>v<^^^^v<>^>vvvv><>>v^<<^^^^^\n",
    "^><^><>>><>^^<<^^v>>><^<v>^<vv>>v>>>^v><>^v><<<<v>>v<v<v>vvv>^<><<>^><\n",
    "^>><>^v<><^vvv<^^<><v<<<<<><^v<<<><<<^^<v<^^^><^>>^<v^><<<^>>^v<v^v<v^\n",
    ">^>>^v>vv>^<<^v<>><<><<v<<v><>v<^vv<<<>^^v^>^^>>><<^v>>v^v><^^>>^<>vv^\n",
    "<><^^>^^^<><vvvvv^v<v<<>^v<v>v<<^><<><<><<<^^<<<^<<>><<><^^^>^^<>^>v<>\n",
    "^^>vv<^v^v<vv>^<><v<^v>^^^>>>^^vvv^>vvv<>>>^<^>>>>>^<<^v>^vvv<>^<><<v>\n",
    "v^^>>><<^^<>>^v^<v^vv<>v^<<>^<^v^v><^<<<><<^<v><v<>vv>>v><v^<vv<>v^<<^\n",
    "'''.split('\\n')[1:-1]"
   ]
  },
  {
   "cell_type": "code",
   "execution_count": 63,
   "metadata": {},
   "outputs": [
    {
     "name": "stdout",
     "output_type": "stream",
     "text": [
      "part 1: 0\n",
      "part 2: 9021\n"
     ]
    }
   ],
   "source": [
    "def solve_day(data):\n",
    "    part1 = 0\n",
    "    part2 = 0\n",
    "\n",
    "    def expand_warehouse(line):\n",
    "        newline = []\n",
    "        for char in line:\n",
    "            if char == '#':\n",
    "                newline.extend(['#','#'])\n",
    "            elif char == '.':\n",
    "                newline.extend(['.','.'])\n",
    "            elif char == 'O':\n",
    "                newline.extend(['[',']'])\n",
    "            elif char == '@':\n",
    "                newline.extend('@.')\n",
    "            else:\n",
    "                print(\"error\")\n",
    "        return newline\n",
    "\n",
    "    warehouse = []\n",
    "    inwarehouselines = True\n",
    "    moves = ''\n",
    "    for line in data:\n",
    "        if len(line) == 0:\n",
    "            inwarehouselines = False\n",
    "        elif inwarehouselines:\n",
    "            warehouse.append(expand_warehouse(list(line)))\n",
    "        else:\n",
    "            moves += line\n",
    "    warehouse = np.array(warehouse)\n",
    "    moves = np.array(list(moves))\n",
    "\n",
    "    # print(warehouse)\n",
    "    # print(moves)\n",
    "\n",
    "    start = np.argwhere(warehouse == '@')[0]\n",
    "\n",
    "    directions = np.array([[1, 0], [0, 1]])\n",
    "\n",
    "    pos = start\n",
    "    objects_to_move = []\n",
    "\n",
    "    def can_move(pos, direction):\n",
    "        nonlocal objects_to_move\n",
    "\n",
    "        objects_to_move.append(pos)\n",
    "        newpos = pos + direction\n",
    "        if warehouse[tuple(newpos)] == '.':\n",
    "            return True\n",
    "        elif warehouse[tuple(newpos)] == '[':\n",
    "            if np.all(direction == directions[1]):\n",
    "                objects_to_move.append(newpos)\n",
    "                return can_move(newpos + [0,1], direction)\n",
    "            else:\n",
    "                return can_move(newpos, direction) and can_move(newpos + [0,1], direction)\n",
    "        elif warehouse[tuple(newpos)] == ']':\n",
    "            if np.all(direction == -directions[1]):\n",
    "                objects_to_move.append(newpos)\n",
    "                return can_move(newpos + [0,-1], direction)\n",
    "            else:\n",
    "                return can_move(newpos, direction) and can_move(newpos + [0,-1], direction)\n",
    "        else:\n",
    "            return False\n",
    "\n",
    "\n",
    "    for move in moves:\n",
    "        # print(move)\n",
    "        if move == '^':\n",
    "            direction = -directions[0]\n",
    "        elif move == 'v':\n",
    "            direction = directions[0]\n",
    "        elif move == '<':\n",
    "            direction = -directions[1]\n",
    "        elif move == '>':\n",
    "            direction = directions[1]\n",
    "\n",
    "        old_warehouse = warehouse.copy()\n",
    "        if can_move(pos, direction):\n",
    "            np_objs = np.array(objects_to_move)\n",
    "            # print(np_objs)\n",
    "            if np.all(direction == -directions[0]):\n",
    "                np_objs = np_objs[np.argsort(np.array(np_objs)[:,0])[::-1]]\n",
    "            elif np.all(direction == directions[0]):\n",
    "                np_objs = np_objs[np.argsort(np.array(np_objs)[:,0])]\n",
    "            elif np.all(direction == -directions[1]):\n",
    "                np_objs = np_objs[np.argsort(np.array(np_objs)[:,1])[::-1]]\n",
    "            elif np.all(direction == directions[1]):\n",
    "                np_objs = np_objs[np.argsort(np.array(np_objs)[:,1])]\n",
    "            objects_to_move = np_objs.tolist()\n",
    "            # print(objects_to_move)\n",
    "            while objects_to_move:\n",
    "                obj = objects_to_move.pop()\n",
    "                warehouse[tuple(obj + direction)] = old_warehouse[tuple(obj)]\n",
    "                warehouse[tuple(obj)] = '.'\n",
    "            pos += direction\n",
    "        else:\n",
    "            objects_to_move = []\n",
    "        \n",
    "        # for line in warehouse:\n",
    "        #     print(''.join(line))\n",
    "\n",
    "    all_boxes = np.argwhere(warehouse == '[')\n",
    "    part2 = np.sum(all_boxes * np.array([100, 1]))\n",
    "\n",
    "\n",
    "    print(\"part 1:\", part1)\n",
    "    print(\"part 2:\", part2)\n",
    "\n",
    "solve_day(example)"
   ]
  },
  {
   "cell_type": "code",
   "execution_count": 64,
   "metadata": {},
   "outputs": [
    {
     "name": "stdout",
     "output_type": "stream",
     "text": [
      "part 1: 0\n",
      "part 2: 1597035\n"
     ]
    }
   ],
   "source": [
    "solve_day(input_data)"
   ]
  }
 ],
 "metadata": {
  "kernelspec": {
   "display_name": "Python 3",
   "language": "python",
   "name": "python3"
  },
  "language_info": {
   "codemirror_mode": {
    "name": "ipython",
    "version": 3
   },
   "file_extension": ".py",
   "mimetype": "text/x-python",
   "name": "python",
   "nbconvert_exporter": "python",
   "pygments_lexer": "ipython3",
   "version": "3.13.0"
  }
 },
 "nbformat": 4,
 "nbformat_minor": 2
}
