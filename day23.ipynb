{
 "cells": [
  {
   "cell_type": "code",
   "execution_count": 1,
   "metadata": {},
   "outputs": [
    {
     "name": "stdout",
     "output_type": "stream",
     "text": [
      "Day 23 input already downloaded\n",
      "3380\n"
     ]
    },
    {
     "data": {
      "text/plain": [
       "['tg-ub', 'wu-yx', 'ss-ll', 'hg-ps', 'ok-ol', 'hf-pl', 'dn-pe']"
      ]
     },
     "execution_count": 1,
     "metadata": {},
     "output_type": "execute_result"
    }
   ],
   "source": [
    "from AOC_utils import get_day\n",
    "import numpy as np\n",
    "\n",
    "day = 23\n",
    "input_data = get_day(day)\n",
    "\n",
    "# print out first few lines to get a feel for the data\n",
    "print(len(input_data))\n",
    "input_data[:7]"
   ]
  },
  {
   "cell_type": "code",
   "execution_count": 2,
   "metadata": {},
   "outputs": [],
   "source": [
    "example = '''\n",
    "kh-tc\n",
    "qp-kh\n",
    "de-cg\n",
    "ka-co\n",
    "yn-aq\n",
    "qp-ub\n",
    "cg-tb\n",
    "vc-aq\n",
    "tb-ka\n",
    "wh-tc\n",
    "yn-cg\n",
    "kh-ub\n",
    "ta-co\n",
    "de-co\n",
    "tc-td\n",
    "tb-wq\n",
    "wh-td\n",
    "ta-ka\n",
    "td-qp\n",
    "aq-cg\n",
    "wq-ub\n",
    "ub-vc\n",
    "de-ta\n",
    "wq-aq\n",
    "wq-vc\n",
    "wh-yn\n",
    "ka-de\n",
    "kh-ta\n",
    "co-tc\n",
    "wh-qp\n",
    "tb-vc\n",
    "td-yn\n",
    "'''.split('\\n')[1:-1]"
   ]
  },
  {
   "cell_type": "code",
   "execution_count": 3,
   "metadata": {},
   "outputs": [],
   "source": [
    "from itertools import permutations"
   ]
  },
  {
   "cell_type": "code",
   "execution_count": 4,
   "metadata": {},
   "outputs": [
    {
     "name": "stdout",
     "output_type": "stream",
     "text": [
      "part 1: 7\n",
      "part 2: co,de,ka,ta\n"
     ]
    }
   ],
   "source": [
    "def solve_day(data):\n",
    "    part1 = 0\n",
    "    part2 = 0\n",
    "\n",
    "    data = np.array([x.split('-') for x in data])\n",
    "\n",
    "    sets_of_three = set()\n",
    "\n",
    "    computers = np.unique(data)\n",
    "\n",
    "    computer_connections = {}\n",
    "\n",
    "    for computer in computers:\n",
    "        computer_connections[computer] = []\n",
    "\n",
    "        for connection in data:\n",
    "            if computer in connection:\n",
    "                computer_connections[computer].append(np.delete(connection, np.argwhere(connection == computer)[0])[0])\n",
    "\n",
    "    for key, value in computer_connections.items():\n",
    "        all_permutations = [x for x in list(permutations(value, 2))]\n",
    "\n",
    "        true_permutations = []\n",
    "        for perm in all_permutations:\n",
    "            x0 = perm[0]\n",
    "            x1 = perm[1]\n",
    "\n",
    "            if key in computer_connections[x0] and x1 in computer_connections[x0] and key in computer_connections[x1] and x0 in computer_connections[x1]:\n",
    "                true_permutations.append(perm)\n",
    "\n",
    "        all_permutations = [x+(key,) for x in true_permutations]\n",
    "        all_permutations = np.unique(np.sort(all_permutations, axis=-1), axis=0)\n",
    "\n",
    "        for permutation in all_permutations:\n",
    "            sets_of_three.add(tuple(permutation))\n",
    "\n",
    "    sets_of_three = list(sets_of_three)\n",
    "    contain_t = []\n",
    "    for sets in sets_of_three:\n",
    "        if 't' == sets[0][0] or 't' == sets[1][0] or 't' == sets[2][0]:\n",
    "            contain_t.append(True)\n",
    "        else:\n",
    "            contain_t.append(False)\n",
    "    \n",
    "    sets_of_three = np.array(sets_of_three)[contain_t]\n",
    "    part1 = len(sets_of_three)\n",
    "\n",
    "    longest = \"\"\n",
    "    longest_length = 0\n",
    "    for key, value in computer_connections.items():\n",
    "        value_copy = value.copy()\n",
    "        for c in range(len(value_copy)):\n",
    "            connection = value_copy[c]\n",
    "            if key not in computer_connections[connection]:\n",
    "                computer_connections[key].remove(connection)\n",
    "            else:\n",
    "                for new_connection in computer_connections[key]:\n",
    "                    if new_connection == connection:\n",
    "                        break\n",
    "                    if new_connection not in computer_connections[connection]:\n",
    "                        computer_connections[key].remove(connection)\n",
    "                        break\n",
    "        if len(computer_connections[key]) > longest_length:\n",
    "            longest_length = len(computer_connections[key])\n",
    "            longest = ''.join([x+',' for x in np.sort(computer_connections[key] + [key])])[:-1]\n",
    "\n",
    "    part2 = longest\n",
    "\n",
    "    print(\"part 1:\", part1)\n",
    "    print(\"part 2:\", part2)\n",
    "\n",
    "solve_day(example)"
   ]
  },
  {
   "cell_type": "code",
   "execution_count": 5,
   "metadata": {},
   "outputs": [
    {
     "name": "stdout",
     "output_type": "stream",
     "text": [
      "part 1: 1314\n",
      "part 2: bg,bu,ce,ga,hw,jw,nf,nt,ox,tj,uu,vk,wp\n"
     ]
    }
   ],
   "source": [
    "solve_day(input_data)"
   ]
  }
 ],
 "metadata": {
  "kernelspec": {
   "display_name": "Python 3",
   "language": "python",
   "name": "python3"
  },
  "language_info": {
   "codemirror_mode": {
    "name": "ipython",
    "version": 3
   },
   "file_extension": ".py",
   "mimetype": "text/x-python",
   "name": "python",
   "nbconvert_exporter": "python",
   "pygments_lexer": "ipython3",
   "version": "3.10.11"
  }
 },
 "nbformat": 4,
 "nbformat_minor": 2
}
