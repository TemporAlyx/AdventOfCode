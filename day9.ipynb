{
 "cells": [
  {
   "cell_type": "code",
   "execution_count": 1,
   "metadata": {},
   "outputs": [
    {
     "name": "stdout",
     "output_type": "stream",
     "text": [
      "Day 9 input already downloaded\n"
     ]
    },
    {
     "data": {
      "text/plain": [
       "['14 28 56 121 263 554 1131 2270 4549 9201 18855 39034 81081 167714 343319 692592 1373532 2674454 5110126 9579947 17622015',\n",
       " '-3 1 11 21 24 22 39 132 395 951 1927 3407 5358 7524 9283 9462 6105 -3811 -24717 -62855 -126748',\n",
       " '19 33 58 112 229 464 911 1744 3295 6199 11669 22016 41599 78474 147102 272564 496803 887453 1549804 2642368 4396329',\n",
       " '9 14 20 26 31 40 83 250 745 1962 4586 9722 19055 35044 61153 102122 164281 255910 387648 572954 828623',\n",
       " '3 -2 -10 -22 -42 -79 -137 -181 -56 698 3260 10419 28423 70739 165664 371788 809539 1725541 3623323 7526796 15506848',\n",
       " '-1 -7 -15 -19 5 111 398 1033 2286 4580 8558 15168 25766 42236 67125 103790 156553 230859 333431 472415 657507',\n",
       " '14 23 56 138 310 639 1231 2241 3872 6352 9875 14499 20039 26137 33053 44522 75675 172337 454665 1211606 3100405']"
      ]
     },
     "execution_count": 1,
     "metadata": {},
     "output_type": "execute_result"
    }
   ],
   "source": [
    "from AOC_utils import get_day\n",
    "import numpy as np\n",
    "\n",
    "day = 9\n",
    "input_data = get_day(day)\n",
    "\n",
    "# print out first few lines to get a feel for the data\n",
    "input_data[:7]"
   ]
  },
  {
   "cell_type": "code",
   "execution_count": 2,
   "metadata": {},
   "outputs": [],
   "source": [
    "example = '''\n",
    "0 3 6 9 12 15\n",
    "1 3 6 10 15 21\n",
    "10 13 16 21 30 45\n",
    "'''.split('\\n')[1:-1]"
   ]
  },
  {
   "cell_type": "code",
   "execution_count": 82,
   "metadata": {},
   "outputs": [],
   "source": [
    "def parse_data(data):\n",
    "\n",
    "    data = [np.array([int(x) for x in line.split()]) for line in data]\n",
    "\n",
    "    total = 0\n",
    "    total2 = 0\n",
    "    for line in data:\n",
    "        differences = []\n",
    "        for i in range(len(line)-1):\n",
    "            # get the forward difference of the line, and each subsequent difference\n",
    "            if i == 0: diff = np.diff(line, 1)\n",
    "            else: diff = np.diff(differences[-1], 1)\n",
    "            differences.append(diff)\n",
    "\n",
    "        subtotal = 0\n",
    "        subtotal2 = 0\n",
    "        \n",
    "        # reverse the differences to start with the bottom layer of the triangle\n",
    "        differences = differences[::-1]\n",
    "        for i in range(len(differences)):\n",
    "            subtotal = differences[i][-1] + subtotal\n",
    "            subtotal2 = differences[i][0] - subtotal2 \n",
    "        total += subtotal + line[-1]\n",
    "        total2 +=  subtotal2 - line[0]\n",
    "\n",
    "    print(\"part 1:\", total)\n",
    "    print(\"part 2:\", total2)"
   ]
  },
  {
   "cell_type": "code",
   "execution_count": 80,
   "metadata": {},
   "outputs": [
    {
     "name": "stdout",
     "output_type": "stream",
     "text": [
      "part 1: 1955513104\n",
      "part 2: -1131\n"
     ]
    }
   ],
   "source": [
    "parse_data(input_data)"
   ]
  },
  {
   "cell_type": "code",
   "execution_count": 83,
   "metadata": {},
   "outputs": [
    {
     "name": "stdout",
     "output_type": "stream",
     "text": [
      "part 1: 114\n",
      "part 2: -2\n"
     ]
    }
   ],
   "source": [
    "parse_data(example)"
   ]
  }
 ],
 "metadata": {
  "kernelspec": {
   "display_name": "Python 3",
   "language": "python",
   "name": "python3"
  },
  "language_info": {
   "codemirror_mode": {
    "name": "ipython",
    "version": 3
   },
   "file_extension": ".py",
   "mimetype": "text/x-python",
   "name": "python",
   "nbconvert_exporter": "python",
   "pygments_lexer": "ipython3",
   "version": "3.10.11"
  }
 },
 "nbformat": 4,
 "nbformat_minor": 2
}
