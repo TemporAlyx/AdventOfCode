{
 "cells": [
  {
   "cell_type": "code",
   "execution_count": 1,
   "metadata": {},
   "outputs": [
    {
     "name": "stdout",
     "output_type": "stream",
     "text": [
      "Day 13 input already downloaded\n"
     ]
    },
    {
     "data": {
      "text/plain": [
       "['.#.##.#.##..###',\n",
       " '...##...#######',\n",
       " '#.####.#.#.###.',\n",
       " '#..##..##..#...',\n",
       " '###..###....###',\n",
       " '.##..##..#.#...',\n",
       " '.#....#..######']"
      ]
     },
     "execution_count": 1,
     "metadata": {},
     "output_type": "execute_result"
    }
   ],
   "source": [
    "from AOC_utils import get_day\n",
    "import numpy as np\n",
    "\n",
    "day = 13\n",
    "input_data = get_day(day)\n",
    "\n",
    "# print out first few lines to get a feel for the data\n",
    "input_data[:7]"
   ]
  },
  {
   "cell_type": "code",
   "execution_count": 2,
   "metadata": {},
   "outputs": [],
   "source": [
    "example = '''\n",
    "#.##..##.\n",
    "..#.##.#.\n",
    "##......#\n",
    "##......#\n",
    "..#.##.#.\n",
    "..##..##.\n",
    "#.#.##.#.\n",
    "\n",
    "#...##..#\n",
    "#....#..#\n",
    "..##..###\n",
    "#####.##.\n",
    "#####.##.\n",
    "..##..###\n",
    "#....#..#\n",
    "'''.split('\\n')[1:-1]"
   ]
  },
  {
   "cell_type": "code",
   "execution_count": 3,
   "metadata": {},
   "outputs": [
    {
     "data": {
      "text/plain": [
       "1319"
      ]
     },
     "execution_count": 3,
     "metadata": {},
     "output_type": "execute_result"
    }
   ],
   "source": [
    "len(input_data)"
   ]
  },
  {
   "cell_type": "code",
   "execution_count": 50,
   "metadata": {},
   "outputs": [],
   "source": [
    "def parse_data(data):\n",
    "    \n",
    "    patterns = []\n",
    "    new_pattern = []\n",
    "    for i in range(len(data)):\n",
    "        line = data[i]\n",
    "        if line == '' and new_pattern != [] or i == len(data)-1 and new_pattern != [] :\n",
    "            patterns.append(np.array(new_pattern).astype(int))\n",
    "            new_pattern = []\n",
    "        elif line != '':\n",
    "            new_pattern.append(list(line.replace('.', '0').replace('#', '1')))\n",
    "\n",
    "    total = 0; total2 = 0\n",
    "    for i in range(len(patterns)):\n",
    "        pattern = patterns[i]\n",
    "\n",
    "        for v in range(1, len(pattern.T)):\n",
    "            is_match_so_far = True\n",
    "            difference = 0\n",
    "            for offset in range(1, len(pattern.T)):\n",
    "                if v-offset < 0 or v+offset >= len(pattern.T)+1:\n",
    "                    break\n",
    "                difference += np.abs(pattern.T[v-offset] - pattern.T[v+offset-1]).sum()\n",
    "                if is_match_so_far and ~np.all(pattern[:,v-offset] == pattern[:, v+offset-1]):\n",
    "                    is_match_so_far = False\n",
    "            if is_match_so_far:\n",
    "                total += v\n",
    "            if difference == 1:\n",
    "                total2 += v\n",
    "\n",
    "        for h in range(1, len(pattern)):\n",
    "            is_match_so_far = True\n",
    "            difference = 0\n",
    "            for offset in range(1, len(pattern)):\n",
    "                if h-offset < 0 or h+offset >= len(pattern)+1:\n",
    "                    break\n",
    "                difference += np.abs(pattern[h-offset] - pattern[h+offset-1]).sum()\n",
    "                if is_match_so_far and ~np.all(pattern[h-offset] == pattern[h+offset-1]):\n",
    "                    is_match_so_far = False\n",
    "            if is_match_so_far:\n",
    "                total += h * 100\n",
    "            if difference == 1:\n",
    "                total2 += h * 100\n",
    "\n",
    "    print(\"part 1:\", total)\n",
    "    print(\"part 2:\", total2)"
   ]
  },
  {
   "cell_type": "code",
   "execution_count": 51,
   "metadata": {},
   "outputs": [
    {
     "name": "stdout",
     "output_type": "stream",
     "text": [
      "part 1: 37381\n",
      "part 2: 28210\n"
     ]
    }
   ],
   "source": [
    "parse_data(input_data)"
   ]
  },
  {
   "cell_type": "code",
   "execution_count": 52,
   "metadata": {},
   "outputs": [
    {
     "name": "stdout",
     "output_type": "stream",
     "text": [
      "part 1: 405\n",
      "part 2: 400\n"
     ]
    }
   ],
   "source": [
    "parse_data(example)"
   ]
  }
 ],
 "metadata": {
  "kernelspec": {
   "display_name": "Python 3",
   "language": "python",
   "name": "python3"
  },
  "language_info": {
   "codemirror_mode": {
    "name": "ipython",
    "version": 3
   },
   "file_extension": ".py",
   "mimetype": "text/x-python",
   "name": "python",
   "nbconvert_exporter": "python",
   "pygments_lexer": "ipython3",
   "version": "3.10.11"
  }
 },
 "nbformat": 4,
 "nbformat_minor": 2
}
