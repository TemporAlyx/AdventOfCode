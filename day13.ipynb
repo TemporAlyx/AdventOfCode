{
 "cells": [
  {
   "cell_type": "code",
   "execution_count": 1,
   "metadata": {},
   "outputs": [
    {
     "name": "stdout",
     "output_type": "stream",
     "text": [
      "Downloaded day 13 input\n",
      "1279\n"
     ]
    },
    {
     "data": {
      "text/plain": [
       "['Button A: X+26, Y+91',\n",
       " 'Button B: X+82, Y+37',\n",
       " 'Prize: X=5592, Y=8072',\n",
       " '',\n",
       " 'Button A: X+61, Y+29',\n",
       " 'Button B: X+24, Y+48',\n",
       " 'Prize: X=15576, Y=17056']"
      ]
     },
     "execution_count": 1,
     "metadata": {},
     "output_type": "execute_result"
    }
   ],
   "source": [
    "from AOC_utils import get_day\n",
    "import numpy as np\n",
    "\n",
    "day = 13\n",
    "input_data = get_day(day)\n",
    "\n",
    "# print out first few lines to get a feel for the data\n",
    "print(len(input_data))\n",
    "input_data[:7]"
   ]
  },
  {
   "cell_type": "code",
   "execution_count": 2,
   "metadata": {},
   "outputs": [],
   "source": [
    "# part 1\n",
    "example = '''\n",
    "Button A: X+94, Y+34\n",
    "Button B: X+22, Y+67\n",
    "Prize: X=8400, Y=5400\n",
    "\n",
    "Button A: X+26, Y+66\n",
    "Button B: X+67, Y+21\n",
    "Prize: X=12748, Y=12176\n",
    "\n",
    "Button A: X+17, Y+86\n",
    "Button B: X+84, Y+37\n",
    "Prize: X=7870, Y=6450\n",
    "\n",
    "Button A: X+69, Y+23\n",
    "Button B: X+27, Y+71\n",
    "Prize: X=18641, Y=10279\n",
    "'''.split('\\n')[1:-1]"
   ]
  },
  {
   "cell_type": "code",
   "execution_count": 12,
   "metadata": {},
   "outputs": [],
   "source": [
    "from z3.z3 import Solver, sat, Reals"
   ]
  },
  {
   "cell_type": "code",
   "execution_count": 19,
   "metadata": {},
   "outputs": [
    {
     "name": "stdout",
     "output_type": "stream",
     "text": [
      "part 2: 875318608908\n"
     ]
    }
   ],
   "source": [
    "def solve_day(data):\n",
    "    part2 = 0\n",
    "\n",
    "    machines = []\n",
    "    new_machine = []\n",
    "    for line in data:\n",
    "        if 'A' in line:\n",
    "            button_a = line.split('Button A: ')[1].split(', ')\n",
    "            button_a = np.array([int(button_a[0].split('+')[1]), int(button_a[1].split('+')[1])])\n",
    "            new_machine.append(button_a)\n",
    "        elif 'B' in line:\n",
    "            button_b = line.split('Button B: ')[1].split(', ')\n",
    "            button_b = np.array([int(button_b[0].split('+')[1]), int(button_b[1].split('+')[1])])\n",
    "            new_machine.append(button_b)\n",
    "        elif 'Prize' in line:\n",
    "            prize = line.split('Prize: ')[1].split(', ')\n",
    "            prize = np.array([int(prize[0].split('=')[1]), int(prize[1].split('=')[1])]) + 10000000000000\n",
    "            new_machine.append(prize)\n",
    "            machines.append(new_machine)\n",
    "            new_machine = []\n",
    "\n",
    "    A_cost = 3\n",
    "    B_cost = 1\n",
    "    for machine in machines:     \n",
    "        a, b, prize = machine\n",
    "\n",
    "        An, Bn,= Reals('An Bn')\n",
    "\n",
    "        eqs = []\n",
    "        eqs.append(prize[0] == An*a[0] + Bn*b[0])\n",
    "        eqs.append(prize[1] == An*a[1] + Bn*b[1])\n",
    "\n",
    "        s = Solver()\n",
    "        s.add(eqs)\n",
    "\n",
    "        if s.check() == sat:\n",
    "            m = s.model()\n",
    "            \n",
    "            vals = [m[An], m[Bn]]\n",
    "            try:\n",
    "                v0 = vals[0].as_long()\n",
    "                v1 = vals[1].as_long()\n",
    "                part2 += A_cost*v0 + B_cost*v1\n",
    "            except:\n",
    "                pass\n",
    "    \n",
    "\n",
    "    print(\"part 2:\", part2)\n",
    "\n",
    "solve_day(example)"
   ]
  },
  {
   "cell_type": "code",
   "execution_count": 20,
   "metadata": {},
   "outputs": [
    {
     "name": "stdout",
     "output_type": "stream",
     "text": [
      "part 2: 77204516023437\n"
     ]
    }
   ],
   "source": [
    "solve_day(input_data)"
   ]
  }
 ],
 "metadata": {
  "kernelspec": {
   "display_name": "Python 3",
   "language": "python",
   "name": "python3"
  },
  "language_info": {
   "codemirror_mode": {
    "name": "ipython",
    "version": 3
   },
   "file_extension": ".py",
   "mimetype": "text/x-python",
   "name": "python",
   "nbconvert_exporter": "python",
   "pygments_lexer": "ipython3",
   "version": "3.13.0"
  }
 },
 "nbformat": 4,
 "nbformat_minor": 2
}
