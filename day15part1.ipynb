{
 "cells": [
  {
   "cell_type": "code",
   "execution_count": 1,
   "metadata": {},
   "outputs": [
    {
     "name": "stdout",
     "output_type": "stream",
     "text": [
      "Downloaded day 15 input\n",
      "71\n"
     ]
    },
    {
     "data": {
      "text/plain": [
       "['##################################################',\n",
       " '#.O.O.O.#..O.....O..O#O.........OO...OO..O......O#',\n",
       " '#..OO#...OO....O#O..O....O...#...O...#...O.O.O##.#',\n",
       " '#.....#..O...OO.O.O.O.O#O..O..O.O...O.O.O......O.#',\n",
       " '#..............O.#O.....#.#O.#....OO....O...#..OO#',\n",
       " '#O.O....#.OO.O.OOO..O..O.OO.#..O....O...#..O..O..#',\n",
       " '#.O...O..OO..#O......OO.O.O.....O.O#O.........O..#']"
      ]
     },
     "execution_count": 1,
     "metadata": {},
     "output_type": "execute_result"
    }
   ],
   "source": [
    "from AOC_utils import get_day\n",
    "import numpy as np\n",
    "\n",
    "day = 15\n",
    "input_data = get_day(day)\n",
    "\n",
    "# print out first few lines to get a feel for the data\n",
    "print(len(input_data))\n",
    "input_data[:7]"
   ]
  },
  {
   "cell_type": "code",
   "execution_count": 19,
   "metadata": {},
   "outputs": [],
   "source": [
    "# part 1\n",
    "example = '''\n",
    "########\n",
    "#..O.O.#\n",
    "##@.O..#\n",
    "#...O..#\n",
    "#.#.O..#\n",
    "#...O..#\n",
    "#......#\n",
    "########\n",
    "\n",
    "<^^>>>vv<v>>v<<\n",
    "'''.split('\\n')[1:-1]"
   ]
  },
  {
   "cell_type": "code",
   "execution_count": null,
   "metadata": {},
   "outputs": [
    {
     "name": "stdout",
     "output_type": "stream",
     "text": [
      "[['#' '#' '#' '#' '#' '#' '#' '#']\n",
      " ['#' '.' '.' 'O' '.' 'O' '.' '#']\n",
      " ['#' '#' '@' '.' 'O' '.' '.' '#']\n",
      " ['#' '.' '.' '.' 'O' '.' '.' '#']\n",
      " ['#' '.' '#' '.' 'O' '.' '.' '#']\n",
      " ['#' '.' '.' '.' 'O' '.' '.' '#']\n",
      " ['#' '.' '.' '.' '.' '.' '.' '#']\n",
      " ['#' '#' '#' '#' '#' '#' '#' '#']]\n",
      "['<' '^' '^' '>' '>' '>' 'v' 'v' '<' 'v' '>' '>' 'v' '<' '<']\n",
      "part 1: 2028\n",
      "part 2: 0\n"
     ]
    }
   ],
   "source": [
    "def solve_day(data):\n",
    "    part1 = 0\n",
    "    part2 = 0\n",
    "\n",
    "    warehouse = []\n",
    "    inwarehouselines = True\n",
    "    moves = ''\n",
    "    for line in data:\n",
    "        if len(line) == 0:\n",
    "            inwarehouselines = False\n",
    "        elif inwarehouselines:\n",
    "            warehouse.append(list(line))\n",
    "        else:\n",
    "            moves += line\n",
    "    warehouse = np.array(warehouse)\n",
    "    moves = np.array(list(moves))\n",
    "\n",
    "    # print(warehouse)\n",
    "    # print(moves)\n",
    "\n",
    "    start = np.argwhere(warehouse == '@')[0]\n",
    "\n",
    "    directions = np.array([[1, 0], [0, 1]])\n",
    "\n",
    "    def try_move_object(obj, pos, direction, warehouse):\n",
    "        new_pos = pos + direction\n",
    "        if warehouse[tuple(new_pos)] == '.':\n",
    "            warehouse[tuple(new_pos)] = obj\n",
    "            warehouse[tuple(pos)] = '.'\n",
    "            return new_pos\n",
    "        elif warehouse[tuple(new_pos)] == 'O':\n",
    "            success = try_move_object('O', new_pos, direction, warehouse)\n",
    "            success = success is not False\n",
    "            if success:\n",
    "                warehouse[tuple(new_pos)] = obj\n",
    "                warehouse[tuple(pos)] = '.'\n",
    "                return new_pos\n",
    "            else:\n",
    "                return False\n",
    "        else:\n",
    "            return False\n",
    "\n",
    "    pos = start\n",
    "    for move in moves:\n",
    "        # print(move)\n",
    "        if move == '^':\n",
    "            new_pos = try_move_object('@', pos, -directions[0], warehouse)\n",
    "            if new_pos is not False:\n",
    "                pos = new_pos\n",
    "        elif move == 'v':\n",
    "            new_pos = try_move_object('@', pos, directions[0], warehouse)\n",
    "            if new_pos is not False:\n",
    "                pos = new_pos\n",
    "        elif move == '<':\n",
    "            new_pos = try_move_object('@', pos, -directions[1], warehouse)\n",
    "            if new_pos is not False:\n",
    "                pos = new_pos\n",
    "        elif move == '>':\n",
    "            new_pos = try_move_object('@', pos, directions[1], warehouse)\n",
    "            if new_pos is not False:\n",
    "                pos = new_pos\n",
    "                    \n",
    "        # print(warehouse)\n",
    "\n",
    "    all_boxes = np.argwhere(warehouse == 'O')\n",
    "\n",
    "    part1 = np.sum(all_boxes * np.array([100, 1]))\n",
    "\n",
    "\n",
    "    print(\"part 1:\", part1)\n",
    "    print(\"part 2:\", part2)\n",
    "\n",
    "solve_day(example)"
   ]
  },
  {
   "cell_type": "code",
   "execution_count": 24,
   "metadata": {},
   "outputs": [
    {
     "name": "stdout",
     "output_type": "stream",
     "text": [
      "[['#' '#' '#' ... '#' '#' '#']\n",
      " ['#' '.' 'O' ... '.' 'O' '#']\n",
      " ['#' '.' '.' ... '#' '.' '#']\n",
      " ...\n",
      " ['#' 'O' 'O' ... 'O' '.' '#']\n",
      " ['#' '.' '.' ... '.' '.' '#']\n",
      " ['#' '#' '#' ... '#' '#' '#']]\n",
      "['^' '>' '<' ... 'v' 'v' 'v']\n",
      "part 1: 1577255\n",
      "part 2: 0\n"
     ]
    }
   ],
   "source": [
    "solve_day(input_data)"
   ]
  }
 ],
 "metadata": {
  "kernelspec": {
   "display_name": "Python 3",
   "language": "python",
   "name": "python3"
  },
  "language_info": {
   "codemirror_mode": {
    "name": "ipython",
    "version": 3
   },
   "file_extension": ".py",
   "mimetype": "text/x-python",
   "name": "python",
   "nbconvert_exporter": "python",
   "pygments_lexer": "ipython3",
   "version": "3.13.0"
  }
 },
 "nbformat": 4,
 "nbformat_minor": 2
}
