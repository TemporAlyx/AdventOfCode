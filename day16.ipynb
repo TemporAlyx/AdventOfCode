{
 "cells": [
  {
   "cell_type": "code",
   "execution_count": 74,
   "metadata": {},
   "outputs": [
    {
     "name": "stdout",
     "output_type": "stream",
     "text": [
      "Day 16 input already downloaded\n"
     ]
    },
    {
     "data": {
      "text/plain": [
       "['\\\\...|.........\\\\........./.................\\\\...\\\\.../.\\\\/../|....\\\\................./..../........-\\\\..-.\\\\-..../...',\n",
       " '...|....\\\\................../.............../-....--..........-......-......\\\\....-........../-..............|..',\n",
       " '..............\\\\....../.........../...................|.........\\\\.................|.-................../.......',\n",
       " '.........................\\\\........../..-........./.../..........|....................-....\\\\./.........|.......',\n",
       " '.-.......\\\\......-.-................|......................................-..............\\\\......./............',\n",
       " '............|...|..|.|............................../-..........\\\\..\\\\.......................................\\\\-.',\n",
       " '...|.|.\\\\........./......|....|......./............/...\\\\......../.../.........../.../............/.-...-.|.....']"
      ]
     },
     "execution_count": 74,
     "metadata": {},
     "output_type": "execute_result"
    }
   ],
   "source": [
    "from AOC_utils import get_day\n",
    "import numpy as np\n",
    "\n",
    "day = 16\n",
    "input_data = get_day(day)\n",
    "\n",
    "# print out first few lines to get a feel for the data\n",
    "input_data[:7]"
   ]
  },
  {
   "cell_type": "code",
   "execution_count": 75,
   "metadata": {},
   "outputs": [],
   "source": [
    "example = '''\n",
    ".|...\\\\....\n",
    "|.-.\\\\.....\n",
    ".....|-...\n",
    "........|.\n",
    "..........\n",
    ".........\\\\\n",
    "..../.\\\\\\\\..\n",
    ".-.-/..|..\n",
    ".|....-|.\\\\\n",
    "..//.|....\n",
    "'''.split('\\n')[1:-1]"
   ]
  },
  {
   "cell_type": "code",
   "execution_count": 76,
   "metadata": {},
   "outputs": [],
   "source": [
    "def parse_data(data):\n",
    "    data = [[x for x in line] for line in data]\n",
    "    data = np.array(data)\n",
    "\n",
    "    direction_to_int = {'down':0, 'right':1, 'up':2, 'left':3}\n",
    "\n",
    "    def get_energized_tiles(input_start, input_direction):\n",
    "        tiles = np.zeros_like(data, dtype=int)\n",
    "        tiles_directions = np.zeros((len(data), len(data[0]), 4), dtype=int)\n",
    "        stack = [(input_start,input_direction)]\n",
    "        while len(stack) > 0:\n",
    "            start, direction = stack.pop()\n",
    "            if not (start[0] >= len(data) or start[1] >= len(data[:,0]) or start[0] < 0 or start[1] < 0):\n",
    "                if tiles_directions[start][direction_to_int[direction]] > 0:\n",
    "                    continue\n",
    "                tiles_directions[start][direction_to_int[direction]] += 1\n",
    "\n",
    "            next_space = None\n",
    "            if direction == 'down': next_space = (start[0]+1, start[1])\n",
    "            elif direction == 'right': next_space = (start[0], start[1]+1)\n",
    "            elif direction == 'up': next_space = (start[0]-1, start[1])\n",
    "            elif direction == 'left': next_space = (start[0], start[1]-1)\n",
    "\n",
    "            # check for out of bounds\n",
    "            if next_space[0] >= len(data) or next_space[1] >= len(data[:,0]) or next_space[0] < 0 or next_space[1] < 0:\n",
    "                continue\n",
    "            \n",
    "            tiles[next_space] += 1\n",
    "\n",
    "            if data[next_space] == '.':\n",
    "                stack.append((next_space, direction))\n",
    "            elif data[next_space] == '/':\n",
    "                if direction == 'down': stack.append((next_space, 'left'))\n",
    "                elif direction == 'left': stack.append((next_space, 'down'))\n",
    "                elif direction == 'up': stack.append((next_space, 'right'))\n",
    "                elif direction == 'right': stack.append((next_space, 'up'))\n",
    "            elif data[next_space] == '\\\\':\n",
    "                if direction == 'down': stack.append((next_space, 'right'))\n",
    "                elif direction == 'right': stack.append((next_space, 'down'))\n",
    "                elif direction == 'up': stack.append((next_space, 'left'))\n",
    "                elif direction == 'left': stack.append((next_space, 'up'))\n",
    "            elif data[next_space] == '|':\n",
    "                if direction == 'down': stack.append((next_space, 'down'))\n",
    "                elif direction == 'up': stack.append((next_space, 'up'))\n",
    "                elif direction == 'right' or direction == 'left':\n",
    "                    stack.append((next_space, 'up'))\n",
    "                    stack.append((next_space, 'down'))\n",
    "            elif data[next_space] == '-':\n",
    "                if direction == 'down' or direction == 'up':\n",
    "                    stack.append((next_space, 'left'))\n",
    "                    stack.append((next_space, 'right'))\n",
    "                elif direction == 'right': stack.append((next_space, 'right'))\n",
    "                elif direction == 'left': stack.append((next_space, 'left'))\n",
    "        return (tiles > 0).sum()\n",
    "\n",
    "    print(\"part 1:\", get_energized_tiles((0,-1),'right'))\n",
    "\n",
    "    tile_energies = []\n",
    "    for i in range(0,len(data)):\n",
    "        tile_energies.append(get_energized_tiles((-1,i),'down'))\n",
    "        tile_energies.append(get_energized_tiles((len(data),i),'up'))\n",
    "    for i in range(0,len(data[0])):\n",
    "        tile_energies.append(get_energized_tiles((i,-1),'right'))\n",
    "        tile_energies.append(get_energized_tiles((i,len(data[0])),'left'))\n",
    "\n",
    "    total2 = max(tile_energies)\n",
    "    print(\"part 2:\", total2)"
   ]
  },
  {
   "cell_type": "code",
   "execution_count": 77,
   "metadata": {},
   "outputs": [
    {
     "name": "stdout",
     "output_type": "stream",
     "text": [
      "part 1: 8146\n",
      "part 2: 8358\n"
     ]
    }
   ],
   "source": [
    "parse_data(input_data)"
   ]
  },
  {
   "cell_type": "code",
   "execution_count": 78,
   "metadata": {},
   "outputs": [
    {
     "name": "stdout",
     "output_type": "stream",
     "text": [
      "part 1: 46\n",
      "part 2: 51\n"
     ]
    }
   ],
   "source": [
    "parse_data(example)"
   ]
  }
 ],
 "metadata": {
  "kernelspec": {
   "display_name": "Python 3",
   "language": "python",
   "name": "python3"
  },
  "language_info": {
   "codemirror_mode": {
    "name": "ipython",
    "version": 3
   },
   "file_extension": ".py",
   "mimetype": "text/x-python",
   "name": "python",
   "nbconvert_exporter": "python",
   "pygments_lexer": "ipython3",
   "version": "3.10.11"
  }
 },
 "nbformat": 4,
 "nbformat_minor": 2
}
