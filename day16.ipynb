{
 "cells": [
  {
   "cell_type": "code",
   "execution_count": 2,
   "metadata": {},
   "outputs": [
    {
     "name": "stdout",
     "output_type": "stream",
     "text": [
      "Day 16 input already downloaded\n",
      "141\n"
     ]
    },
    {
     "data": {
      "text/plain": [
       "['#############################################################################################################################################',\n",
       " '#...................#...#...#.......#.........#.......#.........#...#.....#.............#.........#.....#.....#...............#............E#',\n",
       " '#.#################.#.#.#.#.#.#.###.#.#.#.#####.###.###.#.#####.#.#.###.#.#.#.#########.###.#.###.###.###.###.#.#######.#####.###.#######.#.#',\n",
       " '#.........#.#.....#.#.#.#.#...#.#.#.#.#.......#.#.#.....#...#.....#.....#...#.#...#...#...#.#.#.#...#.......#...#.#...#.#...#.....#...#...#.#',\n",
       " '#.#######.#.#.#.###.#.#.#.#####.#.#.#.###.###.#.#.#######.#.#########.#.#####.#.#.#.#.###.###.#.###.#######.###.#.#.#.#.#.#########.###.###.#',\n",
       " '#.#...#...#.#.#...#.#.#...#.....#.#.#.....#.......................#.#.#...#...#.#...#...#.....#...#.......#.#.....#.#.#.#...................#',\n",
       " '#.###.#.###.#.###.#.#######.#####.#.#####.#.###.#.#.#############.#.#.###.#.#.#.#######.#########.#######.#.#.###.#.#.#.###.#.#####.#.#.#.###']"
      ]
     },
     "execution_count": 2,
     "metadata": {},
     "output_type": "execute_result"
    }
   ],
   "source": [
    "from AOC_utils import get_day\n",
    "import numpy as np\n",
    "\n",
    "day = 16\n",
    "input_data = get_day(day)\n",
    "\n",
    "# print out first few lines to get a feel for the data\n",
    "print(len(input_data))\n",
    "input_data[:7]"
   ]
  },
  {
   "cell_type": "code",
   "execution_count": 3,
   "metadata": {},
   "outputs": [],
   "source": [
    "# part 1\n",
    "example = '''\n",
    "###############\n",
    "#.......#....E#\n",
    "#.#.###.#.###.#\n",
    "#.....#.#...#.#\n",
    "#.###.#####.#.#\n",
    "#.#.#.......#.#\n",
    "#.#.#####.###.#\n",
    "#...........#.#\n",
    "###.#.#####.#.#\n",
    "#...#.....#.#.#\n",
    "#.#.#.###.#.#.#\n",
    "#.....#...#.#.#\n",
    "#.###.#.#.#.#.#\n",
    "#S..#.....#...#\n",
    "###############\n",
    "'''.split('\\n')[1:-1]"
   ]
  },
  {
   "cell_type": "code",
   "execution_count": 48,
   "metadata": {},
   "outputs": [
    {
     "name": "stdout",
     "output_type": "stream",
     "text": [
      "[13  1] [ 1 13]\n",
      "part 1: 7036\n",
      "part 2: 45\n"
     ]
    }
   ],
   "source": [
    "import heapq\n",
    "from itertools import count\n",
    "\n",
    "tiebreaker = count()\n",
    "\n",
    "def solve_day(data):\n",
    "    part1 = 0\n",
    "    part2 = 0\n",
    "\n",
    "    data = np.array([list(x) for x in data]) # 2d array\n",
    "    \n",
    "    start = np.argwhere(data == 'S')[0]\n",
    "    end = np.argwhere(data == 'E')[0]\n",
    "    print(start, end)\n",
    "\n",
    "    directions = np.array([[0, 1], [1, 0], [0, -1], [-1, 0]])\n",
    "\n",
    "    paths = []\n",
    "    paths.append((0, (np.sum(np.abs(start - end)), 0, next(tiebreaker), start, np.array([0, 1]), 0, 0, [start])))\n",
    "\n",
    "    part1 = np.inf\n",
    "\n",
    "    # def dfs(path, current_direction):\n",
    "    # get surrounding positions\n",
    "    explored = {}\n",
    "    explored[str(start)] = 0\n",
    "    breakout = False\n",
    "    best_paths = set()\n",
    "    while paths:\n",
    "        cost_tie_pos_dir = heapq.heappop(paths)\n",
    "        cost, tie_pos_dir = cost_tie_pos_dir\n",
    "        dist, real, _, pos, current_direction, steps, turns, prev_path = tie_pos_dir\n",
    "        # print(pos, cost, tie_pos_dir)\n",
    "        if str(pos) in explored:\n",
    "            if real < explored[str(pos)]:\n",
    "                explored[str(pos)] = real\n",
    "            if explored[str(pos)] + 3000 < real:\n",
    "                continue\n",
    "        else:\n",
    "            explored[str(pos)] = real\n",
    "        for direction in directions[np.any(directions != -current_direction, axis=-1)]:\n",
    "            new_pos = pos + direction\n",
    "            if data[tuple(new_pos)] == '#':\n",
    "                continue\n",
    "            rotation_cost = 1 if np.sum(np.abs(direction - current_direction)) == 2 else 0\n",
    "            new_cost = int(real + 1 + (rotation_cost * 1000))\n",
    "            dist_to_end = np.sum(np.abs(new_pos - end))\n",
    "            if np.all(new_pos == end):\n",
    "                part1 = new_cost\n",
    "\n",
    "                for element in prev_path + [new_pos]:\n",
    "                    best_paths.add(str(element))\n",
    "                \n",
    "                # print((new_cost+dist_to_end, (dist_to_end, new_cost, next(tiebreaker), new_pos, direction, steps+1, turns+rotation_cost, prev_path + [new_pos])))\n",
    "                # print(data[np.array(prev_path)[:,0], np.array(prev_path)[:,1]])\n",
    "                # breakout = True\n",
    "                break\n",
    "            if new_cost < part1:\n",
    "                heapq.heappush(paths, (new_cost+dist_to_end, (dist_to_end, new_cost, next(tiebreaker), new_pos, direction, steps+1, turns+rotation_cost, prev_path + [new_pos])))\n",
    "        if breakout:\n",
    "            break\n",
    "        # if real > 12000:\n",
    "        #     break\n",
    "\n",
    "    part2 = len(best_paths)\n",
    "\n",
    "    # print(explored)\n",
    "\n",
    "    print(\"part 1:\", part1)\n",
    "    print(\"part 2:\", part2)\n",
    "\n",
    "solve_day(example)"
   ]
  },
  {
   "cell_type": "code",
   "execution_count": 49,
   "metadata": {},
   "outputs": [
    {
     "name": "stdout",
     "output_type": "stream",
     "text": [
      "[139   1] [  1 139]\n",
      "part 1: 135512\n",
      "part 2: 541\n"
     ]
    }
   ],
   "source": [
    "solve_day(input_data)"
   ]
  }
 ],
 "metadata": {
  "kernelspec": {
   "display_name": "Python 3",
   "language": "python",
   "name": "python3"
  },
  "language_info": {
   "codemirror_mode": {
    "name": "ipython",
    "version": 3
   },
   "file_extension": ".py",
   "mimetype": "text/x-python",
   "name": "python",
   "nbconvert_exporter": "python",
   "pygments_lexer": "ipython3",
   "version": "3.13.0"
  }
 },
 "nbformat": 4,
 "nbformat_minor": 2
}
